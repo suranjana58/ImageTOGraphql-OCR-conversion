{
 "cells": [
  {
   "cell_type": "code",
   "execution_count": 1,
   "id": "5bef07bf",
   "metadata": {},
   "outputs": [],
   "source": [
    "from PIL import Image\n",
    "import pytesseract\n",
    "from pytesseract import Output\n",
    "import numpy as np\n",
    "import matplotlib.pyplot as plt\n",
    "import cv2\n",
    "import pandas as pd\n",
    "import os "
   ]
  },
  {
   "cell_type": "code",
   "execution_count": 2,
   "id": "c4fe9074",
   "metadata": {},
   "outputs": [],
   "source": [
    "folders = [x[0] for x in os.walk(\"/Users/minhthao/Desktop/MSDA/Summer 2023/Bloomberg/SPLC Images/Companies\")]"
   ]
  },
  {
   "cell_type": "code",
   "execution_count": 6,
   "id": "b6f0b914",
   "metadata": {},
   "outputs": [],
   "source": [
    "folders = [ x for x in folders if \"Customers\" not in x ]\n",
    "folders = [ x for x in folders if \"Suppliers\" not in x ]"
   ]
  },
  {
   "cell_type": "code",
   "execution_count": 8,
   "id": "559391ee",
   "metadata": {},
   "outputs": [
    {
     "data": {
      "text/plain": [
       "272"
      ]
     },
     "execution_count": 8,
     "metadata": {},
     "output_type": "execute_result"
    }
   ],
   "source": [
    "len(folders)"
   ]
  },
  {
   "cell_type": "code",
   "execution_count": 22,
   "id": "dcb8a935",
   "metadata": {},
   "outputs": [],
   "source": [
    "tickers = pd.read_excel(\"/Users/minhthao/Desktop/MSDA/Summer 2023/Bloomberg/SPLC Images/thao_tickers.xlsx\")"
   ]
  },
  {
   "cell_type": "code",
   "execution_count": 23,
   "id": "67d5d008",
   "metadata": {},
   "outputs": [
    {
     "data": {
      "text/html": [
       "<div>\n",
       "<style scoped>\n",
       "    .dataframe tbody tr th:only-of-type {\n",
       "        vertical-align: middle;\n",
       "    }\n",
       "\n",
       "    .dataframe tbody tr th {\n",
       "        vertical-align: top;\n",
       "    }\n",
       "\n",
       "    .dataframe thead th {\n",
       "        text-align: right;\n",
       "    }\n",
       "</style>\n",
       "<table border=\"1\" class=\"dataframe\">\n",
       "  <thead>\n",
       "    <tr style=\"text-align: right;\">\n",
       "      <th></th>\n",
       "      <th>tickers</th>\n",
       "    </tr>\n",
       "  </thead>\n",
       "  <tbody>\n",
       "    <tr>\n",
       "      <th>0</th>\n",
       "      <td>FRPT</td>\n",
       "    </tr>\n",
       "    <tr>\n",
       "      <th>1</th>\n",
       "      <td>VWR</td>\n",
       "    </tr>\n",
       "    <tr>\n",
       "      <th>2</th>\n",
       "      <td>SKYS</td>\n",
       "    </tr>\n",
       "    <tr>\n",
       "      <th>3</th>\n",
       "      <td>BSGM</td>\n",
       "    </tr>\n",
       "    <tr>\n",
       "      <th>4</th>\n",
       "      <td>ANN</td>\n",
       "    </tr>\n",
       "    <tr>\n",
       "      <th>...</th>\n",
       "      <td>...</td>\n",
       "    </tr>\n",
       "    <tr>\n",
       "      <th>266</th>\n",
       "      <td>AXSM</td>\n",
       "    </tr>\n",
       "    <tr>\n",
       "      <th>267</th>\n",
       "      <td>ARTL</td>\n",
       "    </tr>\n",
       "    <tr>\n",
       "      <th>268</th>\n",
       "      <td>APLS</td>\n",
       "    </tr>\n",
       "    <tr>\n",
       "      <th>269</th>\n",
       "      <td>BGNE</td>\n",
       "    </tr>\n",
       "    <tr>\n",
       "      <th>270</th>\n",
       "      <td>MRUS</td>\n",
       "    </tr>\n",
       "  </tbody>\n",
       "</table>\n",
       "<p>271 rows × 1 columns</p>\n",
       "</div>"
      ],
      "text/plain": [
       "    tickers\n",
       "0      FRPT\n",
       "1       VWR\n",
       "2      SKYS\n",
       "3      BSGM\n",
       "4       ANN\n",
       "..      ...\n",
       "266    AXSM\n",
       "267    ARTL\n",
       "268    APLS\n",
       "269    BGNE\n",
       "270    MRUS\n",
       "\n",
       "[271 rows x 1 columns]"
      ]
     },
     "execution_count": 23,
     "metadata": {},
     "output_type": "execute_result"
    }
   ],
   "source": [
    "tickers"
   ]
  },
  {
   "cell_type": "code",
   "execution_count": 25,
   "id": "452e9064",
   "metadata": {},
   "outputs": [],
   "source": [
    "np.save('thao_tickers', tickers[\"tickers\"])"
   ]
  },
  {
   "cell_type": "markdown",
   "id": "c27d4297",
   "metadata": {},
   "source": [
    "## All the functions for OCR"
   ]
  },
  {
   "cell_type": "code",
   "execution_count": 28,
   "id": "5173f1f8",
   "metadata": {},
   "outputs": [],
   "source": [
    "def get_crop_dimensions(image):\n",
    "    hsv_image = cv2.cvtColor(image, cv2.COLOR_BGR2HSV)\n",
    "    \n",
    "    lower_orange = np.array([0, 50, 50])\n",
    "    upper_orange = np.array([20, 255, 255])\n",
    "    \n",
    "    mask = cv2.inRange(hsv_image, lower_orange, upper_orange)\n",
    "    \n",
    "    kernel = np.ones((5, 5), np.uint8)\n",
    "    mask = cv2.morphologyEx(mask, cv2.MORPH_OPEN, kernel)\n",
    "    \n",
    "    contours, _ = cv2.findContours(mask, cv2.RETR_EXTERNAL, cv2.CHAIN_APPROX_SIMPLE)\n",
    "    sorted_contours = sorted(contours, key=lambda c: cv2.boundingRect(c)[0])\n",
    "    \n",
    "    return sorted_contours[0][1][0][1], sorted_contours[0][0][0][0], sorted_contours[-1][2][0][0]"
   ]
  },
  {
   "cell_type": "code",
   "execution_count": 29,
   "id": "ad32817e",
   "metadata": {},
   "outputs": [],
   "source": [
    "def image_process(image):\n",
    "\n",
    "    gray_image = cv2.cvtColor(image, cv2.COLOR_BGR2GRAY)\n",
    "    inverted_image = 255 - gray_image\n",
    "\n",
    "    threshold_value = 200  # Threshold value (0-255)\n",
    "    _, binary_image = cv2.threshold(inverted_image, threshold_value, 255, cv2.THRESH_BINARY)\n",
    "\n",
    "    edges = cv2.Canny(binary_image, 50, 150)\n",
    "\n",
    "    lines = cv2.HoughLinesP(edges, 1, np.pi / 180, threshold=100, minLineLength=100, maxLineGap=10)\n",
    "    \n",
    "    return lines"
   ]
  },
  {
   "cell_type": "code",
   "execution_count": 30,
   "id": "764be035",
   "metadata": {},
   "outputs": [],
   "source": [
    "def get_images(image1, filtered_array):\n",
    "    company = image1[:, :filtered_array[0,0]]\n",
    "    indus = image1[:, filtered_array[0,0]:filtered_array[1,0]]\n",
    "    mkt = image1[:, filtered_array[1,0]:filtered_array[2,0]]\n",
    "    rel = image1[:, filtered_array[2,0]:filtered_array[3,0]]\n",
    "    per = image1[:, filtered_array[3,0]:filtered_array[4,0]]\n",
    "    cat = image1[:, filtered_array[4,0]:filtered_array[5,0]]\n",
    "    suprev = image1[:, filtered_array[5,0]:filtered_array[6,0]]\n",
    "    source = image1[:, filtered_array[6,0]:filtered_array[7,0]]\n",
    "    size = image1[:, filtered_array[7,0]:]\n",
    "    \n",
    "    return [company, indus, mkt, rel, per, cat, suprev, source, size]"
   ]
  },
  {
   "cell_type": "code",
   "execution_count": 130,
   "id": "b36fa68a",
   "metadata": {},
   "outputs": [],
   "source": [
    "def get_supplier_dict():\n",
    "    dict1 = {'Company': [], 'Industry': [], 'Mkt Cap (M)':[],'Relationship Size (M)':[], \n",
    "         '% Cost':[], 'Cost Cat':[], 'Supplier Rev':[], 'Source':[], 'Size Source': []   \n",
    "            }\n",
    "    \n",
    "    return dict1"
   ]
  },
  {
   "cell_type": "code",
   "execution_count": 131,
   "id": "ec5df95b",
   "metadata": {},
   "outputs": [],
   "source": [
    "def get_customer_dict():\n",
    "    dict1 = {'Company': [], 'Industry': [], 'Mkt Cap (M)':[],'Relationship Size (M)':[], \n",
    "         '% Rev':[], '% Customer Cost':[], 'Customer Cost Cat':[], 'Source':[], 'Size Source': []   \n",
    "            }\n",
    "\n",
    "    return dict1"
   ]
  },
  {
   "cell_type": "code",
   "execution_count": 32,
   "id": "2ced6e2c",
   "metadata": {},
   "outputs": [],
   "source": [
    "def process(image):\n",
    "    imgss = cv2.resize(image, None, fx=1.3, fy=1.3, interpolation=cv2.INTER_CUBIC)\n",
    "    text = pytesseract.image_to_string(imgss, lang='eng', config='--psm 11')\n",
    "    return text"
   ]
  },
  {
   "cell_type": "code",
   "execution_count": 33,
   "id": "f5b1d826",
   "metadata": {},
   "outputs": [],
   "source": [
    "def text_clean(text):\n",
    "    lines = text.split(\"\\n\")\n",
    "    lines = [x for x in lines if x]\n",
    "    return lines "
   ]
  },
  {
   "cell_type": "code",
   "execution_count": 34,
   "id": "478eebb9",
   "metadata": {},
   "outputs": [],
   "source": [
    "def find_rows(image):\n",
    "    text = process(image)\n",
    "    lines = text_clean(text)\n",
    "    return len(lines)"
   ]
  },
  {
   "cell_type": "code",
   "execution_count": 35,
   "id": "7a322f81",
   "metadata": {},
   "outputs": [],
   "source": [
    "def clean_lines(lines):\n",
    "    big_lines = []\n",
    "    for line in lines:\n",
    "        x1, y1, x2, y2 = line[0]\n",
    "        if y1 - y2 >500:\n",
    "            big_lines.append([x1, y1, x2, y2])\n",
    "            \n",
    "    return big_lines"
   ]
  },
  {
   "cell_type": "code",
   "execution_count": 36,
   "id": "b1139c44",
   "metadata": {},
   "outputs": [],
   "source": [
    "def filtering_lines(big_lines):\n",
    "    array = np.array(big_lines)\n",
    "    sort_array = array[np.argsort(array[:, 0])]\n",
    "\n",
    "    for row in sort_array:\n",
    "        if row[3] > 0:\n",
    "            row[3] = 0\n",
    "\n",
    "    diff = np.abs(np.diff(sort_array[:, 0]))\n",
    "    mask = np.concatenate(([True], diff > 5))\n",
    "\n",
    "    return sort_array[mask]    "
   ]
  },
  {
   "cell_type": "code",
   "execution_count": 37,
   "id": "af36fb73",
   "metadata": {},
   "outputs": [],
   "source": [
    "columns = ['Company', 'Industry', 'Mkt Cap (M)', 'Relationship Size (M)', '% Cost',\n",
    "           'Cost Cat', 'Supplier Rev', 'Source', 'Size Source']"
   ]
  },
  {
   "cell_type": "markdown",
   "id": "72798c63",
   "metadata": {},
   "source": [
    "### Loading the ticker file"
   ]
  },
  {
   "cell_type": "code",
   "execution_count": 121,
   "id": "e446fae1",
   "metadata": {},
   "outputs": [],
   "source": [
    "tickers = np.load('/Users/minhthao/Desktop/MSDA/Summer 2023/Bloomberg/thao_tickers.npy', allow_pickle=True)"
   ]
  },
  {
   "cell_type": "markdown",
   "id": "4560f0fa",
   "metadata": {},
   "source": [
    "## Main function"
   ]
  },
  {
   "cell_type": "markdown",
   "id": "3fb51f2a",
   "metadata": {},
   "source": [
    "1. The current code is only running the code for pictures in Suppliers (folders[0])\n",
    "2. You can change to customers or add an additional for loop for all the images. "
   ]
  },
  {
   "cell_type": "code",
   "execution_count": 120,
   "id": "aa099aa7",
   "metadata": {},
   "outputs": [
    {
     "data": {
      "text/plain": [
       "array([270])"
      ]
     },
     "execution_count": 120,
     "metadata": {},
     "output_type": "execute_result"
    }
   ],
   "source": [
    "np.where(tickers==\"MRUS\")[0]"
   ]
  },
  {
   "cell_type": "code",
   "execution_count": 146,
   "id": "fb602235",
   "metadata": {
    "scrolled": true
   },
   "outputs": [
    {
     "name": "stdout",
     "output_type": "stream",
     "text": [
      "Number of images for Suppliers for LILAK is 1\n",
      "          LILAK          \n",
      "Ticker: LILAK ---  Image number: S 1\n",
      "Number of companies: 18\n",
      "Successful\n",
      "Successful\n",
      "Successful\n",
      "Successful\n",
      "Successful\n",
      "Successful\n",
      "Successful\n",
      "Successful\n",
      "Successful\n",
      "--------------------------------------------------------------------------------------\n",
      "Number of images for Suppliers for AMSC is 1\n",
      "          AMSC          \n",
      "Ticker: AMSC ---  Image number: S 1\n",
      "Number of companies: 8\n",
      "Successful\n",
      "Successful\n",
      "Successful\n",
      "Changed/Editted\n",
      "Changed/Editted\n",
      "Changed/Editted\n",
      "Changed/Editted\n",
      "Successful\n",
      "Changed/Editted\n",
      "--------------------------------------------------------------------------------------\n",
      "Number of images for Suppliers for HRNNF is 1\n",
      "          HRNNF          \n",
      "Ticker: HRNNF ---  Image number: S 1\n",
      "Number of companies: 8\n",
      "Successful\n",
      "Successful\n",
      "Successful\n",
      "Successful\n",
      "Successful\n",
      "Successful\n",
      "Successful\n",
      "Successful\n",
      "Successful\n",
      "--------------------------------------------------------------------------------------\n",
      "Number of images for Suppliers for LCTX is 1\n",
      "          LCTX          \n",
      "Ticker: LCTX ---  Image number: S 1\n",
      "Number of companies: 12\n",
      "Successful\n",
      "Successful\n",
      "Successful\n",
      "Successful\n",
      "Successful\n",
      "Successful\n",
      "Successful\n",
      "Successful\n",
      "Successful\n",
      "--------------------------------------------------------------------------------------\n",
      "Number of images for Suppliers for LIN is 1\n",
      "          LIN          \n",
      "Ticker: LIN ---  Image number: S 1\n",
      "Number of companies: 17\n",
      "Successful\n",
      "Successful\n",
      "Successful\n",
      "Successful\n",
      "Successful\n",
      "Successful\n",
      "Successful\n",
      "Successful\n",
      "Successful\n",
      "--------------------------------------------------------------------------------------\n",
      "Number of images for Suppliers for KOPN is 1\n",
      "          KOPN          \n",
      "Ticker: KOPN ---  Image number: S 1\n",
      "Number of companies: 9\n",
      "Successful\n",
      "Successful\n",
      "Successful\n",
      "Successful\n",
      "Successful\n",
      "Successful\n",
      "Successful\n",
      "Successful\n",
      "Successful\n",
      "--------------------------------------------------------------------------------------\n",
      "Number of images for Suppliers for SNMSF is 1\n",
      "          SNMSF          \n",
      "Ticker: SNMSF ---  Image number: S 1\n",
      "Number of companies: 19\n",
      "Successful\n",
      "Successful\n",
      "Successful\n",
      "Successful\n",
      "Successful\n",
      "Successful\n",
      "Successful\n",
      "Successful\n",
      "Successful\n",
      "--------------------------------------------------------------------------------------\n",
      "Number of images for Suppliers for CAKE is 1\n",
      "          CAKE          \n",
      "Ticker: CAKE ---  Image number: S 1\n",
      "Number of companies: 16\n",
      "Successful\n",
      "Successful\n",
      "Successful\n",
      "Successful\n",
      "Successful\n",
      "Successful\n",
      "Successful\n",
      "Successful\n",
      "Successful\n",
      "--------------------------------------------------------------------------------------\n",
      "Number of images for Suppliers for BAMM is 1\n",
      "          BAMM          \n",
      "Ticker: BAMM ---  Image number: S 1\n",
      "Number of companies: 11\n",
      "Successful\n",
      "Successful\n",
      "Successful\n",
      "Changed/Editted\n",
      "Changed/Editted\n",
      "Changed/Editted\n",
      "Changed/Editted\n",
      "Successful\n",
      "Changed/Editted\n",
      "--------------------------------------------------------------------------------------\n",
      "Number of images for Suppliers for HOME is 1\n",
      "          HOME          \n",
      "Ticker: HOME ---  Image number: S 1\n",
      "Number of companies: 19\n",
      "Successful\n",
      "Successful\n",
      "Successful\n",
      "Successful\n",
      "Successful\n",
      "Successful\n",
      "Successful\n",
      "Successful\n",
      "Successful\n",
      "--------------------------------------------------------------------------------------\n",
      "Number of images for Suppliers for DLTH is 1\n",
      "          DLTH          \n",
      "Ticker: DLTH ---  Image number: S 1\n",
      "Number of companies: 16\n",
      "Successful\n",
      "Successful\n",
      "Successful\n",
      "Successful\n",
      "Successful\n",
      "Successful\n",
      "Successful\n",
      "Successful\n",
      "Successful\n",
      "--------------------------------------------------------------------------------------\n"
     ]
    }
   ],
   "source": [
    "# Suppliers\n",
    "folders = ['Suppliers', 'Customers']\n",
    "main_dir = '/Users/minhthao/Desktop/MSDA/Summer 2023/Bloomberg/SPLC Images/Companies'\n",
    "tickers = ['LILAK','AMSC','HRNNF','LCTX', 'LIN','KOPN','SNMSF','CAKE','BAMM','HOME','DLTH']\n",
    "for ticker in tickers:\n",
    "    folder_path = os.path.join(os.path.join(main_dir, ticker), folders[0])\n",
    "    pics = os.listdir(folder_path)\n",
    "    print('Number of images for ' + folders[0] + ' for ' + ticker + ' is ' + str(len(pics)))\n",
    "    print('          ' + ticker + '          ')\n",
    "\n",
    "    for pic in pics:\n",
    "        image = cv2.imread(os.path.join(folder_path, pic))\n",
    "        image = image[279:-75,:]\n",
    "        y1, x1, x2 = get_crop_dimensions(image)\n",
    "        image = image[y1:,x1-5:x2+20]\n",
    "\n",
    "        print('Ticker: ' + ticker + ' ---  ' + 'Image number: ' + pic.split('.')[0])\n",
    "        data = get_supplier_dict()\n",
    "        lines = image_process(image)\n",
    "        big_lines = clean_lines(lines)\n",
    "        filtered_array = filtering_lines(big_lines)\n",
    "        # check if filtered_array has the expected number of elements\n",
    "        if len(filtered_array) < 8:\n",
    "            filtered_array = np.array([[ 364,  652,  364,    0],\n",
    "                                       [ 664,  652,  664,    0],\n",
    "                                       [ 803,  652,  803,    0],\n",
    "                                       [1105,  652, 1105,    0],\n",
    "                                       [1177,  652, 1177,    0],\n",
    "                                       [1271,  652, 1271,    0],\n",
    "                                       [1450,  652, 1450,    0],\n",
    "                                       [1713,  652, 1713,    0]])\n",
    "#             print(\"Error: filtered_array has insufficient elements\")\n",
    "#             error_companies.append(ticker)\n",
    "\n",
    "        images = get_images(image, filtered_array)\n",
    "        rows = find_rows(images[0])\n",
    "\n",
    "        print(\"Number of companies:\", rows)\n",
    "\n",
    "        for i in range(len(images)):\n",
    "            text = process(images[i])\n",
    "            lines = text_clean(text)\n",
    "            if len(lines)==rows:\n",
    "                print(\"Successful\")\n",
    "            else: \n",
    "                lines=['--'] * rows\n",
    "                print(\"Changed/Editted\")\n",
    "            data[columns[i]] = lines\n",
    "\n",
    "        df = pd.DataFrame(data)\n",
    "\n",
    "        csv_path = os.path.join(os.path.join('/Users/minhthao/Desktop/MSDA/Summer 2023/Bloomberg/SPLC Images/CSVs',ticker), folders[0])\n",
    "        csv_name = os.path.join(csv_path, pic).split('.')[0]+'.csv'\n",
    "\n",
    "        df.to_csv(csv_name, sep=',', index =False)\n",
    "\n",
    "    print('--------------------------------------------------------------------------------------')"
   ]
  },
  {
   "cell_type": "code",
   "execution_count": 140,
   "id": "d218a706",
   "metadata": {},
   "outputs": [
    {
     "data": {
      "text/plain": [
       "array([171])"
      ]
     },
     "execution_count": 140,
     "metadata": {},
     "output_type": "execute_result"
    }
   ],
   "source": [
    "np.where(tickers==\"MCFT\")[0]"
   ]
  },
  {
   "cell_type": "code",
   "execution_count": 152,
   "id": "48ff755b",
   "metadata": {},
   "outputs": [
    {
     "name": "stdout",
     "output_type": "stream",
     "text": [
      "Number of images for Customers for GNSS is 3\n",
      "          GNSS          \n",
      "Ticker: GNSS ---  Image number: C 1\n",
      "Number of companies: 21\n",
      "Successful\n",
      "Successful\n",
      "Successful\n",
      "Successful\n",
      "Successful\n",
      "Changed/Editted\n",
      "Changed/Editted\n",
      "Successful\n",
      "Successful\n",
      "Ticker: GNSS ---  Image number: C 2\n",
      "Number of companies: 21\n",
      "Successful\n",
      "Successful\n",
      "Successful\n",
      "Changed/Editted\n",
      "Changed/Editted\n",
      "Changed/Editted\n",
      "Changed/Editted\n",
      "Successful\n",
      "Changed/Editted\n",
      "Ticker: GNSS ---  Image number: C 3\n"
     ]
    },
    {
     "ename": "error",
     "evalue": "OpenCV(4.7.0) /Users/runner/work/opencv-python/opencv-python/opencv/modules/imgproc/src/color.cpp:182: error: (-215:Assertion failed) !_src.empty() in function 'cvtColor'\n",
     "output_type": "error",
     "traceback": [
      "\u001b[0;31m---------------------------------------------------------------------------\u001b[0m",
      "\u001b[0;31merror\u001b[0m                                     Traceback (most recent call last)",
      "Cell \u001b[0;32mIn[152], line 22\u001b[0m\n\u001b[1;32m     20\u001b[0m \u001b[38;5;28mprint\u001b[39m(\u001b[38;5;124m'\u001b[39m\u001b[38;5;124mTicker: \u001b[39m\u001b[38;5;124m'\u001b[39m \u001b[38;5;241m+\u001b[39m ticker \u001b[38;5;241m+\u001b[39m \u001b[38;5;124m'\u001b[39m\u001b[38;5;124m ---  \u001b[39m\u001b[38;5;124m'\u001b[39m \u001b[38;5;241m+\u001b[39m \u001b[38;5;124m'\u001b[39m\u001b[38;5;124mImage number: \u001b[39m\u001b[38;5;124m'\u001b[39m \u001b[38;5;241m+\u001b[39m pic\u001b[38;5;241m.\u001b[39msplit(\u001b[38;5;124m'\u001b[39m\u001b[38;5;124m.\u001b[39m\u001b[38;5;124m'\u001b[39m)[\u001b[38;5;241m0\u001b[39m])\n\u001b[1;32m     21\u001b[0m data \u001b[38;5;241m=\u001b[39m get_customer_dict()\n\u001b[0;32m---> 22\u001b[0m lines \u001b[38;5;241m=\u001b[39m \u001b[43mimage_process\u001b[49m\u001b[43m(\u001b[49m\u001b[43mimage\u001b[49m\u001b[43m)\u001b[49m\n\u001b[1;32m     23\u001b[0m big_lines \u001b[38;5;241m=\u001b[39m clean_lines(lines)\n\u001b[1;32m     24\u001b[0m filtered_array \u001b[38;5;241m=\u001b[39m filtering_lines(big_lines)\n",
      "Cell \u001b[0;32mIn[29], line 3\u001b[0m, in \u001b[0;36mimage_process\u001b[0;34m(image)\u001b[0m\n\u001b[1;32m      1\u001b[0m \u001b[38;5;28;01mdef\u001b[39;00m \u001b[38;5;21mimage_process\u001b[39m(image):\n\u001b[0;32m----> 3\u001b[0m     gray_image \u001b[38;5;241m=\u001b[39m \u001b[43mcv2\u001b[49m\u001b[38;5;241;43m.\u001b[39;49m\u001b[43mcvtColor\u001b[49m\u001b[43m(\u001b[49m\u001b[43mimage\u001b[49m\u001b[43m,\u001b[49m\u001b[43m \u001b[49m\u001b[43mcv2\u001b[49m\u001b[38;5;241;43m.\u001b[39;49m\u001b[43mCOLOR_BGR2GRAY\u001b[49m\u001b[43m)\u001b[49m\n\u001b[1;32m      4\u001b[0m     inverted_image \u001b[38;5;241m=\u001b[39m \u001b[38;5;241m255\u001b[39m \u001b[38;5;241m-\u001b[39m gray_image\n\u001b[1;32m      6\u001b[0m     threshold_value \u001b[38;5;241m=\u001b[39m \u001b[38;5;241m200\u001b[39m  \u001b[38;5;66;03m# Threshold value (0-255)\u001b[39;00m\n",
      "\u001b[0;31merror\u001b[0m: OpenCV(4.7.0) /Users/runner/work/opencv-python/opencv-python/opencv/modules/imgproc/src/color.cpp:182: error: (-215:Assertion failed) !_src.empty() in function 'cvtColor'\n"
     ]
    }
   ],
   "source": [
    "# Customers\n",
    "customer_columns = ['Company', 'Industry', 'Mkt Cap (M)', 'Relationship Size (M)', '% Rev',\n",
    "           '% Customer Cost', 'Customer Cost Cat', 'Source', 'Size Source']\n",
    "folders = ['Suppliers', 'Customers']\n",
    "main_dir = '/Users/minhthao/Desktop/MSDA/Summer 2023/Bloomberg/SPLC Images/Companies'\n",
    "error_companies = []\n",
    "tickers = ['GNSS']\n",
    "for ticker in tickers:\n",
    "    folder_path = os.path.join(os.path.join(main_dir, ticker), folders[1])\n",
    "    pics = os.listdir(folder_path)\n",
    "    print('Number of images for ' + folders[1] + ' for ' + ticker + ' is ' + str(len(pics)))\n",
    "    print('          ' + ticker + '          ')\n",
    "\n",
    "    for pic in pics:\n",
    "        image = cv2.imread(os.path.join(folder_path, pic))\n",
    "        image = image[279:-75,:]\n",
    "        y1, x1, x2 = get_crop_dimensions(image)\n",
    "        image = image[y1:,x1-5:x2+20]\n",
    "\n",
    "        print('Ticker: ' + ticker + ' ---  ' + 'Image number: ' + pic.split('.')[0])\n",
    "        data = get_customer_dict()\n",
    "        lines = image_process(image)\n",
    "        big_lines = clean_lines(lines)\n",
    "        filtered_array = filtering_lines(big_lines)\n",
    "        \n",
    "        # check if filtered_array has the expected number of elements\n",
    "        if len(filtered_array) < 8:\n",
    "            filtered_array = np.array([[ 364,  652,  364,    0],\n",
    "                                       [ 664,  652,  664,    0],\n",
    "                                       [ 803,  652,  803,    0],\n",
    "                                       [1105,  652, 1105,    0],\n",
    "                                       [1177,  652, 1177,    0],\n",
    "                                       [1271,  652, 1271,    0],\n",
    "                                       [1450,  652, 1450,    0],\n",
    "                                       [1713,  652, 1713,    0]])\n",
    "#             error_companies.append(ticker)\n",
    "#             continue\n",
    "        \n",
    "        images = get_images(image, filtered_array)\n",
    "        rows = find_rows(images[0])\n",
    "\n",
    "        print(\"Number of companies:\", rows)\n",
    "\n",
    "        for i in range(len(images)):\n",
    "            text = process(images[i])\n",
    "            lines = text_clean(text)\n",
    "            if len(lines)==rows:\n",
    "                print(\"Successful\")\n",
    "            else: \n",
    "                lines=['--'] * rows\n",
    "                print(\"Changed/Editted\")\n",
    "            data[customer_columns[i]] = lines\n",
    "\n",
    "        df = pd.DataFrame(data)\n",
    "\n",
    "        csv_path = os.path.join(os.path.join('/Users/minhthao/Desktop/MSDA/Summer 2023/Bloomberg/SPLC Images/CSVs',ticker), folders[1])\n",
    "        csv_name = os.path.join(csv_path, pic).split('.')[0]+'.csv'\n",
    "\n",
    "        df.to_csv(csv_name, sep=',', index =False)\n",
    "\n",
    "    print('--------------------------------------------------------------------------------------')\n",
    "\n",
    "print('Tickers with error: filtered_array has insufficient elements\\n' + str(error_companies))"
   ]
  },
  {
   "cell_type": "code",
   "execution_count": 144,
   "id": "e000a2b5",
   "metadata": {},
   "outputs": [
    {
     "data": {
      "text/plain": [
       "\"['LIN', 'OLED', 'OLED', 'FCEL', 'SNMSF', 'VZIO', 'RHHBY', 'RHHBY', 'RHHBY', 'RHHBY', 'RHHBY', 'LFUS', 'GTLS', 'IOTS']\""
      ]
     },
     "execution_count": 144,
     "metadata": {},
     "output_type": "execute_result"
    }
   ],
   "source": [
    "str(error_companies)"
   ]
  },
  {
   "cell_type": "code",
   "execution_count": 159,
   "id": "f7edfc8d",
   "metadata": {},
   "outputs": [
    {
     "name": "stdout",
     "output_type": "stream",
     "text": [
      "Number of images for Customers for GNSS is 3\n",
      "          GNSS          \n"
     ]
    },
    {
     "ename": "IndexError",
     "evalue": "list index out of range",
     "output_type": "error",
     "traceback": [
      "\u001b[0;31m---------------------------------------------------------------------------\u001b[0m",
      "\u001b[0;31mIndexError\u001b[0m                                Traceback (most recent call last)",
      "Cell \u001b[0;32mIn[159], line 15\u001b[0m\n\u001b[1;32m     13\u001b[0m image \u001b[38;5;241m=\u001b[39m cv2\u001b[38;5;241m.\u001b[39mimread(\u001b[38;5;124m'\u001b[39m\u001b[38;5;124m/Users/minhthao/Desktop/MSDA/Summer 2023/Bloomberg/SPLC Images/Companies/GNSS/Customers/C 3.png\u001b[39m\u001b[38;5;124m'\u001b[39m)\n\u001b[1;32m     14\u001b[0m image \u001b[38;5;241m=\u001b[39m image[\u001b[38;5;241m410\u001b[39m:\u001b[38;5;241m-\u001b[39m\u001b[38;5;241m75\u001b[39m,:]\n\u001b[0;32m---> 15\u001b[0m y1, x1, x2 \u001b[38;5;241m=\u001b[39m \u001b[43mget_crop_dimensions\u001b[49m\u001b[43m(\u001b[49m\u001b[43mimage\u001b[49m\u001b[43m)\u001b[49m\n\u001b[1;32m     16\u001b[0m image \u001b[38;5;241m=\u001b[39m image[y1:,x1\u001b[38;5;241m-\u001b[39m\u001b[38;5;241m5\u001b[39m:x2\u001b[38;5;241m+\u001b[39m\u001b[38;5;241m20\u001b[39m]\n\u001b[1;32m     18\u001b[0m \u001b[38;5;28mprint\u001b[39m(\u001b[38;5;124m'\u001b[39m\u001b[38;5;124mTicker: \u001b[39m\u001b[38;5;124m'\u001b[39m \u001b[38;5;241m+\u001b[39m ticker \u001b[38;5;241m+\u001b[39m \u001b[38;5;124m'\u001b[39m\u001b[38;5;124m ---  \u001b[39m\u001b[38;5;124m'\u001b[39m \u001b[38;5;241m+\u001b[39m \u001b[38;5;124m'\u001b[39m\u001b[38;5;124mImage number: \u001b[39m\u001b[38;5;124m'\u001b[39m \u001b[38;5;241m+\u001b[39m pic\u001b[38;5;241m.\u001b[39msplit(\u001b[38;5;124m'\u001b[39m\u001b[38;5;124m.\u001b[39m\u001b[38;5;124m'\u001b[39m)[\u001b[38;5;241m0\u001b[39m])\n",
      "Cell \u001b[0;32mIn[28], line 15\u001b[0m, in \u001b[0;36mget_crop_dimensions\u001b[0;34m(image)\u001b[0m\n\u001b[1;32m     12\u001b[0m contours, _ \u001b[38;5;241m=\u001b[39m cv2\u001b[38;5;241m.\u001b[39mfindContours(mask, cv2\u001b[38;5;241m.\u001b[39mRETR_EXTERNAL, cv2\u001b[38;5;241m.\u001b[39mCHAIN_APPROX_SIMPLE)\n\u001b[1;32m     13\u001b[0m sorted_contours \u001b[38;5;241m=\u001b[39m \u001b[38;5;28msorted\u001b[39m(contours, key\u001b[38;5;241m=\u001b[39m\u001b[38;5;28;01mlambda\u001b[39;00m c: cv2\u001b[38;5;241m.\u001b[39mboundingRect(c)[\u001b[38;5;241m0\u001b[39m])\n\u001b[0;32m---> 15\u001b[0m \u001b[38;5;28;01mreturn\u001b[39;00m \u001b[43msorted_contours\u001b[49m\u001b[43m[\u001b[49m\u001b[38;5;241;43m0\u001b[39;49m\u001b[43m]\u001b[49m[\u001b[38;5;241m1\u001b[39m][\u001b[38;5;241m0\u001b[39m][\u001b[38;5;241m1\u001b[39m], sorted_contours[\u001b[38;5;241m0\u001b[39m][\u001b[38;5;241m0\u001b[39m][\u001b[38;5;241m0\u001b[39m][\u001b[38;5;241m0\u001b[39m], sorted_contours[\u001b[38;5;241m-\u001b[39m\u001b[38;5;241m1\u001b[39m][\u001b[38;5;241m2\u001b[39m][\u001b[38;5;241m0\u001b[39m][\u001b[38;5;241m0\u001b[39m]\n",
      "\u001b[0;31mIndexError\u001b[0m: list index out of range"
     ]
    }
   ],
   "source": [
    "# Customers\n",
    "customer_columns = ['Company', 'Industry', 'Mkt Cap (M)', 'Relationship Size (M)', '% Rev',\n",
    "           '% Customer Cost', 'Customer Cost Cat', 'Source', 'Size Source']\n",
    "folders = ['Suppliers', 'Customers']\n",
    "main_dir = '/Users/minhthao/Desktop/MSDA/Summer 2023/Bloomberg/SPLC Images/Companies'\n",
    "error_companies = []\n",
    "tickers = ['GNSS']\n",
    "for ticker in tickers:\n",
    "\n",
    "    print('Number of images for ' + folders[1] + ' for ' + ticker + ' is ' + str(len(pics)))\n",
    "    print('          ' + ticker + '          ')\n",
    "\n",
    "    image = cv2.imread('/Users/minhthao/Desktop/MSDA/Summer 2023/Bloomberg/SPLC Images/Companies/GNSS/Customers/C 3.png')\n",
    "    image = image[410:-75,:]\n",
    "    y1, x1, x2 = get_crop_dimensions(image)\n",
    "    image = image[y1:,x1-5:x2+20]\n",
    "\n",
    "    print('Ticker: ' + ticker + ' ---  ' + 'Image number: ' + pic.split('.')[0])\n",
    "    data = get_customer_dict()\n",
    "    lines = image_process(image)\n",
    "    big_lines = clean_lines(lines)\n",
    "    filtered_array = filtering_lines(big_lines)\n",
    "\n",
    "    # check if filtered_array has the expected number of elements\n",
    "    if len(filtered_array) < 8:\n",
    "        filtered_array = np.array([[ 364,  652,  364,    0],\n",
    "                                   [ 664,  652,  664,    0],\n",
    "                                   [ 803,  652,  803,    0],\n",
    "                                   [1105,  652, 1105,    0],\n",
    "                                   [1177,  652, 1177,    0],\n",
    "                                   [1271,  652, 1271,    0],\n",
    "                                   [1450,  652, 1450,    0],\n",
    "                                   [1713,  652, 1713,    0]])\n",
    "#             error_companies.append(ticker)\n",
    "#             continue\n",
    "\n",
    "    images = get_images(image, filtered_array)\n",
    "    rows = find_rows(images[0])\n",
    "\n",
    "    print(\"Number of companies:\", rows)\n",
    "\n",
    "    for i in range(len(images)):\n",
    "        text = process(images[i])\n",
    "        lines = text_clean(text)\n",
    "        if len(lines)==rows:\n",
    "            print(\"Successful\")\n",
    "        else: \n",
    "            lines=['--'] * rows\n",
    "            print(\"Changed/Editted\")\n",
    "        data[customer_columns[i]] = lines\n",
    "\n",
    "    df = pd.DataFrame(data)\n",
    "\n",
    "    csv_path = '/Users/minhthao/Desktop/MSDA/Summer 2023/Bloomberg/SPLC Images/CSVs/GNSS/Customers'\n",
    "    csv_name = '/Users/minhthao/Desktop/MSDA/Summer 2023/Bloomberg/SPLC Images/CSVs/GNSS/Customers/C 3.csv'\n",
    "\n",
    "    df.to_csv(csv_name, sep=',', index =False)\n",
    "\n",
    "    print('--------------------------------------------------------------------------------------')\n",
    "\n",
    "print('Tickers with error: filtered_array has insufficient elements\\n' + str(error_companies))"
   ]
  },
  {
   "cell_type": "code",
   "execution_count": 153,
   "id": "cd2921bc",
   "metadata": {},
   "outputs": [
    {
     "data": {
      "text/plain": [
       "'/Users/minhthao/Desktop/MSDA/Summer 2023/Bloomberg/SPLC Images/CSVs/GNSS/Customers'"
      ]
     },
     "execution_count": 153,
     "metadata": {},
     "output_type": "execute_result"
    }
   ],
   "source": [
    "csv_path"
   ]
  },
  {
   "cell_type": "code",
   "execution_count": 154,
   "id": "4fc95ba4",
   "metadata": {},
   "outputs": [
    {
     "data": {
      "text/plain": [
       "'/Users/minhthao/Desktop/MSDA/Summer 2023/Bloomberg/SPLC Images/CSVs/GNSS/Customers/C 2.csv'"
      ]
     },
     "execution_count": 154,
     "metadata": {},
     "output_type": "execute_result"
    }
   ],
   "source": [
    "csv_name"
   ]
  }
 ],
 "metadata": {
  "kernelspec": {
   "display_name": "Python 3 (ipykernel)",
   "language": "python",
   "name": "python3"
  },
  "language_info": {
   "codemirror_mode": {
    "name": "ipython",
    "version": 3
   },
   "file_extension": ".py",
   "mimetype": "text/x-python",
   "name": "python",
   "nbconvert_exporter": "python",
   "pygments_lexer": "ipython3",
   "version": "3.9.12"
  }
 },
 "nbformat": 4,
 "nbformat_minor": 5
}
