{
 "cells": [
  {
   "cell_type": "code",
   "execution_count": 1,
   "id": "08b08302",
   "metadata": {},
   "outputs": [],
   "source": [
    "from PIL import Image\n",
    "import pytesseract\n",
    "from pytesseract import Output\n",
    "import numpy as np\n",
    "import matplotlib.pyplot as plt\n",
    "import cv2\n",
    "import pandas as pd\n",
    "import re"
   ]
  },
  {
   "cell_type": "markdown",
   "id": "e45ef2d6",
   "metadata": {},
   "source": [
    "#### To make your own ticker array. "
   ]
  },
  {
   "cell_type": "markdown",
   "id": "f1e6c23a",
   "metadata": {},
   "source": [
    "1. Change the name and save the file to load it later."
   ]
  },
  {
   "cell_type": "raw",
   "id": "661867a5",
   "metadata": {},
   "source": [
    "df = pd.read_excel('2022_08_public_traded_manufacturer_wholesaler_retailer - Bloomberg.xlsx')\n",
    "ticker = df[df.owner == 'Rohit'].tic.values\n",
    "np.save('rohit_ticker.npy', ticker)"
   ]
  },
  {
   "cell_type": "raw",
   "id": "fba80466",
   "metadata": {},
   "source": [
    "tickers = np.load('rohit_ticker.npy', allow_pickle=True)"
   ]
  },
  {
   "cell_type": "markdown",
   "id": "164916d8",
   "metadata": {},
   "source": [
    "#### Creating a folder structure for all the screenshots."
   ]
  },
  {
   "cell_type": "markdown",
   "id": "dda0bd7b",
   "metadata": {},
   "source": [
    "1. Rohit_data   >>>   Companies   >>>   All tickers   >>>   In each ticker two folders with suppliers and customers. "
   ]
  },
  {
   "cell_type": "raw",
   "id": "1de6dc6c",
   "metadata": {},
   "source": [
    "import os \n",
    "\n",
    "for ticker in tickers:\n",
    "    folder_path = 'rohit_data/Companies/'+ticker\n",
    "    os.mkdir(folder_path)\n",
    "    os.mkdir(folder_path+'/Suppliers')\n",
    "    os.mkdir(folder_path+'/Customers')"
   ]
  },
  {
   "cell_type": "code",
   "execution_count": 12,
   "id": "32bd335e",
   "metadata": {},
   "outputs": [],
   "source": [
    "supplier_columns = ['Company', 'Industry', 'Mkt Cap (M)', 'Relationship Size (M)', '% Cost',\n",
    "           'Cost Cat', '% Supplier Rev', 'Source', 'Size Source']\n",
    "customer_columns = ['Company', 'Industry', 'Mkt Cap (M)', 'Relationship Size (M)', '% Rev',\n",
    "           '% Customer Cost', 'Customer Cost Cat', 'Source', 'Size Source']"
   ]
  },
  {
   "cell_type": "markdown",
   "id": "f7fe010c",
   "metadata": {},
   "source": [
    "# Read files in folder"
   ]
  },
  {
   "cell_type": "code",
   "execution_count": 34,
   "id": "e4b035d5",
   "metadata": {},
   "outputs": [],
   "source": [
    "import os\n",
    "rootdir = '/Users/minhthao/Desktop/MSDA/Summer 2023/Bloomberg/SPLC Images/CSVs/VWR/Customers'\n",
    "def listdirs(rootdir):\n",
    "    file_list = []\n",
    "    for file in os.listdir(rootdir):\n",
    "        print(rootdir + \"/\"+file)\n",
    "        file_list.append(rootdir + \"/\"+file)\n",
    "    return file_list\n",
    "        "
   ]
  },
  {
   "cell_type": "code",
   "execution_count": 35,
   "id": "4faaee0c",
   "metadata": {},
   "outputs": [],
   "source": [
    "file_list = listdirs(rootdir)"
   ]
  },
  {
   "cell_type": "code",
   "execution_count": 36,
   "id": "b17e3b2d",
   "metadata": {},
   "outputs": [
    {
     "data": {
      "text/plain": [
       "[]"
      ]
     },
     "execution_count": 36,
     "metadata": {},
     "output_type": "execute_result"
    }
   ],
   "source": [
    "file_list"
   ]
  },
  {
   "cell_type": "code",
   "execution_count": 4,
   "id": "264dc33f",
   "metadata": {},
   "outputs": [],
   "source": [
    "# Define the replacement function\n",
    "def replace_em_dash(cell_value):\n",
    "    if isinstance(cell_value, str) and '—' in str(cell_value):\n",
    "        return '--'\n",
    "    else:\n",
    "        return cell_value\n",
    "\n",
    "# Define the replacement function\n",
    "def replace_no_numbers(cell_value):\n",
    "    if pd.notna(cell_value) and not bool(re.search(r'\\d', str(cell_value))):\n",
    "        return '--'\n",
    "    return cell_value"
   ]
  },
  {
   "cell_type": "code",
   "execution_count": 5,
   "id": "d4e4f18e",
   "metadata": {},
   "outputs": [],
   "source": [
    "def customer_file(data):\n",
    "    df = pd.DataFrame(data)\n",
    "    df = df[['Company', 'Industry', 'Mkt Cap (M)', 'Relationship Size (M)', '% Rev',\n",
    "           '% Customer Cost', 'Customer Cost Cat', 'Source']]\n",
    "    df[\"Source\"] = df[\"Source\"].str.extract(r'(\\d{4})')\n",
    "    name = df['Company'][0]\n",
    "    df = df.rename(columns = {\"Company\":\"Customer Name\"})\n",
    "    df.insert(0, \"Firm Name\", name)\n",
    "    df = df.iloc[1:]\n",
    "    \n",
    "    # replace em dash with \"--\"\n",
    "    df = df.applymap(replace_em_dash)\n",
    "    # Mk Cap, Relationship Size, % Rev, % Customer Cost has to have numerical values if not \"--\"\n",
    "    df[['Mkt Cap (M)', 'Relationship Size (M)', '% Rev','% Customer Cost']] = df[['Mkt Cap (M)', \n",
    "                                                                                  'Relationship Size (M)', \n",
    "                                                                                  '% Rev',\n",
    "                                                                                  '% Customer Cost']].applymap(replace_no_numbers)\n",
    "\n",
    "#     customer_dict = df.set_index('Company').agg(list, axis=1).to_dict()\n",
    "#     arr = np.array([[ticker,name,customer_dict]])\n",
    "    return df"
   ]
  },
  {
   "cell_type": "markdown",
   "id": "e57e529f",
   "metadata": {},
   "source": [
    "## Load ticker files"
   ]
  },
  {
   "cell_type": "code",
   "execution_count": 6,
   "id": "e37383af",
   "metadata": {},
   "outputs": [],
   "source": [
    "tickers = np.load('/Users/minhthao/Desktop/MSDA/Summer 2023/Bloomberg/thao_tickers.npy', allow_pickle=True)"
   ]
  },
  {
   "cell_type": "code",
   "execution_count": 7,
   "id": "c82b80b0",
   "metadata": {},
   "outputs": [],
   "source": [
    "tickers = tickers[(tickers != \"DSKE\")&(tickers != \"MCFT\")]"
   ]
  },
  {
   "cell_type": "code",
   "execution_count": 37,
   "id": "180aa74b",
   "metadata": {
    "scrolled": false
   },
   "outputs": [
    {
     "name": "stdout",
     "output_type": "stream",
     "text": [
      "/Users/minhthao/Desktop/MSDA/Summer 2023/Bloomberg/SPLC Images/CSVs/FRPT/Customers/C 1.csv\n",
      "/Users/minhthao/Desktop/MSDA/Summer 2023/Bloomberg/SPLC Images/CSVs/SKYS/Customers/C 1.csv\n",
      "/Users/minhthao/Desktop/MSDA/Summer 2023/Bloomberg/SPLC Images/CSVs/BSGM/Customers/C 1.csv\n",
      "/Users/minhthao/Desktop/MSDA/Summer 2023/Bloomberg/SPLC Images/CSVs/ANN/Customers/C 1.csv\n",
      "/Users/minhthao/Desktop/MSDA/Summer 2023/Bloomberg/SPLC Images/CSVs/VIVE/Customers/C 1.csv\n",
      "/Users/minhthao/Desktop/MSDA/Summer 2023/Bloomberg/SPLC Images/CSVs/CHRS/Customers/C 1.csv\n",
      "/Users/minhthao/Desktop/MSDA/Summer 2023/Bloomberg/SPLC Images/CSVs/TLCC/Customers/C 1.csv\n",
      "/Users/minhthao/Desktop/MSDA/Summer 2023/Bloomberg/SPLC Images/CSVs/MRMD/Customers/C 1.csv\n",
      "/Users/minhthao/Desktop/MSDA/Summer 2023/Bloomberg/SPLC Images/CSVs/MTRAF/Customers/C 1.csv\n",
      "/Users/minhthao/Desktop/MSDA/Summer 2023/Bloomberg/SPLC Images/CSVs/FGEN/Customers/C 1.csv\n",
      "/Users/minhthao/Desktop/MSDA/Summer 2023/Bloomberg/SPLC Images/CSVs/MEVI/Customers/MEVI C 1.csv\n",
      "/Users/minhthao/Desktop/MSDA/Summer 2023/Bloomberg/SPLC Images/CSVs/PYPD/Customers/C 1.csv\n"
     ]
    },
    {
     "name": "stderr",
     "output_type": "stream",
     "text": [
      "/var/folders/5d/9jrnkbxx5bb_l2v7b5pxxnfm0000gn/T/ipykernel_16119/603308844.py:17: UserWarning: This pattern is interpreted as a regular expression, and has match groups. To actually get the groups, use str.extract.\n",
      "  if sum(df['Firm Name'].str.contains(dot_pattern, '...', regex=True))>0:\n",
      "/var/folders/5d/9jrnkbxx5bb_l2v7b5pxxnfm0000gn/T/ipykernel_16119/603308844.py:17: UserWarning: This pattern is interpreted as a regular expression, and has match groups. To actually get the groups, use str.extract.\n",
      "  if sum(df['Firm Name'].str.contains(dot_pattern, '...', regex=True))>0:\n",
      "/var/folders/5d/9jrnkbxx5bb_l2v7b5pxxnfm0000gn/T/ipykernel_16119/603308844.py:17: UserWarning: This pattern is interpreted as a regular expression, and has match groups. To actually get the groups, use str.extract.\n",
      "  if sum(df['Firm Name'].str.contains(dot_pattern, '...', regex=True))>0:\n",
      "/var/folders/5d/9jrnkbxx5bb_l2v7b5pxxnfm0000gn/T/ipykernel_16119/603308844.py:17: UserWarning: This pattern is interpreted as a regular expression, and has match groups. To actually get the groups, use str.extract.\n",
      "  if sum(df['Firm Name'].str.contains(dot_pattern, '...', regex=True))>0:\n",
      "/var/folders/5d/9jrnkbxx5bb_l2v7b5pxxnfm0000gn/T/ipykernel_16119/603308844.py:17: UserWarning: This pattern is interpreted as a regular expression, and has match groups. To actually get the groups, use str.extract.\n",
      "  if sum(df['Firm Name'].str.contains(dot_pattern, '...', regex=True))>0:\n",
      "/var/folders/5d/9jrnkbxx5bb_l2v7b5pxxnfm0000gn/T/ipykernel_16119/603308844.py:17: UserWarning: This pattern is interpreted as a regular expression, and has match groups. To actually get the groups, use str.extract.\n",
      "  if sum(df['Firm Name'].str.contains(dot_pattern, '...', regex=True))>0:\n",
      "/var/folders/5d/9jrnkbxx5bb_l2v7b5pxxnfm0000gn/T/ipykernel_16119/603308844.py:17: UserWarning: This pattern is interpreted as a regular expression, and has match groups. To actually get the groups, use str.extract.\n",
      "  if sum(df['Firm Name'].str.contains(dot_pattern, '...', regex=True))>0:\n",
      "/var/folders/5d/9jrnkbxx5bb_l2v7b5pxxnfm0000gn/T/ipykernel_16119/603308844.py:19: UserWarning: This pattern is interpreted as a regular expression, and has match groups. To actually get the groups, use str.extract.\n",
      "  not_matching_pattern = ~df['Firm Name'].str.contains(dot_pattern)\n",
      "/var/folders/5d/9jrnkbxx5bb_l2v7b5pxxnfm0000gn/T/ipykernel_16119/603308844.py:17: UserWarning: This pattern is interpreted as a regular expression, and has match groups. To actually get the groups, use str.extract.\n",
      "  if sum(df['Firm Name'].str.contains(dot_pattern, '...', regex=True))>0:\n",
      "/var/folders/5d/9jrnkbxx5bb_l2v7b5pxxnfm0000gn/T/ipykernel_16119/603308844.py:17: UserWarning: This pattern is interpreted as a regular expression, and has match groups. To actually get the groups, use str.extract.\n",
      "  if sum(df['Firm Name'].str.contains(dot_pattern, '...', regex=True))>0:\n",
      "/var/folders/5d/9jrnkbxx5bb_l2v7b5pxxnfm0000gn/T/ipykernel_16119/603308844.py:17: UserWarning: This pattern is interpreted as a regular expression, and has match groups. To actually get the groups, use str.extract.\n",
      "  if sum(df['Firm Name'].str.contains(dot_pattern, '...', regex=True))>0:\n",
      "/var/folders/5d/9jrnkbxx5bb_l2v7b5pxxnfm0000gn/T/ipykernel_16119/603308844.py:17: UserWarning: This pattern is interpreted as a regular expression, and has match groups. To actually get the groups, use str.extract.\n",
      "  if sum(df['Firm Name'].str.contains(dot_pattern, '...', regex=True))>0:\n",
      "/var/folders/5d/9jrnkbxx5bb_l2v7b5pxxnfm0000gn/T/ipykernel_16119/603308844.py:17: UserWarning: This pattern is interpreted as a regular expression, and has match groups. To actually get the groups, use str.extract.\n",
      "  if sum(df['Firm Name'].str.contains(dot_pattern, '...', regex=True))>0:\n",
      "/var/folders/5d/9jrnkbxx5bb_l2v7b5pxxnfm0000gn/T/ipykernel_16119/603308844.py:17: UserWarning: This pattern is interpreted as a regular expression, and has match groups. To actually get the groups, use str.extract.\n",
      "  if sum(df['Firm Name'].str.contains(dot_pattern, '...', regex=True))>0:\n"
     ]
    },
    {
     "name": "stdout",
     "output_type": "stream",
     "text": [
      "/Users/minhthao/Desktop/MSDA/Summer 2023/Bloomberg/SPLC Images/CSVs/HABT/Customers/C 1.csv\n",
      "/Users/minhthao/Desktop/MSDA/Summer 2023/Bloomberg/SPLC Images/CSVs/CRBP/Customers/C 1.csv\n",
      "/Users/minhthao/Desktop/MSDA/Summer 2023/Bloomberg/SPLC Images/CSVs/SIEN/Customers/C 1.csv\n",
      "/Users/minhthao/Desktop/MSDA/Summer 2023/Bloomberg/SPLC Images/CSVs/DIIBF/Customers/C 1.csv\n",
      "/Users/minhthao/Desktop/MSDA/Summer 2023/Bloomberg/SPLC Images/CSVs/AXTA/Customers/C 2.csv\n",
      "/Users/minhthao/Desktop/MSDA/Summer 2023/Bloomberg/SPLC Images/CSVs/AXTA/Customers/C 1.csv\n",
      "/Users/minhthao/Desktop/MSDA/Summer 2023/Bloomberg/SPLC Images/CSVs/UNIR/Customers/C 1.csv\n",
      "/Users/minhthao/Desktop/MSDA/Summer 2023/Bloomberg/SPLC Images/CSVs/UFAB/Customers/C 1.csv\n",
      "/Users/minhthao/Desktop/MSDA/Summer 2023/Bloomberg/SPLC Images/CSVs/KSWS/Customers/C 1.csv\n",
      "/Users/minhthao/Desktop/MSDA/Summer 2023/Bloomberg/SPLC Images/CSVs/BLCM/Customers/C 1.csv\n",
      "/Users/minhthao/Desktop/MSDA/Summer 2023/Bloomberg/SPLC Images/CSVs/XLNX/Customers/C 2.csv\n",
      "/Users/minhthao/Desktop/MSDA/Summer 2023/Bloomberg/SPLC Images/CSVs/XLNX/Customers/C 1.csv\n"
     ]
    },
    {
     "name": "stderr",
     "output_type": "stream",
     "text": [
      "/var/folders/5d/9jrnkbxx5bb_l2v7b5pxxnfm0000gn/T/ipykernel_16119/603308844.py:17: UserWarning: This pattern is interpreted as a regular expression, and has match groups. To actually get the groups, use str.extract.\n",
      "  if sum(df['Firm Name'].str.contains(dot_pattern, '...', regex=True))>0:\n",
      "/var/folders/5d/9jrnkbxx5bb_l2v7b5pxxnfm0000gn/T/ipykernel_16119/603308844.py:19: UserWarning: This pattern is interpreted as a regular expression, and has match groups. To actually get the groups, use str.extract.\n",
      "  not_matching_pattern = ~df['Firm Name'].str.contains(dot_pattern)\n",
      "/var/folders/5d/9jrnkbxx5bb_l2v7b5pxxnfm0000gn/T/ipykernel_16119/603308844.py:17: UserWarning: This pattern is interpreted as a regular expression, and has match groups. To actually get the groups, use str.extract.\n",
      "  if sum(df['Firm Name'].str.contains(dot_pattern, '...', regex=True))>0:\n",
      "/var/folders/5d/9jrnkbxx5bb_l2v7b5pxxnfm0000gn/T/ipykernel_16119/603308844.py:17: UserWarning: This pattern is interpreted as a regular expression, and has match groups. To actually get the groups, use str.extract.\n",
      "  if sum(df['Firm Name'].str.contains(dot_pattern, '...', regex=True))>0:\n",
      "/var/folders/5d/9jrnkbxx5bb_l2v7b5pxxnfm0000gn/T/ipykernel_16119/603308844.py:17: UserWarning: This pattern is interpreted as a regular expression, and has match groups. To actually get the groups, use str.extract.\n",
      "  if sum(df['Firm Name'].str.contains(dot_pattern, '...', regex=True))>0:\n",
      "/var/folders/5d/9jrnkbxx5bb_l2v7b5pxxnfm0000gn/T/ipykernel_16119/603308844.py:17: UserWarning: This pattern is interpreted as a regular expression, and has match groups. To actually get the groups, use str.extract.\n",
      "  if sum(df['Firm Name'].str.contains(dot_pattern, '...', regex=True))>0:\n",
      "/var/folders/5d/9jrnkbxx5bb_l2v7b5pxxnfm0000gn/T/ipykernel_16119/603308844.py:19: UserWarning: This pattern is interpreted as a regular expression, and has match groups. To actually get the groups, use str.extract.\n",
      "  not_matching_pattern = ~df['Firm Name'].str.contains(dot_pattern)\n",
      "/var/folders/5d/9jrnkbxx5bb_l2v7b5pxxnfm0000gn/T/ipykernel_16119/603308844.py:17: UserWarning: This pattern is interpreted as a regular expression, and has match groups. To actually get the groups, use str.extract.\n",
      "  if sum(df['Firm Name'].str.contains(dot_pattern, '...', regex=True))>0:\n",
      "/var/folders/5d/9jrnkbxx5bb_l2v7b5pxxnfm0000gn/T/ipykernel_16119/603308844.py:17: UserWarning: This pattern is interpreted as a regular expression, and has match groups. To actually get the groups, use str.extract.\n",
      "  if sum(df['Firm Name'].str.contains(dot_pattern, '...', regex=True))>0:\n",
      "/var/folders/5d/9jrnkbxx5bb_l2v7b5pxxnfm0000gn/T/ipykernel_16119/603308844.py:17: UserWarning: This pattern is interpreted as a regular expression, and has match groups. To actually get the groups, use str.extract.\n",
      "  if sum(df['Firm Name'].str.contains(dot_pattern, '...', regex=True))>0:\n",
      "/var/folders/5d/9jrnkbxx5bb_l2v7b5pxxnfm0000gn/T/ipykernel_16119/603308844.py:17: UserWarning: This pattern is interpreted as a regular expression, and has match groups. To actually get the groups, use str.extract.\n",
      "  if sum(df['Firm Name'].str.contains(dot_pattern, '...', regex=True))>0:\n",
      "/var/folders/5d/9jrnkbxx5bb_l2v7b5pxxnfm0000gn/T/ipykernel_16119/603308844.py:17: UserWarning: This pattern is interpreted as a regular expression, and has match groups. To actually get the groups, use str.extract.\n",
      "  if sum(df['Firm Name'].str.contains(dot_pattern, '...', regex=True))>0:\n"
     ]
    },
    {
     "name": "stdout",
     "output_type": "stream",
     "text": [
      "/Users/minhthao/Desktop/MSDA/Summer 2023/Bloomberg/SPLC Images/CSVs/NRXCF/Customers/C 1.csv\n",
      "/Users/minhthao/Desktop/MSDA/Summer 2023/Bloomberg/SPLC Images/CSVs/GNSS/Customers/C 3.csv\n",
      "/Users/minhthao/Desktop/MSDA/Summer 2023/Bloomberg/SPLC Images/CSVs/GNSS/Customers/C 2.csv\n",
      "/Users/minhthao/Desktop/MSDA/Summer 2023/Bloomberg/SPLC Images/CSVs/GNSS/Customers/C 1.csv\n",
      "/Users/minhthao/Desktop/MSDA/Summer 2023/Bloomberg/SPLC Images/CSVs/TLRY/Customers/C 1.csv\n",
      "/Users/minhthao/Desktop/MSDA/Summer 2023/Bloomberg/SPLC Images/CSVs/RSTRF/Customers/C 1.csv\n",
      "/Users/minhthao/Desktop/MSDA/Summer 2023/Bloomberg/SPLC Images/CSVs/PARR/Customers/C 1.csv\n",
      "/Users/minhthao/Desktop/MSDA/Summer 2023/Bloomberg/SPLC Images/CSVs/ACB/Customers/C 1.csv\n",
      "/Users/minhthao/Desktop/MSDA/Summer 2023/Bloomberg/SPLC Images/CSVs/CRON/Customers/C 1.csv\n",
      "/Users/minhthao/Desktop/MSDA/Summer 2023/Bloomberg/SPLC Images/CSVs/PIRS/Customers/C 1.csv\n",
      "/Users/minhthao/Desktop/MSDA/Summer 2023/Bloomberg/SPLC Images/CSVs/LCINQ/Customers/C 1.csv\n",
      "/Users/minhthao/Desktop/MSDA/Summer 2023/Bloomberg/SPLC Images/CSVs/VSTO/Customers/C 2.csv\n",
      "/Users/minhthao/Desktop/MSDA/Summer 2023/Bloomberg/SPLC Images/CSVs/VSTO/Customers/C 1.csv\n"
     ]
    },
    {
     "name": "stderr",
     "output_type": "stream",
     "text": [
      "/var/folders/5d/9jrnkbxx5bb_l2v7b5pxxnfm0000gn/T/ipykernel_16119/603308844.py:17: UserWarning: This pattern is interpreted as a regular expression, and has match groups. To actually get the groups, use str.extract.\n",
      "  if sum(df['Firm Name'].str.contains(dot_pattern, '...', regex=True))>0:\n",
      "/var/folders/5d/9jrnkbxx5bb_l2v7b5pxxnfm0000gn/T/ipykernel_16119/603308844.py:17: UserWarning: This pattern is interpreted as a regular expression, and has match groups. To actually get the groups, use str.extract.\n",
      "  if sum(df['Firm Name'].str.contains(dot_pattern, '...', regex=True))>0:\n",
      "/var/folders/5d/9jrnkbxx5bb_l2v7b5pxxnfm0000gn/T/ipykernel_16119/603308844.py:17: UserWarning: This pattern is interpreted as a regular expression, and has match groups. To actually get the groups, use str.extract.\n",
      "  if sum(df['Firm Name'].str.contains(dot_pattern, '...', regex=True))>0:\n",
      "/var/folders/5d/9jrnkbxx5bb_l2v7b5pxxnfm0000gn/T/ipykernel_16119/603308844.py:19: UserWarning: This pattern is interpreted as a regular expression, and has match groups. To actually get the groups, use str.extract.\n",
      "  not_matching_pattern = ~df['Firm Name'].str.contains(dot_pattern)\n",
      "/var/folders/5d/9jrnkbxx5bb_l2v7b5pxxnfm0000gn/T/ipykernel_16119/603308844.py:17: UserWarning: This pattern is interpreted as a regular expression, and has match groups. To actually get the groups, use str.extract.\n",
      "  if sum(df['Firm Name'].str.contains(dot_pattern, '...', regex=True))>0:\n",
      "/var/folders/5d/9jrnkbxx5bb_l2v7b5pxxnfm0000gn/T/ipykernel_16119/603308844.py:17: UserWarning: This pattern is interpreted as a regular expression, and has match groups. To actually get the groups, use str.extract.\n",
      "  if sum(df['Firm Name'].str.contains(dot_pattern, '...', regex=True))>0:\n",
      "/var/folders/5d/9jrnkbxx5bb_l2v7b5pxxnfm0000gn/T/ipykernel_16119/603308844.py:17: UserWarning: This pattern is interpreted as a regular expression, and has match groups. To actually get the groups, use str.extract.\n",
      "  if sum(df['Firm Name'].str.contains(dot_pattern, '...', regex=True))>0:\n",
      "/var/folders/5d/9jrnkbxx5bb_l2v7b5pxxnfm0000gn/T/ipykernel_16119/603308844.py:17: UserWarning: This pattern is interpreted as a regular expression, and has match groups. To actually get the groups, use str.extract.\n",
      "  if sum(df['Firm Name'].str.contains(dot_pattern, '...', regex=True))>0:\n",
      "/var/folders/5d/9jrnkbxx5bb_l2v7b5pxxnfm0000gn/T/ipykernel_16119/603308844.py:17: UserWarning: This pattern is interpreted as a regular expression, and has match groups. To actually get the groups, use str.extract.\n",
      "  if sum(df['Firm Name'].str.contains(dot_pattern, '...', regex=True))>0:\n",
      "/var/folders/5d/9jrnkbxx5bb_l2v7b5pxxnfm0000gn/T/ipykernel_16119/603308844.py:17: UserWarning: This pattern is interpreted as a regular expression, and has match groups. To actually get the groups, use str.extract.\n",
      "  if sum(df['Firm Name'].str.contains(dot_pattern, '...', regex=True))>0:\n",
      "/var/folders/5d/9jrnkbxx5bb_l2v7b5pxxnfm0000gn/T/ipykernel_16119/603308844.py:17: UserWarning: This pattern is interpreted as a regular expression, and has match groups. To actually get the groups, use str.extract.\n",
      "  if sum(df['Firm Name'].str.contains(dot_pattern, '...', regex=True))>0:\n",
      "/var/folders/5d/9jrnkbxx5bb_l2v7b5pxxnfm0000gn/T/ipykernel_16119/603308844.py:17: UserWarning: This pattern is interpreted as a regular expression, and has match groups. To actually get the groups, use str.extract.\n",
      "  if sum(df['Firm Name'].str.contains(dot_pattern, '...', regex=True))>0:\n"
     ]
    },
    {
     "name": "stdout",
     "output_type": "stream",
     "text": [
      "/Users/minhthao/Desktop/MSDA/Summer 2023/Bloomberg/SPLC Images/CSVs/SHAK/Customers/C 1.csv\n",
      "/Users/minhthao/Desktop/MSDA/Summer 2023/Bloomberg/SPLC Images/CSVs/GP/Customers/C 1.csv\n",
      "/Users/minhthao/Desktop/MSDA/Summer 2023/Bloomberg/SPLC Images/CSVs/HTGMQ/Customers/C 1.csv\n",
      "/Users/minhthao/Desktop/MSDA/Summer 2023/Bloomberg/SPLC Images/CSVs/PATI/Customers/C 1.csv\n",
      "/Users/minhthao/Desktop/MSDA/Summer 2023/Bloomberg/SPLC Images/CSVs/CC/Customers/C 2.csv\n",
      "/Users/minhthao/Desktop/MSDA/Summer 2023/Bloomberg/SPLC Images/CSVs/CC/Customers/C 1.csv\n",
      "/Users/minhthao/Desktop/MSDA/Summer 2023/Bloomberg/SPLC Images/CSVs/TIKK/Customers/C 2.csv\n",
      "/Users/minhthao/Desktop/MSDA/Summer 2023/Bloomberg/SPLC Images/CSVs/TIKK/Customers/C 1.csv\n",
      "/Users/minhthao/Desktop/MSDA/Summer 2023/Bloomberg/SPLC Images/CSVs/UQM/Customers/C 1.csv\n",
      "/Users/minhthao/Desktop/MSDA/Summer 2023/Bloomberg/SPLC Images/CSVs/KEN/Customers/C 1.csv\n",
      "/Users/minhthao/Desktop/MSDA/Summer 2023/Bloomberg/SPLC Images/CSVs/TBPMF/Customers/C 1.csv\n"
     ]
    },
    {
     "name": "stderr",
     "output_type": "stream",
     "text": [
      "/var/folders/5d/9jrnkbxx5bb_l2v7b5pxxnfm0000gn/T/ipykernel_16119/603308844.py:17: UserWarning: This pattern is interpreted as a regular expression, and has match groups. To actually get the groups, use str.extract.\n",
      "  if sum(df['Firm Name'].str.contains(dot_pattern, '...', regex=True))>0:\n",
      "/var/folders/5d/9jrnkbxx5bb_l2v7b5pxxnfm0000gn/T/ipykernel_16119/603308844.py:17: UserWarning: This pattern is interpreted as a regular expression, and has match groups. To actually get the groups, use str.extract.\n",
      "  if sum(df['Firm Name'].str.contains(dot_pattern, '...', regex=True))>0:\n",
      "/var/folders/5d/9jrnkbxx5bb_l2v7b5pxxnfm0000gn/T/ipykernel_16119/603308844.py:19: UserWarning: This pattern is interpreted as a regular expression, and has match groups. To actually get the groups, use str.extract.\n",
      "  not_matching_pattern = ~df['Firm Name'].str.contains(dot_pattern)\n",
      "/var/folders/5d/9jrnkbxx5bb_l2v7b5pxxnfm0000gn/T/ipykernel_16119/603308844.py:17: UserWarning: This pattern is interpreted as a regular expression, and has match groups. To actually get the groups, use str.extract.\n",
      "  if sum(df['Firm Name'].str.contains(dot_pattern, '...', regex=True))>0:\n",
      "/var/folders/5d/9jrnkbxx5bb_l2v7b5pxxnfm0000gn/T/ipykernel_16119/603308844.py:17: UserWarning: This pattern is interpreted as a regular expression, and has match groups. To actually get the groups, use str.extract.\n",
      "  if sum(df['Firm Name'].str.contains(dot_pattern, '...', regex=True))>0:\n",
      "/var/folders/5d/9jrnkbxx5bb_l2v7b5pxxnfm0000gn/T/ipykernel_16119/603308844.py:19: UserWarning: This pattern is interpreted as a regular expression, and has match groups. To actually get the groups, use str.extract.\n",
      "  not_matching_pattern = ~df['Firm Name'].str.contains(dot_pattern)\n",
      "/var/folders/5d/9jrnkbxx5bb_l2v7b5pxxnfm0000gn/T/ipykernel_16119/603308844.py:17: UserWarning: This pattern is interpreted as a regular expression, and has match groups. To actually get the groups, use str.extract.\n",
      "  if sum(df['Firm Name'].str.contains(dot_pattern, '...', regex=True))>0:\n",
      "/var/folders/5d/9jrnkbxx5bb_l2v7b5pxxnfm0000gn/T/ipykernel_16119/603308844.py:17: UserWarning: This pattern is interpreted as a regular expression, and has match groups. To actually get the groups, use str.extract.\n",
      "  if sum(df['Firm Name'].str.contains(dot_pattern, '...', regex=True))>0:\n",
      "/var/folders/5d/9jrnkbxx5bb_l2v7b5pxxnfm0000gn/T/ipykernel_16119/603308844.py:17: UserWarning: This pattern is interpreted as a regular expression, and has match groups. To actually get the groups, use str.extract.\n",
      "  if sum(df['Firm Name'].str.contains(dot_pattern, '...', regex=True))>0:\n",
      "/var/folders/5d/9jrnkbxx5bb_l2v7b5pxxnfm0000gn/T/ipykernel_16119/603308844.py:17: UserWarning: This pattern is interpreted as a regular expression, and has match groups. To actually get the groups, use str.extract.\n",
      "  if sum(df['Firm Name'].str.contains(dot_pattern, '...', regex=True))>0:\n",
      "/var/folders/5d/9jrnkbxx5bb_l2v7b5pxxnfm0000gn/T/ipykernel_16119/603308844.py:17: UserWarning: This pattern is interpreted as a regular expression, and has match groups. To actually get the groups, use str.extract.\n",
      "  if sum(df['Firm Name'].str.contains(dot_pattern, '...', regex=True))>0:\n"
     ]
    },
    {
     "name": "stdout",
     "output_type": "stream",
     "text": [
      "/Users/minhthao/Desktop/MSDA/Summer 2023/Bloomberg/SPLC Images/CSVs/TRMB/Customers/C 2.csv\n",
      "/Users/minhthao/Desktop/MSDA/Summer 2023/Bloomberg/SPLC Images/CSVs/TRMB/Customers/C 1.csv\n",
      "/Users/minhthao/Desktop/MSDA/Summer 2023/Bloomberg/SPLC Images/CSVs/VERU/Customers/C 1.csv\n",
      "/Users/minhthao/Desktop/MSDA/Summer 2023/Bloomberg/SPLC Images/CSVs/ENR/Customers/C 2.csv\n",
      "/Users/minhthao/Desktop/MSDA/Summer 2023/Bloomberg/SPLC Images/CSVs/ENR/Customers/C 1.csv\n",
      "/Users/minhthao/Desktop/MSDA/Summer 2023/Bloomberg/SPLC Images/CSVs/BHE/Customers/C 3.csv\n",
      "/Users/minhthao/Desktop/MSDA/Summer 2023/Bloomberg/SPLC Images/CSVs/BHE/Customers/C 2.csv\n",
      "/Users/minhthao/Desktop/MSDA/Summer 2023/Bloomberg/SPLC Images/CSVs/BHE/Customers/C 1.csv\n",
      "/Users/minhthao/Desktop/MSDA/Summer 2023/Bloomberg/SPLC Images/CSVs/RKDA/Customers/C 1.csv\n",
      "/Users/minhthao/Desktop/MSDA/Summer 2023/Bloomberg/SPLC Images/CSVs/VRAY/Customers/C 1.csv\n",
      "/Users/minhthao/Desktop/MSDA/Summer 2023/Bloomberg/SPLC Images/CSVs/SEDG/Customers/C 1.csv\n",
      "/Users/minhthao/Desktop/MSDA/Summer 2023/Bloomberg/SPLC Images/CSVs/BLBD/Customers/C 1.csv\n",
      "/Users/minhthao/Desktop/MSDA/Summer 2023/Bloomberg/SPLC Images/CSVs/BNED/Customers/C 1.csv\n"
     ]
    },
    {
     "name": "stderr",
     "output_type": "stream",
     "text": [
      "/var/folders/5d/9jrnkbxx5bb_l2v7b5pxxnfm0000gn/T/ipykernel_16119/603308844.py:17: UserWarning: This pattern is interpreted as a regular expression, and has match groups. To actually get the groups, use str.extract.\n",
      "  if sum(df['Firm Name'].str.contains(dot_pattern, '...', regex=True))>0:\n",
      "/var/folders/5d/9jrnkbxx5bb_l2v7b5pxxnfm0000gn/T/ipykernel_16119/603308844.py:17: UserWarning: This pattern is interpreted as a regular expression, and has match groups. To actually get the groups, use str.extract.\n",
      "  if sum(df['Firm Name'].str.contains(dot_pattern, '...', regex=True))>0:\n",
      "/var/folders/5d/9jrnkbxx5bb_l2v7b5pxxnfm0000gn/T/ipykernel_16119/603308844.py:17: UserWarning: This pattern is interpreted as a regular expression, and has match groups. To actually get the groups, use str.extract.\n",
      "  if sum(df['Firm Name'].str.contains(dot_pattern, '...', regex=True))>0:\n",
      "/var/folders/5d/9jrnkbxx5bb_l2v7b5pxxnfm0000gn/T/ipykernel_16119/603308844.py:17: UserWarning: This pattern is interpreted as a regular expression, and has match groups. To actually get the groups, use str.extract.\n",
      "  if sum(df['Firm Name'].str.contains(dot_pattern, '...', regex=True))>0:\n",
      "/var/folders/5d/9jrnkbxx5bb_l2v7b5pxxnfm0000gn/T/ipykernel_16119/603308844.py:17: UserWarning: This pattern is interpreted as a regular expression, and has match groups. To actually get the groups, use str.extract.\n",
      "  if sum(df['Firm Name'].str.contains(dot_pattern, '...', regex=True))>0:\n",
      "/var/folders/5d/9jrnkbxx5bb_l2v7b5pxxnfm0000gn/T/ipykernel_16119/603308844.py:17: UserWarning: This pattern is interpreted as a regular expression, and has match groups. To actually get the groups, use str.extract.\n",
      "  if sum(df['Firm Name'].str.contains(dot_pattern, '...', regex=True))>0:\n",
      "/var/folders/5d/9jrnkbxx5bb_l2v7b5pxxnfm0000gn/T/ipykernel_16119/603308844.py:17: UserWarning: This pattern is interpreted as a regular expression, and has match groups. To actually get the groups, use str.extract.\n",
      "  if sum(df['Firm Name'].str.contains(dot_pattern, '...', regex=True))>0:\n"
     ]
    },
    {
     "name": "stdout",
     "output_type": "stream",
     "text": [
      "/Users/minhthao/Desktop/MSDA/Summer 2023/Bloomberg/SPLC Images/CSVs/ESE/Customers/C 3.csv\n",
      "/Users/minhthao/Desktop/MSDA/Summer 2023/Bloomberg/SPLC Images/CSVs/ESE/Customers/C 2.csv\n",
      "/Users/minhthao/Desktop/MSDA/Summer 2023/Bloomberg/SPLC Images/CSVs/ESE/Customers/C 1.csv\n",
      "/Users/minhthao/Desktop/MSDA/Summer 2023/Bloomberg/SPLC Images/CSVs/OPGN/Customers/C 1.csv\n",
      "/Users/minhthao/Desktop/MSDA/Summer 2023/Bloomberg/SPLC Images/CSVs/KRNT/Customers/C 1.csv\n"
     ]
    },
    {
     "name": "stderr",
     "output_type": "stream",
     "text": [
      "/var/folders/5d/9jrnkbxx5bb_l2v7b5pxxnfm0000gn/T/ipykernel_16119/603308844.py:17: UserWarning: This pattern is interpreted as a regular expression, and has match groups. To actually get the groups, use str.extract.\n",
      "  if sum(df['Firm Name'].str.contains(dot_pattern, '...', regex=True))>0:\n",
      "/var/folders/5d/9jrnkbxx5bb_l2v7b5pxxnfm0000gn/T/ipykernel_16119/603308844.py:17: UserWarning: This pattern is interpreted as a regular expression, and has match groups. To actually get the groups, use str.extract.\n",
      "  if sum(df['Firm Name'].str.contains(dot_pattern, '...', regex=True))>0:\n",
      "/var/folders/5d/9jrnkbxx5bb_l2v7b5pxxnfm0000gn/T/ipykernel_16119/603308844.py:17: UserWarning: This pattern is interpreted as a regular expression, and has match groups. To actually get the groups, use str.extract.\n",
      "  if sum(df['Firm Name'].str.contains(dot_pattern, '...', regex=True))>0:\n"
     ]
    },
    {
     "name": "stdout",
     "output_type": "stream",
     "text": [
      "/Users/minhthao/Desktop/MSDA/Summer 2023/Bloomberg/SPLC Images/CSVs/LITE/Customers/C 3.csv\n",
      "/Users/minhthao/Desktop/MSDA/Summer 2023/Bloomberg/SPLC Images/CSVs/LITE/Customers/C 2.csv\n",
      "/Users/minhthao/Desktop/MSDA/Summer 2023/Bloomberg/SPLC Images/CSVs/LITE/Customers/C 1.csv\n",
      "/Users/minhthao/Desktop/MSDA/Summer 2023/Bloomberg/SPLC Images/CSVs/ETD/Customers/C 1.csv\n",
      "/Users/minhthao/Desktop/MSDA/Summer 2023/Bloomberg/SPLC Images/CSVs/BNKL/Customers/C 1.csv\n",
      "/Users/minhthao/Desktop/MSDA/Summer 2023/Bloomberg/SPLC Images/CSVs/BIOL/Customers/C 1.csv\n",
      "/Users/minhthao/Desktop/MSDA/Summer 2023/Bloomberg/SPLC Images/CSVs/EVA/Customers/C 1.csv\n"
     ]
    },
    {
     "name": "stderr",
     "output_type": "stream",
     "text": [
      "/var/folders/5d/9jrnkbxx5bb_l2v7b5pxxnfm0000gn/T/ipykernel_16119/603308844.py:17: UserWarning: This pattern is interpreted as a regular expression, and has match groups. To actually get the groups, use str.extract.\n",
      "  if sum(df['Firm Name'].str.contains(dot_pattern, '...', regex=True))>0:\n",
      "/var/folders/5d/9jrnkbxx5bb_l2v7b5pxxnfm0000gn/T/ipykernel_16119/603308844.py:17: UserWarning: This pattern is interpreted as a regular expression, and has match groups. To actually get the groups, use str.extract.\n",
      "  if sum(df['Firm Name'].str.contains(dot_pattern, '...', regex=True))>0:\n",
      "/var/folders/5d/9jrnkbxx5bb_l2v7b5pxxnfm0000gn/T/ipykernel_16119/603308844.py:17: UserWarning: This pattern is interpreted as a regular expression, and has match groups. To actually get the groups, use str.extract.\n",
      "  if sum(df['Firm Name'].str.contains(dot_pattern, '...', regex=True))>0:\n",
      "/var/folders/5d/9jrnkbxx5bb_l2v7b5pxxnfm0000gn/T/ipykernel_16119/603308844.py:17: UserWarning: This pattern is interpreted as a regular expression, and has match groups. To actually get the groups, use str.extract.\n",
      "  if sum(df['Firm Name'].str.contains(dot_pattern, '...', regex=True))>0:\n",
      "/var/folders/5d/9jrnkbxx5bb_l2v7b5pxxnfm0000gn/T/ipykernel_16119/603308844.py:17: UserWarning: This pattern is interpreted as a regular expression, and has match groups. To actually get the groups, use str.extract.\n",
      "  if sum(df['Firm Name'].str.contains(dot_pattern, '...', regex=True))>0:\n",
      "/var/folders/5d/9jrnkbxx5bb_l2v7b5pxxnfm0000gn/T/ipykernel_16119/603308844.py:17: UserWarning: This pattern is interpreted as a regular expression, and has match groups. To actually get the groups, use str.extract.\n",
      "  if sum(df['Firm Name'].str.contains(dot_pattern, '...', regex=True))>0:\n"
     ]
    },
    {
     "name": "stdout",
     "output_type": "stream",
     "text": [
      "/Users/minhthao/Desktop/MSDA/Summer 2023/Bloomberg/SPLC Images/CSVs/XBIT/Customers/C 1.csv\n",
      "/Users/minhthao/Desktop/MSDA/Summer 2023/Bloomberg/SPLC Images/CSVs/CDTX/Customers/C 1.csv\n",
      "/Users/minhthao/Desktop/MSDA/Summer 2023/Bloomberg/SPLC Images/CSVs/UPDC/Customers/C 1.csv\n",
      "/Users/minhthao/Desktop/MSDA/Summer 2023/Bloomberg/SPLC Images/CSVs/BPMC/Customers/C 1.csv\n",
      "/Users/minhthao/Desktop/MSDA/Summer 2023/Bloomberg/SPLC Images/CSVs/CVA/Customers/C 2.csv\n",
      "/Users/minhthao/Desktop/MSDA/Summer 2023/Bloomberg/SPLC Images/CSVs/CVA/Customers/C 1.csv\n",
      "/Users/minhthao/Desktop/MSDA/Summer 2023/Bloomberg/SPLC Images/CSVs/HZN/Customers/C 1.csv\n"
     ]
    },
    {
     "name": "stderr",
     "output_type": "stream",
     "text": [
      "/var/folders/5d/9jrnkbxx5bb_l2v7b5pxxnfm0000gn/T/ipykernel_16119/603308844.py:17: UserWarning: This pattern is interpreted as a regular expression, and has match groups. To actually get the groups, use str.extract.\n",
      "  if sum(df['Firm Name'].str.contains(dot_pattern, '...', regex=True))>0:\n",
      "/var/folders/5d/9jrnkbxx5bb_l2v7b5pxxnfm0000gn/T/ipykernel_16119/603308844.py:17: UserWarning: This pattern is interpreted as a regular expression, and has match groups. To actually get the groups, use str.extract.\n",
      "  if sum(df['Firm Name'].str.contains(dot_pattern, '...', regex=True))>0:\n",
      "/var/folders/5d/9jrnkbxx5bb_l2v7b5pxxnfm0000gn/T/ipykernel_16119/603308844.py:17: UserWarning: This pattern is interpreted as a regular expression, and has match groups. To actually get the groups, use str.extract.\n",
      "  if sum(df['Firm Name'].str.contains(dot_pattern, '...', regex=True))>0:\n",
      "/var/folders/5d/9jrnkbxx5bb_l2v7b5pxxnfm0000gn/T/ipykernel_16119/603308844.py:17: UserWarning: This pattern is interpreted as a regular expression, and has match groups. To actually get the groups, use str.extract.\n",
      "  if sum(df['Firm Name'].str.contains(dot_pattern, '...', regex=True))>0:\n",
      "/var/folders/5d/9jrnkbxx5bb_l2v7b5pxxnfm0000gn/T/ipykernel_16119/603308844.py:17: UserWarning: This pattern is interpreted as a regular expression, and has match groups. To actually get the groups, use str.extract.\n",
      "  if sum(df['Firm Name'].str.contains(dot_pattern, '...', regex=True))>0:\n",
      "/var/folders/5d/9jrnkbxx5bb_l2v7b5pxxnfm0000gn/T/ipykernel_16119/603308844.py:17: UserWarning: This pattern is interpreted as a regular expression, and has match groups. To actually get the groups, use str.extract.\n",
      "  if sum(df['Firm Name'].str.contains(dot_pattern, '...', regex=True))>0:\n"
     ]
    },
    {
     "name": "stdout",
     "output_type": "stream",
     "text": [
      "/Users/minhthao/Desktop/MSDA/Summer 2023/Bloomberg/SPLC Images/CSVs/COLL/Customers/C 1.csv\n",
      "/Users/minhthao/Desktop/MSDA/Summer 2023/Bloomberg/SPLC Images/CSVs/DTEA/Customers/C 1.csv\n",
      "/Users/minhthao/Desktop/MSDA/Summer 2023/Bloomberg/SPLC Images/CSVs/ADAP/Customers/C 1.csv\n",
      "/Users/minhthao/Desktop/MSDA/Summer 2023/Bloomberg/SPLC Images/CSVs/HAYN/Customers/C 2.csv\n",
      "/Users/minhthao/Desktop/MSDA/Summer 2023/Bloomberg/SPLC Images/CSVs/HAYN/Customers/C 1.csv\n",
      "/Users/minhthao/Desktop/MSDA/Summer 2023/Bloomberg/SPLC Images/CSVs/SMTI/Customers/C 1.csv\n",
      "/Users/minhthao/Desktop/MSDA/Summer 2023/Bloomberg/SPLC Images/CSVs/ADRNY/Customers/C 1.csv\n"
     ]
    },
    {
     "name": "stderr",
     "output_type": "stream",
     "text": [
      "/var/folders/5d/9jrnkbxx5bb_l2v7b5pxxnfm0000gn/T/ipykernel_16119/603308844.py:17: UserWarning: This pattern is interpreted as a regular expression, and has match groups. To actually get the groups, use str.extract.\n",
      "  if sum(df['Firm Name'].str.contains(dot_pattern, '...', regex=True))>0:\n",
      "/var/folders/5d/9jrnkbxx5bb_l2v7b5pxxnfm0000gn/T/ipykernel_16119/603308844.py:17: UserWarning: This pattern is interpreted as a regular expression, and has match groups. To actually get the groups, use str.extract.\n",
      "  if sum(df['Firm Name'].str.contains(dot_pattern, '...', regex=True))>0:\n",
      "/var/folders/5d/9jrnkbxx5bb_l2v7b5pxxnfm0000gn/T/ipykernel_16119/603308844.py:19: UserWarning: This pattern is interpreted as a regular expression, and has match groups. To actually get the groups, use str.extract.\n",
      "  not_matching_pattern = ~df['Firm Name'].str.contains(dot_pattern)\n",
      "/var/folders/5d/9jrnkbxx5bb_l2v7b5pxxnfm0000gn/T/ipykernel_16119/603308844.py:17: UserWarning: This pattern is interpreted as a regular expression, and has match groups. To actually get the groups, use str.extract.\n",
      "  if sum(df['Firm Name'].str.contains(dot_pattern, '...', regex=True))>0:\n",
      "/var/folders/5d/9jrnkbxx5bb_l2v7b5pxxnfm0000gn/T/ipykernel_16119/603308844.py:17: UserWarning: This pattern is interpreted as a regular expression, and has match groups. To actually get the groups, use str.extract.\n",
      "  if sum(df['Firm Name'].str.contains(dot_pattern, '...', regex=True))>0:\n",
      "/var/folders/5d/9jrnkbxx5bb_l2v7b5pxxnfm0000gn/T/ipykernel_16119/603308844.py:17: UserWarning: This pattern is interpreted as a regular expression, and has match groups. To actually get the groups, use str.extract.\n",
      "  if sum(df['Firm Name'].str.contains(dot_pattern, '...', regex=True))>0:\n"
     ]
    },
    {
     "name": "stdout",
     "output_type": "stream",
     "text": [
      "/Users/minhthao/Desktop/MSDA/Summer 2023/Bloomberg/SPLC Images/CSVs/NOK/Customers/C 9.csv\n",
      "/Users/minhthao/Desktop/MSDA/Summer 2023/Bloomberg/SPLC Images/CSVs/NOK/Customers/C 8.csv\n",
      "/Users/minhthao/Desktop/MSDA/Summer 2023/Bloomberg/SPLC Images/CSVs/NOK/Customers/C 3.csv\n",
      "/Users/minhthao/Desktop/MSDA/Summer 2023/Bloomberg/SPLC Images/CSVs/NOK/Customers/C 11.csv\n",
      "/Users/minhthao/Desktop/MSDA/Summer 2023/Bloomberg/SPLC Images/CSVs/NOK/Customers/C 10.csv\n",
      "/Users/minhthao/Desktop/MSDA/Summer 2023/Bloomberg/SPLC Images/CSVs/NOK/Customers/C 2.csv\n",
      "/Users/minhthao/Desktop/MSDA/Summer 2023/Bloomberg/SPLC Images/CSVs/NOK/Customers/C 12.csv\n",
      "/Users/minhthao/Desktop/MSDA/Summer 2023/Bloomberg/SPLC Images/CSVs/NOK/Customers/C 13.csv\n",
      "/Users/minhthao/Desktop/MSDA/Summer 2023/Bloomberg/SPLC Images/CSVs/NOK/Customers/C 1.csv\n",
      "/Users/minhthao/Desktop/MSDA/Summer 2023/Bloomberg/SPLC Images/CSVs/NOK/Customers/C 5.csv\n",
      "/Users/minhthao/Desktop/MSDA/Summer 2023/Bloomberg/SPLC Images/CSVs/NOK/Customers/C 4.csv\n",
      "/Users/minhthao/Desktop/MSDA/Summer 2023/Bloomberg/SPLC Images/CSVs/NOK/Customers/C 6.csv\n",
      "/Users/minhthao/Desktop/MSDA/Summer 2023/Bloomberg/SPLC Images/CSVs/NOK/Customers/C 14.csv\n",
      "/Users/minhthao/Desktop/MSDA/Summer 2023/Bloomberg/SPLC Images/CSVs/NOK/Customers/C 15.csv\n",
      "/Users/minhthao/Desktop/MSDA/Summer 2023/Bloomberg/SPLC Images/CSVs/NOK/Customers/C 7.csv\n"
     ]
    },
    {
     "name": "stderr",
     "output_type": "stream",
     "text": [
      "/var/folders/5d/9jrnkbxx5bb_l2v7b5pxxnfm0000gn/T/ipykernel_16119/603308844.py:17: UserWarning: This pattern is interpreted as a regular expression, and has match groups. To actually get the groups, use str.extract.\n",
      "  if sum(df['Firm Name'].str.contains(dot_pattern, '...', regex=True))>0:\n",
      "/var/folders/5d/9jrnkbxx5bb_l2v7b5pxxnfm0000gn/T/ipykernel_16119/603308844.py:17: UserWarning: This pattern is interpreted as a regular expression, and has match groups. To actually get the groups, use str.extract.\n",
      "  if sum(df['Firm Name'].str.contains(dot_pattern, '...', regex=True))>0:\n",
      "/var/folders/5d/9jrnkbxx5bb_l2v7b5pxxnfm0000gn/T/ipykernel_16119/603308844.py:17: UserWarning: This pattern is interpreted as a regular expression, and has match groups. To actually get the groups, use str.extract.\n",
      "  if sum(df['Firm Name'].str.contains(dot_pattern, '...', regex=True))>0:\n",
      "/var/folders/5d/9jrnkbxx5bb_l2v7b5pxxnfm0000gn/T/ipykernel_16119/603308844.py:17: UserWarning: This pattern is interpreted as a regular expression, and has match groups. To actually get the groups, use str.extract.\n",
      "  if sum(df['Firm Name'].str.contains(dot_pattern, '...', regex=True))>0:\n",
      "/var/folders/5d/9jrnkbxx5bb_l2v7b5pxxnfm0000gn/T/ipykernel_16119/603308844.py:17: UserWarning: This pattern is interpreted as a regular expression, and has match groups. To actually get the groups, use str.extract.\n",
      "  if sum(df['Firm Name'].str.contains(dot_pattern, '...', regex=True))>0:\n",
      "/var/folders/5d/9jrnkbxx5bb_l2v7b5pxxnfm0000gn/T/ipykernel_16119/603308844.py:19: UserWarning: This pattern is interpreted as a regular expression, and has match groups. To actually get the groups, use str.extract.\n",
      "  not_matching_pattern = ~df['Firm Name'].str.contains(dot_pattern)\n",
      "/var/folders/5d/9jrnkbxx5bb_l2v7b5pxxnfm0000gn/T/ipykernel_16119/603308844.py:17: UserWarning: This pattern is interpreted as a regular expression, and has match groups. To actually get the groups, use str.extract.\n",
      "  if sum(df['Firm Name'].str.contains(dot_pattern, '...', regex=True))>0:\n"
     ]
    },
    {
     "name": "stdout",
     "output_type": "stream",
     "text": [
      "/Users/minhthao/Desktop/MSDA/Summer 2023/Bloomberg/SPLC Images/CSVs/SONC/Customers/C 1.csv\n",
      "/Users/minhthao/Desktop/MSDA/Summer 2023/Bloomberg/SPLC Images/CSVs/PAVM/Customers/C 1.csv\n",
      "/Users/minhthao/Desktop/MSDA/Summer 2023/Bloomberg/SPLC Images/CSVs/DORM/Customers/C 1.csv\n",
      "/Users/minhthao/Desktop/MSDA/Summer 2023/Bloomberg/SPLC Images/CSVs/REGN/Customers/C 2.csv\n",
      "/Users/minhthao/Desktop/MSDA/Summer 2023/Bloomberg/SPLC Images/CSVs/REGN/Customers/C 1.csv\n",
      "/Users/minhthao/Desktop/MSDA/Summer 2023/Bloomberg/SPLC Images/CSVs/VIRX/Customers/C 1.csv\n",
      "/Users/minhthao/Desktop/MSDA/Summer 2023/Bloomberg/SPLC Images/CSVs/FIT/Customers/C 1.csv\n"
     ]
    },
    {
     "name": "stderr",
     "output_type": "stream",
     "text": [
      "/var/folders/5d/9jrnkbxx5bb_l2v7b5pxxnfm0000gn/T/ipykernel_16119/603308844.py:17: UserWarning: This pattern is interpreted as a regular expression, and has match groups. To actually get the groups, use str.extract.\n",
      "  if sum(df['Firm Name'].str.contains(dot_pattern, '...', regex=True))>0:\n",
      "/var/folders/5d/9jrnkbxx5bb_l2v7b5pxxnfm0000gn/T/ipykernel_16119/603308844.py:17: UserWarning: This pattern is interpreted as a regular expression, and has match groups. To actually get the groups, use str.extract.\n",
      "  if sum(df['Firm Name'].str.contains(dot_pattern, '...', regex=True))>0:\n",
      "/var/folders/5d/9jrnkbxx5bb_l2v7b5pxxnfm0000gn/T/ipykernel_16119/603308844.py:17: UserWarning: This pattern is interpreted as a regular expression, and has match groups. To actually get the groups, use str.extract.\n",
      "  if sum(df['Firm Name'].str.contains(dot_pattern, '...', regex=True))>0:\n",
      "/var/folders/5d/9jrnkbxx5bb_l2v7b5pxxnfm0000gn/T/ipykernel_16119/603308844.py:17: UserWarning: This pattern is interpreted as a regular expression, and has match groups. To actually get the groups, use str.extract.\n",
      "  if sum(df['Firm Name'].str.contains(dot_pattern, '...', regex=True))>0:\n",
      "/var/folders/5d/9jrnkbxx5bb_l2v7b5pxxnfm0000gn/T/ipykernel_16119/603308844.py:17: UserWarning: This pattern is interpreted as a regular expression, and has match groups. To actually get the groups, use str.extract.\n",
      "  if sum(df['Firm Name'].str.contains(dot_pattern, '...', regex=True))>0:\n",
      "/var/folders/5d/9jrnkbxx5bb_l2v7b5pxxnfm0000gn/T/ipykernel_16119/603308844.py:17: UserWarning: This pattern is interpreted as a regular expression, and has match groups. To actually get the groups, use str.extract.\n",
      "  if sum(df['Firm Name'].str.contains(dot_pattern, '...', regex=True))>0:\n"
     ]
    },
    {
     "name": "stdout",
     "output_type": "stream",
     "text": [
      "/Users/minhthao/Desktop/MSDA/Summer 2023/Bloomberg/SPLC Images/CSVs/BW/Customers/C 1.csv\n",
      "/Users/minhthao/Desktop/MSDA/Summer 2023/Bloomberg/SPLC Images/CSVs/X/Customers/C 1.csv\n",
      "/Users/minhthao/Desktop/MSDA/Summer 2023/Bloomberg/SPLC Images/CSVs/GKOS/Customers/C 1.csv\n",
      "/Users/minhthao/Desktop/MSDA/Summer 2023/Bloomberg/SPLC Images/CSVs/HAE/Customers/C 1.csv\n",
      "/Users/minhthao/Desktop/MSDA/Summer 2023/Bloomberg/SPLC Images/CSVs/IONS/Customers/C 1.csv\n",
      "/Users/minhthao/Desktop/MSDA/Summer 2023/Bloomberg/SPLC Images/CSVs/CFMS/Customers/C 1.csv\n"
     ]
    },
    {
     "name": "stderr",
     "output_type": "stream",
     "text": [
      "/var/folders/5d/9jrnkbxx5bb_l2v7b5pxxnfm0000gn/T/ipykernel_16119/603308844.py:17: UserWarning: This pattern is interpreted as a regular expression, and has match groups. To actually get the groups, use str.extract.\n",
      "  if sum(df['Firm Name'].str.contains(dot_pattern, '...', regex=True))>0:\n",
      "/var/folders/5d/9jrnkbxx5bb_l2v7b5pxxnfm0000gn/T/ipykernel_16119/603308844.py:17: UserWarning: This pattern is interpreted as a regular expression, and has match groups. To actually get the groups, use str.extract.\n",
      "  if sum(df['Firm Name'].str.contains(dot_pattern, '...', regex=True))>0:\n",
      "/var/folders/5d/9jrnkbxx5bb_l2v7b5pxxnfm0000gn/T/ipykernel_16119/603308844.py:17: UserWarning: This pattern is interpreted as a regular expression, and has match groups. To actually get the groups, use str.extract.\n",
      "  if sum(df['Firm Name'].str.contains(dot_pattern, '...', regex=True))>0:\n",
      "/var/folders/5d/9jrnkbxx5bb_l2v7b5pxxnfm0000gn/T/ipykernel_16119/603308844.py:17: UserWarning: This pattern is interpreted as a regular expression, and has match groups. To actually get the groups, use str.extract.\n",
      "  if sum(df['Firm Name'].str.contains(dot_pattern, '...', regex=True))>0:\n",
      "/var/folders/5d/9jrnkbxx5bb_l2v7b5pxxnfm0000gn/T/ipykernel_16119/603308844.py:17: UserWarning: This pattern is interpreted as a regular expression, and has match groups. To actually get the groups, use str.extract.\n",
      "  if sum(df['Firm Name'].str.contains(dot_pattern, '...', regex=True))>0:\n"
     ]
    },
    {
     "name": "stdout",
     "output_type": "stream",
     "text": [
      "/Users/minhthao/Desktop/MSDA/Summer 2023/Bloomberg/SPLC Images/CSVs/LCUT/Customers/C 2.csv\n",
      "/Users/minhthao/Desktop/MSDA/Summer 2023/Bloomberg/SPLC Images/CSVs/LCUT/Customers/C 1.csv\n",
      "/Users/minhthao/Desktop/MSDA/Summer 2023/Bloomberg/SPLC Images/CSVs/PNRA/Customers/C 1.csv\n",
      "/Users/minhthao/Desktop/MSDA/Summer 2023/Bloomberg/SPLC Images/CSVs/DBI/Customers/C 1.csv\n",
      "/Users/minhthao/Desktop/MSDA/Summer 2023/Bloomberg/SPLC Images/CSVs/MCRB/Customers/C 1.csv\n",
      "/Users/minhthao/Desktop/MSDA/Summer 2023/Bloomberg/SPLC Images/CSVs/IDXX/Customers/C 1.csv\n"
     ]
    },
    {
     "name": "stderr",
     "output_type": "stream",
     "text": [
      "/var/folders/5d/9jrnkbxx5bb_l2v7b5pxxnfm0000gn/T/ipykernel_16119/603308844.py:17: UserWarning: This pattern is interpreted as a regular expression, and has match groups. To actually get the groups, use str.extract.\n",
      "  if sum(df['Firm Name'].str.contains(dot_pattern, '...', regex=True))>0:\n",
      "/var/folders/5d/9jrnkbxx5bb_l2v7b5pxxnfm0000gn/T/ipykernel_16119/603308844.py:17: UserWarning: This pattern is interpreted as a regular expression, and has match groups. To actually get the groups, use str.extract.\n",
      "  if sum(df['Firm Name'].str.contains(dot_pattern, '...', regex=True))>0:\n"
     ]
    },
    {
     "name": "stdout",
     "output_type": "stream",
     "text": [
      "/Users/minhthao/Desktop/MSDA/Summer 2023/Bloomberg/SPLC Images/CSVs/STGYF/Customers/C 1.csv\n",
      "/Users/minhthao/Desktop/MSDA/Summer 2023/Bloomberg/SPLC Images/CSVs/AES/Customers/C 18.csv\n",
      "/Users/minhthao/Desktop/MSDA/Summer 2023/Bloomberg/SPLC Images/CSVs/AES/Customers/C 19.csv\n",
      "/Users/minhthao/Desktop/MSDA/Summer 2023/Bloomberg/SPLC Images/CSVs/AES/Customers/C 9.csv\n",
      "/Users/minhthao/Desktop/MSDA/Summer 2023/Bloomberg/SPLC Images/CSVs/AES/Customers/C 8.csv\n",
      "/Users/minhthao/Desktop/MSDA/Summer 2023/Bloomberg/SPLC Images/CSVs/AES/Customers/C 22.csv\n",
      "/Users/minhthao/Desktop/MSDA/Summer 2023/Bloomberg/SPLC Images/CSVs/AES/Customers/C 21.csv\n",
      "/Users/minhthao/Desktop/MSDA/Summer 2023/Bloomberg/SPLC Images/CSVs/AES/Customers/C 20.csv\n",
      "/Users/minhthao/Desktop/MSDA/Summer 2023/Bloomberg/SPLC Images/CSVs/AES/Customers/C 3.csv\n",
      "/Users/minhthao/Desktop/MSDA/Summer 2023/Bloomberg/SPLC Images/CSVs/AES/Customers/C 11.csv\n",
      "/Users/minhthao/Desktop/MSDA/Summer 2023/Bloomberg/SPLC Images/CSVs/AES/Customers/C 10.csv\n",
      "/Users/minhthao/Desktop/MSDA/Summer 2023/Bloomberg/SPLC Images/CSVs/AES/Customers/C 2.csv\n",
      "/Users/minhthao/Desktop/MSDA/Summer 2023/Bloomberg/SPLC Images/CSVs/AES/Customers/C 12.csv\n",
      "/Users/minhthao/Desktop/MSDA/Summer 2023/Bloomberg/SPLC Images/CSVs/AES/Customers/C 13.csv\n",
      "/Users/minhthao/Desktop/MSDA/Summer 2023/Bloomberg/SPLC Images/CSVs/AES/Customers/C 1.csv\n",
      "/Users/minhthao/Desktop/MSDA/Summer 2023/Bloomberg/SPLC Images/CSVs/AES/Customers/C 5.csv\n",
      "/Users/minhthao/Desktop/MSDA/Summer 2023/Bloomberg/SPLC Images/CSVs/AES/Customers/C 17.csv\n",
      "/Users/minhthao/Desktop/MSDA/Summer 2023/Bloomberg/SPLC Images/CSVs/AES/Customers/C 16.csv\n",
      "/Users/minhthao/Desktop/MSDA/Summer 2023/Bloomberg/SPLC Images/CSVs/AES/Customers/C 4.csv\n",
      "/Users/minhthao/Desktop/MSDA/Summer 2023/Bloomberg/SPLC Images/CSVs/AES/Customers/C 6.csv\n",
      "/Users/minhthao/Desktop/MSDA/Summer 2023/Bloomberg/SPLC Images/CSVs/AES/Customers/C 14.csv\n",
      "/Users/minhthao/Desktop/MSDA/Summer 2023/Bloomberg/SPLC Images/CSVs/AES/Customers/C 15.csv\n",
      "/Users/minhthao/Desktop/MSDA/Summer 2023/Bloomberg/SPLC Images/CSVs/AES/Customers/C 7.csv\n"
     ]
    },
    {
     "name": "stderr",
     "output_type": "stream",
     "text": [
      "/var/folders/5d/9jrnkbxx5bb_l2v7b5pxxnfm0000gn/T/ipykernel_16119/603308844.py:17: UserWarning: This pattern is interpreted as a regular expression, and has match groups. To actually get the groups, use str.extract.\n",
      "  if sum(df['Firm Name'].str.contains(dot_pattern, '...', regex=True))>0:\n",
      "/var/folders/5d/9jrnkbxx5bb_l2v7b5pxxnfm0000gn/T/ipykernel_16119/603308844.py:17: UserWarning: This pattern is interpreted as a regular expression, and has match groups. To actually get the groups, use str.extract.\n",
      "  if sum(df['Firm Name'].str.contains(dot_pattern, '...', regex=True))>0:\n",
      "/var/folders/5d/9jrnkbxx5bb_l2v7b5pxxnfm0000gn/T/ipykernel_16119/603308844.py:17: UserWarning: This pattern is interpreted as a regular expression, and has match groups. To actually get the groups, use str.extract.\n",
      "  if sum(df['Firm Name'].str.contains(dot_pattern, '...', regex=True))>0:\n",
      "/var/folders/5d/9jrnkbxx5bb_l2v7b5pxxnfm0000gn/T/ipykernel_16119/603308844.py:17: UserWarning: This pattern is interpreted as a regular expression, and has match groups. To actually get the groups, use str.extract.\n",
      "  if sum(df['Firm Name'].str.contains(dot_pattern, '...', regex=True))>0:\n",
      "/var/folders/5d/9jrnkbxx5bb_l2v7b5pxxnfm0000gn/T/ipykernel_16119/603308844.py:17: UserWarning: This pattern is interpreted as a regular expression, and has match groups. To actually get the groups, use str.extract.\n",
      "  if sum(df['Firm Name'].str.contains(dot_pattern, '...', regex=True))>0:\n",
      "/var/folders/5d/9jrnkbxx5bb_l2v7b5pxxnfm0000gn/T/ipykernel_16119/603308844.py:17: UserWarning: This pattern is interpreted as a regular expression, and has match groups. To actually get the groups, use str.extract.\n",
      "  if sum(df['Firm Name'].str.contains(dot_pattern, '...', regex=True))>0:\n",
      "/var/folders/5d/9jrnkbxx5bb_l2v7b5pxxnfm0000gn/T/ipykernel_16119/603308844.py:17: UserWarning: This pattern is interpreted as a regular expression, and has match groups. To actually get the groups, use str.extract.\n",
      "  if sum(df['Firm Name'].str.contains(dot_pattern, '...', regex=True))>0:\n",
      "/var/folders/5d/9jrnkbxx5bb_l2v7b5pxxnfm0000gn/T/ipykernel_16119/603308844.py:17: UserWarning: This pattern is interpreted as a regular expression, and has match groups. To actually get the groups, use str.extract.\n",
      "  if sum(df['Firm Name'].str.contains(dot_pattern, '...', regex=True))>0:\n",
      "/var/folders/5d/9jrnkbxx5bb_l2v7b5pxxnfm0000gn/T/ipykernel_16119/603308844.py:19: UserWarning: This pattern is interpreted as a regular expression, and has match groups. To actually get the groups, use str.extract.\n",
      "  not_matching_pattern = ~df['Firm Name'].str.contains(dot_pattern)\n",
      "/var/folders/5d/9jrnkbxx5bb_l2v7b5pxxnfm0000gn/T/ipykernel_16119/603308844.py:17: UserWarning: This pattern is interpreted as a regular expression, and has match groups. To actually get the groups, use str.extract.\n",
      "  if sum(df['Firm Name'].str.contains(dot_pattern, '...', regex=True))>0:\n"
     ]
    },
    {
     "name": "stdout",
     "output_type": "stream",
     "text": [
      "/Users/minhthao/Desktop/MSDA/Summer 2023/Bloomberg/SPLC Images/CSVs/IMBI/Customers/C 1.csv\n",
      "/Users/minhthao/Desktop/MSDA/Summer 2023/Bloomberg/SPLC Images/CSVs/PROF/Customers/C 1.csv\n",
      "/Users/minhthao/Desktop/MSDA/Summer 2023/Bloomberg/SPLC Images/CSVs/KALU/Customers/C 2.csv\n",
      "/Users/minhthao/Desktop/MSDA/Summer 2023/Bloomberg/SPLC Images/CSVs/KALU/Customers/C 1.csv\n",
      "/Users/minhthao/Desktop/MSDA/Summer 2023/Bloomberg/SPLC Images/CSVs/ALKS/Customers/C 2.csv\n",
      "/Users/minhthao/Desktop/MSDA/Summer 2023/Bloomberg/SPLC Images/CSVs/ALKS/Customers/C 1.csv\n",
      "/Users/minhthao/Desktop/MSDA/Summer 2023/Bloomberg/SPLC Images/CSVs/MNST/Customers/C 2.csv\n",
      "/Users/minhthao/Desktop/MSDA/Summer 2023/Bloomberg/SPLC Images/CSVs/MNST/Customers/C 1.csv\n",
      "/Users/minhthao/Desktop/MSDA/Summer 2023/Bloomberg/SPLC Images/CSVs/VRTX/Customers/C 1.csv\n",
      "/Users/minhthao/Desktop/MSDA/Summer 2023/Bloomberg/SPLC Images/CSVs/LIND/Customers/C 1.csv\n",
      "/Users/minhthao/Desktop/MSDA/Summer 2023/Bloomberg/SPLC Images/CSVs/RHDGF/Customers/C 1.csv\n",
      "/Users/minhthao/Desktop/MSDA/Summer 2023/Bloomberg/SPLC Images/CSVs/ZBRA/Customers/C 18.csv\n",
      "/Users/minhthao/Desktop/MSDA/Summer 2023/Bloomberg/SPLC Images/CSVs/ZBRA/Customers/C 19.csv\n",
      "/Users/minhthao/Desktop/MSDA/Summer 2023/Bloomberg/SPLC Images/CSVs/ZBRA/Customers/C 9.csv\n",
      "/Users/minhthao/Desktop/MSDA/Summer 2023/Bloomberg/SPLC Images/CSVs/ZBRA/Customers/C 8.csv\n",
      "/Users/minhthao/Desktop/MSDA/Summer 2023/Bloomberg/SPLC Images/CSVs/ZBRA/Customers/C 20.csv\n",
      "/Users/minhthao/Desktop/MSDA/Summer 2023/Bloomberg/SPLC Images/CSVs/ZBRA/Customers/C 3.csv\n",
      "/Users/minhthao/Desktop/MSDA/Summer 2023/Bloomberg/SPLC Images/CSVs/ZBRA/Customers/C 11.csv\n",
      "/Users/minhthao/Desktop/MSDA/Summer 2023/Bloomberg/SPLC Images/CSVs/ZBRA/Customers/C 10.csv\n",
      "/Users/minhthao/Desktop/MSDA/Summer 2023/Bloomberg/SPLC Images/CSVs/ZBRA/Customers/C 2.csv\n",
      "/Users/minhthao/Desktop/MSDA/Summer 2023/Bloomberg/SPLC Images/CSVs/ZBRA/Customers/C 12.csv\n",
      "/Users/minhthao/Desktop/MSDA/Summer 2023/Bloomberg/SPLC Images/CSVs/ZBRA/Customers/C 13.csv\n",
      "/Users/minhthao/Desktop/MSDA/Summer 2023/Bloomberg/SPLC Images/CSVs/ZBRA/Customers/C 1.csv\n",
      "/Users/minhthao/Desktop/MSDA/Summer 2023/Bloomberg/SPLC Images/CSVs/ZBRA/Customers/C 5.csv\n",
      "/Users/minhthao/Desktop/MSDA/Summer 2023/Bloomberg/SPLC Images/CSVs/ZBRA/Customers/C 17.csv\n",
      "/Users/minhthao/Desktop/MSDA/Summer 2023/Bloomberg/SPLC Images/CSVs/ZBRA/Customers/C 16.csv\n",
      "/Users/minhthao/Desktop/MSDA/Summer 2023/Bloomberg/SPLC Images/CSVs/ZBRA/Customers/C 4.csv\n",
      "/Users/minhthao/Desktop/MSDA/Summer 2023/Bloomberg/SPLC Images/CSVs/ZBRA/Customers/C 6.csv\n",
      "/Users/minhthao/Desktop/MSDA/Summer 2023/Bloomberg/SPLC Images/CSVs/ZBRA/Customers/C 14.csv\n",
      "/Users/minhthao/Desktop/MSDA/Summer 2023/Bloomberg/SPLC Images/CSVs/ZBRA/Customers/C 15.csv\n",
      "/Users/minhthao/Desktop/MSDA/Summer 2023/Bloomberg/SPLC Images/CSVs/ZBRA/Customers/C 7.csv\n"
     ]
    },
    {
     "name": "stderr",
     "output_type": "stream",
     "text": [
      "/var/folders/5d/9jrnkbxx5bb_l2v7b5pxxnfm0000gn/T/ipykernel_16119/603308844.py:17: UserWarning: This pattern is interpreted as a regular expression, and has match groups. To actually get the groups, use str.extract.\n",
      "  if sum(df['Firm Name'].str.contains(dot_pattern, '...', regex=True))>0:\n",
      "/var/folders/5d/9jrnkbxx5bb_l2v7b5pxxnfm0000gn/T/ipykernel_16119/603308844.py:17: UserWarning: This pattern is interpreted as a regular expression, and has match groups. To actually get the groups, use str.extract.\n",
      "  if sum(df['Firm Name'].str.contains(dot_pattern, '...', regex=True))>0:\n",
      "/var/folders/5d/9jrnkbxx5bb_l2v7b5pxxnfm0000gn/T/ipykernel_16119/603308844.py:17: UserWarning: This pattern is interpreted as a regular expression, and has match groups. To actually get the groups, use str.extract.\n",
      "  if sum(df['Firm Name'].str.contains(dot_pattern, '...', regex=True))>0:\n",
      "/var/folders/5d/9jrnkbxx5bb_l2v7b5pxxnfm0000gn/T/ipykernel_16119/603308844.py:17: UserWarning: This pattern is interpreted as a regular expression, and has match groups. To actually get the groups, use str.extract.\n",
      "  if sum(df['Firm Name'].str.contains(dot_pattern, '...', regex=True))>0:\n",
      "/var/folders/5d/9jrnkbxx5bb_l2v7b5pxxnfm0000gn/T/ipykernel_16119/603308844.py:17: UserWarning: This pattern is interpreted as a regular expression, and has match groups. To actually get the groups, use str.extract.\n",
      "  if sum(df['Firm Name'].str.contains(dot_pattern, '...', regex=True))>0:\n",
      "/var/folders/5d/9jrnkbxx5bb_l2v7b5pxxnfm0000gn/T/ipykernel_16119/603308844.py:17: UserWarning: This pattern is interpreted as a regular expression, and has match groups. To actually get the groups, use str.extract.\n",
      "  if sum(df['Firm Name'].str.contains(dot_pattern, '...', regex=True))>0:\n",
      "/var/folders/5d/9jrnkbxx5bb_l2v7b5pxxnfm0000gn/T/ipykernel_16119/603308844.py:19: UserWarning: This pattern is interpreted as a regular expression, and has match groups. To actually get the groups, use str.extract.\n",
      "  not_matching_pattern = ~df['Firm Name'].str.contains(dot_pattern)\n",
      "/var/folders/5d/9jrnkbxx5bb_l2v7b5pxxnfm0000gn/T/ipykernel_16119/603308844.py:17: UserWarning: This pattern is interpreted as a regular expression, and has match groups. To actually get the groups, use str.extract.\n",
      "  if sum(df['Firm Name'].str.contains(dot_pattern, '...', regex=True))>0:\n",
      "/var/folders/5d/9jrnkbxx5bb_l2v7b5pxxnfm0000gn/T/ipykernel_16119/603308844.py:17: UserWarning: This pattern is interpreted as a regular expression, and has match groups. To actually get the groups, use str.extract.\n",
      "  if sum(df['Firm Name'].str.contains(dot_pattern, '...', regex=True))>0:\n",
      "/var/folders/5d/9jrnkbxx5bb_l2v7b5pxxnfm0000gn/T/ipykernel_16119/603308844.py:17: UserWarning: This pattern is interpreted as a regular expression, and has match groups. To actually get the groups, use str.extract.\n",
      "  if sum(df['Firm Name'].str.contains(dot_pattern, '...', regex=True))>0:\n",
      "/var/folders/5d/9jrnkbxx5bb_l2v7b5pxxnfm0000gn/T/ipykernel_16119/603308844.py:17: UserWarning: This pattern is interpreted as a regular expression, and has match groups. To actually get the groups, use str.extract.\n",
      "  if sum(df['Firm Name'].str.contains(dot_pattern, '...', regex=True))>0:\n",
      "/var/folders/5d/9jrnkbxx5bb_l2v7b5pxxnfm0000gn/T/ipykernel_16119/603308844.py:17: UserWarning: This pattern is interpreted as a regular expression, and has match groups. To actually get the groups, use str.extract.\n",
      "  if sum(df['Firm Name'].str.contains(dot_pattern, '...', regex=True))>0:\n"
     ]
    },
    {
     "name": "stdout",
     "output_type": "stream",
     "text": [
      "/Users/minhthao/Desktop/MSDA/Summer 2023/Bloomberg/SPLC Images/CSVs/BMCH/Customers/C 1.csv\n",
      "/Users/minhthao/Desktop/MSDA/Summer 2023/Bloomberg/SPLC Images/CSVs/BOXL/Customers/C 1.csv\n",
      "/Users/minhthao/Desktop/MSDA/Summer 2023/Bloomberg/SPLC Images/CSVs/AQMS/Customers/C 1.csv\n",
      "/Users/minhthao/Desktop/MSDA/Summer 2023/Bloomberg/SPLC Images/CSVs/XPEV/Customers/C 1.csv\n",
      "/Users/minhthao/Desktop/MSDA/Summer 2023/Bloomberg/SPLC Images/CSVs/AEY/Customers/C 1.csv\n",
      "/Users/minhthao/Desktop/MSDA/Summer 2023/Bloomberg/SPLC Images/CSVs/EZPW/Customers/C 1.csv\n",
      "/Users/minhthao/Desktop/MSDA/Summer 2023/Bloomberg/SPLC Images/CSVs/SPNE/Customers/C 1.csv\n",
      "/Users/minhthao/Desktop/MSDA/Summer 2023/Bloomberg/SPLC Images/CSVs/FIZZ/Customers/C 1.csv\n",
      "/Users/minhthao/Desktop/MSDA/Summer 2023/Bloomberg/SPLC Images/CSVs/BIIB/Customers/C 1.csv\n",
      "/Users/minhthao/Desktop/MSDA/Summer 2023/Bloomberg/SPLC Images/CSVs/OOMA/Customers/C 1.csv\n",
      "/Users/minhthao/Desktop/MSDA/Summer 2023/Bloomberg/SPLC Images/CSVs/VTVT/Customers/C 1.csv\n"
     ]
    },
    {
     "name": "stderr",
     "output_type": "stream",
     "text": [
      "/var/folders/5d/9jrnkbxx5bb_l2v7b5pxxnfm0000gn/T/ipykernel_16119/603308844.py:17: UserWarning: This pattern is interpreted as a regular expression, and has match groups. To actually get the groups, use str.extract.\n",
      "  if sum(df['Firm Name'].str.contains(dot_pattern, '...', regex=True))>0:\n",
      "/var/folders/5d/9jrnkbxx5bb_l2v7b5pxxnfm0000gn/T/ipykernel_16119/603308844.py:17: UserWarning: This pattern is interpreted as a regular expression, and has match groups. To actually get the groups, use str.extract.\n",
      "  if sum(df['Firm Name'].str.contains(dot_pattern, '...', regex=True))>0:\n",
      "/var/folders/5d/9jrnkbxx5bb_l2v7b5pxxnfm0000gn/T/ipykernel_16119/603308844.py:17: UserWarning: This pattern is interpreted as a regular expression, and has match groups. To actually get the groups, use str.extract.\n",
      "  if sum(df['Firm Name'].str.contains(dot_pattern, '...', regex=True))>0:\n",
      "/var/folders/5d/9jrnkbxx5bb_l2v7b5pxxnfm0000gn/T/ipykernel_16119/603308844.py:17: UserWarning: This pattern is interpreted as a regular expression, and has match groups. To actually get the groups, use str.extract.\n",
      "  if sum(df['Firm Name'].str.contains(dot_pattern, '...', regex=True))>0:\n",
      "/var/folders/5d/9jrnkbxx5bb_l2v7b5pxxnfm0000gn/T/ipykernel_16119/603308844.py:17: UserWarning: This pattern is interpreted as a regular expression, and has match groups. To actually get the groups, use str.extract.\n",
      "  if sum(df['Firm Name'].str.contains(dot_pattern, '...', regex=True))>0:\n",
      "/var/folders/5d/9jrnkbxx5bb_l2v7b5pxxnfm0000gn/T/ipykernel_16119/603308844.py:19: UserWarning: This pattern is interpreted as a regular expression, and has match groups. To actually get the groups, use str.extract.\n",
      "  not_matching_pattern = ~df['Firm Name'].str.contains(dot_pattern)\n",
      "/var/folders/5d/9jrnkbxx5bb_l2v7b5pxxnfm0000gn/T/ipykernel_16119/603308844.py:17: UserWarning: This pattern is interpreted as a regular expression, and has match groups. To actually get the groups, use str.extract.\n",
      "  if sum(df['Firm Name'].str.contains(dot_pattern, '...', regex=True))>0:\n",
      "/var/folders/5d/9jrnkbxx5bb_l2v7b5pxxnfm0000gn/T/ipykernel_16119/603308844.py:17: UserWarning: This pattern is interpreted as a regular expression, and has match groups. To actually get the groups, use str.extract.\n",
      "  if sum(df['Firm Name'].str.contains(dot_pattern, '...', regex=True))>0:\n"
     ]
    },
    {
     "name": "stdout",
     "output_type": "stream",
     "text": [
      "/Users/minhthao/Desktop/MSDA/Summer 2023/Bloomberg/SPLC Images/CSVs/BCDA/Customers/C 1.csv\n",
      "/Users/minhthao/Desktop/MSDA/Summer 2023/Bloomberg/SPLC Images/CSVs/CSWI/Customers/C 1.csv\n",
      "/Users/minhthao/Desktop/MSDA/Summer 2023/Bloomberg/SPLC Images/CSVs/WTT/Customers/C 1.csv\n",
      "/Users/minhthao/Desktop/MSDA/Summer 2023/Bloomberg/SPLC Images/CSVs/ODFL/Customers/C 1.csv\n",
      "/Users/minhthao/Desktop/MSDA/Summer 2023/Bloomberg/SPLC Images/CSVs/TTE/Customers/C 3.csv\n",
      "/Users/minhthao/Desktop/MSDA/Summer 2023/Bloomberg/SPLC Images/CSVs/TTE/Customers/C 2.csv\n",
      "/Users/minhthao/Desktop/MSDA/Summer 2023/Bloomberg/SPLC Images/CSVs/TTE/Customers/C 1.csv\n",
      "/Users/minhthao/Desktop/MSDA/Summer 2023/Bloomberg/SPLC Images/CSVs/TTE/Customers/C 5.csv\n",
      "/Users/minhthao/Desktop/MSDA/Summer 2023/Bloomberg/SPLC Images/CSVs/TTE/Customers/C 4.csv\n",
      "/Users/minhthao/Desktop/MSDA/Summer 2023/Bloomberg/SPLC Images/CSVs/TTE/Customers/C 6.csv\n",
      "/Users/minhthao/Desktop/MSDA/Summer 2023/Bloomberg/SPLC Images/CSVs/TTE/Customers/C 7.csv\n",
      "/Users/minhthao/Desktop/MSDA/Summer 2023/Bloomberg/SPLC Images/CSVs/IDEX/Customers/C 1.csv\n",
      "/Users/minhthao/Desktop/MSDA/Summer 2023/Bloomberg/SPLC Images/CSVs/THCBF/Customers/C 1.csv\n"
     ]
    },
    {
     "name": "stderr",
     "output_type": "stream",
     "text": [
      "/var/folders/5d/9jrnkbxx5bb_l2v7b5pxxnfm0000gn/T/ipykernel_16119/603308844.py:17: UserWarning: This pattern is interpreted as a regular expression, and has match groups. To actually get the groups, use str.extract.\n",
      "  if sum(df['Firm Name'].str.contains(dot_pattern, '...', regex=True))>0:\n",
      "/var/folders/5d/9jrnkbxx5bb_l2v7b5pxxnfm0000gn/T/ipykernel_16119/603308844.py:17: UserWarning: This pattern is interpreted as a regular expression, and has match groups. To actually get the groups, use str.extract.\n",
      "  if sum(df['Firm Name'].str.contains(dot_pattern, '...', regex=True))>0:\n",
      "/var/folders/5d/9jrnkbxx5bb_l2v7b5pxxnfm0000gn/T/ipykernel_16119/603308844.py:17: UserWarning: This pattern is interpreted as a regular expression, and has match groups. To actually get the groups, use str.extract.\n",
      "  if sum(df['Firm Name'].str.contains(dot_pattern, '...', regex=True))>0:\n",
      "/var/folders/5d/9jrnkbxx5bb_l2v7b5pxxnfm0000gn/T/ipykernel_16119/603308844.py:19: UserWarning: This pattern is interpreted as a regular expression, and has match groups. To actually get the groups, use str.extract.\n",
      "  not_matching_pattern = ~df['Firm Name'].str.contains(dot_pattern)\n",
      "/var/folders/5d/9jrnkbxx5bb_l2v7b5pxxnfm0000gn/T/ipykernel_16119/603308844.py:17: UserWarning: This pattern is interpreted as a regular expression, and has match groups. To actually get the groups, use str.extract.\n",
      "  if sum(df['Firm Name'].str.contains(dot_pattern, '...', regex=True))>0:\n",
      "/var/folders/5d/9jrnkbxx5bb_l2v7b5pxxnfm0000gn/T/ipykernel_16119/603308844.py:17: UserWarning: This pattern is interpreted as a regular expression, and has match groups. To actually get the groups, use str.extract.\n",
      "  if sum(df['Firm Name'].str.contains(dot_pattern, '...', regex=True))>0:\n",
      "/var/folders/5d/9jrnkbxx5bb_l2v7b5pxxnfm0000gn/T/ipykernel_16119/603308844.py:17: UserWarning: This pattern is interpreted as a regular expression, and has match groups. To actually get the groups, use str.extract.\n",
      "  if sum(df['Firm Name'].str.contains(dot_pattern, '...', regex=True))>0:\n",
      "/var/folders/5d/9jrnkbxx5bb_l2v7b5pxxnfm0000gn/T/ipykernel_16119/603308844.py:17: UserWarning: This pattern is interpreted as a regular expression, and has match groups. To actually get the groups, use str.extract.\n",
      "  if sum(df['Firm Name'].str.contains(dot_pattern, '...', regex=True))>0:\n",
      "/var/folders/5d/9jrnkbxx5bb_l2v7b5pxxnfm0000gn/T/ipykernel_16119/603308844.py:17: UserWarning: This pattern is interpreted as a regular expression, and has match groups. To actually get the groups, use str.extract.\n",
      "  if sum(df['Firm Name'].str.contains(dot_pattern, '...', regex=True))>0:\n",
      "/var/folders/5d/9jrnkbxx5bb_l2v7b5pxxnfm0000gn/T/ipykernel_16119/603308844.py:19: UserWarning: This pattern is interpreted as a regular expression, and has match groups. To actually get the groups, use str.extract.\n",
      "  not_matching_pattern = ~df['Firm Name'].str.contains(dot_pattern)\n"
     ]
    },
    {
     "name": "stdout",
     "output_type": "stream",
     "text": [
      "/Users/minhthao/Desktop/MSDA/Summer 2023/Bloomberg/SPLC Images/CSVs/ATNI/Customers/C 1.csv\n",
      "/Users/minhthao/Desktop/MSDA/Summer 2023/Bloomberg/SPLC Images/CSVs/BSTC/Customers/C 1.csv\n",
      "/Users/minhthao/Desktop/MSDA/Summer 2023/Bloomberg/SPLC Images/CSVs/WNC/Customers/C 3.csv\n",
      "/Users/minhthao/Desktop/MSDA/Summer 2023/Bloomberg/SPLC Images/CSVs/WNC/Customers/C 2.csv\n",
      "/Users/minhthao/Desktop/MSDA/Summer 2023/Bloomberg/SPLC Images/CSVs/WNC/Customers/C 1.csv\n",
      "/Users/minhthao/Desktop/MSDA/Summer 2023/Bloomberg/SPLC Images/CSVs/AKOM/Customers/C 1.csv\n",
      "/Users/minhthao/Desktop/MSDA/Summer 2023/Bloomberg/SPLC Images/CSVs/JBSS/Customers/C 1.csv\n",
      "/Users/minhthao/Desktop/MSDA/Summer 2023/Bloomberg/SPLC Images/CSVs/PRGO/Customers/C 2.csv\n",
      "/Users/minhthao/Desktop/MSDA/Summer 2023/Bloomberg/SPLC Images/CSVs/PRGO/Customers/C 1.csv\n",
      "/Users/minhthao/Desktop/MSDA/Summer 2023/Bloomberg/SPLC Images/CSVs/AMSC/Customers/C 2.csv\n",
      "/Users/minhthao/Desktop/MSDA/Summer 2023/Bloomberg/SPLC Images/CSVs/AMSC/Customers/C 1.csv\n",
      "/Users/minhthao/Desktop/MSDA/Summer 2023/Bloomberg/SPLC Images/CSVs/BLGO/Customers/C 1.csv\n"
     ]
    },
    {
     "name": "stderr",
     "output_type": "stream",
     "text": [
      "/var/folders/5d/9jrnkbxx5bb_l2v7b5pxxnfm0000gn/T/ipykernel_16119/603308844.py:17: UserWarning: This pattern is interpreted as a regular expression, and has match groups. To actually get the groups, use str.extract.\n",
      "  if sum(df['Firm Name'].str.contains(dot_pattern, '...', regex=True))>0:\n",
      "/var/folders/5d/9jrnkbxx5bb_l2v7b5pxxnfm0000gn/T/ipykernel_16119/603308844.py:17: UserWarning: This pattern is interpreted as a regular expression, and has match groups. To actually get the groups, use str.extract.\n",
      "  if sum(df['Firm Name'].str.contains(dot_pattern, '...', regex=True))>0:\n",
      "/var/folders/5d/9jrnkbxx5bb_l2v7b5pxxnfm0000gn/T/ipykernel_16119/603308844.py:17: UserWarning: This pattern is interpreted as a regular expression, and has match groups. To actually get the groups, use str.extract.\n",
      "  if sum(df['Firm Name'].str.contains(dot_pattern, '...', regex=True))>0:\n",
      "/var/folders/5d/9jrnkbxx5bb_l2v7b5pxxnfm0000gn/T/ipykernel_16119/603308844.py:19: UserWarning: This pattern is interpreted as a regular expression, and has match groups. To actually get the groups, use str.extract.\n",
      "  not_matching_pattern = ~df['Firm Name'].str.contains(dot_pattern)\n"
     ]
    },
    {
     "name": "stdout",
     "output_type": "stream",
     "text": [
      "/Users/minhthao/Desktop/MSDA/Summer 2023/Bloomberg/SPLC Images/CSVs/QCOM/Customers/C 18.csv\n",
      "/Users/minhthao/Desktop/MSDA/Summer 2023/Bloomberg/SPLC Images/CSVs/QCOM/Customers/C 9.csv\n",
      "/Users/minhthao/Desktop/MSDA/Summer 2023/Bloomberg/SPLC Images/CSVs/QCOM/Customers/C 8.csv\n",
      "/Users/minhthao/Desktop/MSDA/Summer 2023/Bloomberg/SPLC Images/CSVs/QCOM/Customers/C 3.csv\n",
      "/Users/minhthao/Desktop/MSDA/Summer 2023/Bloomberg/SPLC Images/CSVs/QCOM/Customers/C 11.csv\n",
      "/Users/minhthao/Desktop/MSDA/Summer 2023/Bloomberg/SPLC Images/CSVs/QCOM/Customers/C 10.csv\n",
      "/Users/minhthao/Desktop/MSDA/Summer 2023/Bloomberg/SPLC Images/CSVs/QCOM/Customers/C 2.csv\n",
      "/Users/minhthao/Desktop/MSDA/Summer 2023/Bloomberg/SPLC Images/CSVs/QCOM/Customers/C 12.csv\n",
      "/Users/minhthao/Desktop/MSDA/Summer 2023/Bloomberg/SPLC Images/CSVs/QCOM/Customers/C 13.csv\n",
      "/Users/minhthao/Desktop/MSDA/Summer 2023/Bloomberg/SPLC Images/CSVs/QCOM/Customers/C 1.csv\n",
      "/Users/minhthao/Desktop/MSDA/Summer 2023/Bloomberg/SPLC Images/CSVs/QCOM/Customers/C 5.csv\n",
      "/Users/minhthao/Desktop/MSDA/Summer 2023/Bloomberg/SPLC Images/CSVs/QCOM/Customers/C 17.csv\n",
      "/Users/minhthao/Desktop/MSDA/Summer 2023/Bloomberg/SPLC Images/CSVs/QCOM/Customers/C 16.csv\n",
      "/Users/minhthao/Desktop/MSDA/Summer 2023/Bloomberg/SPLC Images/CSVs/QCOM/Customers/C 4.csv\n",
      "/Users/minhthao/Desktop/MSDA/Summer 2023/Bloomberg/SPLC Images/CSVs/QCOM/Customers/C 6.csv\n",
      "/Users/minhthao/Desktop/MSDA/Summer 2023/Bloomberg/SPLC Images/CSVs/QCOM/Customers/C 14.csv\n",
      "/Users/minhthao/Desktop/MSDA/Summer 2023/Bloomberg/SPLC Images/CSVs/QCOM/Customers/C 15.csv\n",
      "/Users/minhthao/Desktop/MSDA/Summer 2023/Bloomberg/SPLC Images/CSVs/QCOM/Customers/C 7.csv\n",
      "/Users/minhthao/Desktop/MSDA/Summer 2023/Bloomberg/SPLC Images/CSVs/LTCCF/Customers/C 1.csv\n",
      "/Users/minhthao/Desktop/MSDA/Summer 2023/Bloomberg/SPLC Images/CSVs/SPOK/Customers/C 1.csv\n"
     ]
    },
    {
     "name": "stderr",
     "output_type": "stream",
     "text": [
      "/var/folders/5d/9jrnkbxx5bb_l2v7b5pxxnfm0000gn/T/ipykernel_16119/603308844.py:17: UserWarning: This pattern is interpreted as a regular expression, and has match groups. To actually get the groups, use str.extract.\n",
      "  if sum(df['Firm Name'].str.contains(dot_pattern, '...', regex=True))>0:\n",
      "/var/folders/5d/9jrnkbxx5bb_l2v7b5pxxnfm0000gn/T/ipykernel_16119/603308844.py:17: UserWarning: This pattern is interpreted as a regular expression, and has match groups. To actually get the groups, use str.extract.\n",
      "  if sum(df['Firm Name'].str.contains(dot_pattern, '...', regex=True))>0:\n",
      "/var/folders/5d/9jrnkbxx5bb_l2v7b5pxxnfm0000gn/T/ipykernel_16119/603308844.py:17: UserWarning: This pattern is interpreted as a regular expression, and has match groups. To actually get the groups, use str.extract.\n",
      "  if sum(df['Firm Name'].str.contains(dot_pattern, '...', regex=True))>0:\n",
      "/var/folders/5d/9jrnkbxx5bb_l2v7b5pxxnfm0000gn/T/ipykernel_16119/603308844.py:17: UserWarning: This pattern is interpreted as a regular expression, and has match groups. To actually get the groups, use str.extract.\n",
      "  if sum(df['Firm Name'].str.contains(dot_pattern, '...', regex=True))>0:\n",
      "/var/folders/5d/9jrnkbxx5bb_l2v7b5pxxnfm0000gn/T/ipykernel_16119/603308844.py:17: UserWarning: This pattern is interpreted as a regular expression, and has match groups. To actually get the groups, use str.extract.\n",
      "  if sum(df['Firm Name'].str.contains(dot_pattern, '...', regex=True))>0:\n",
      "/var/folders/5d/9jrnkbxx5bb_l2v7b5pxxnfm0000gn/T/ipykernel_16119/603308844.py:19: UserWarning: This pattern is interpreted as a regular expression, and has match groups. To actually get the groups, use str.extract.\n",
      "  not_matching_pattern = ~df['Firm Name'].str.contains(dot_pattern)\n",
      "/var/folders/5d/9jrnkbxx5bb_l2v7b5pxxnfm0000gn/T/ipykernel_16119/603308844.py:17: UserWarning: This pattern is interpreted as a regular expression, and has match groups. To actually get the groups, use str.extract.\n",
      "  if sum(df['Firm Name'].str.contains(dot_pattern, '...', regex=True))>0:\n",
      "/var/folders/5d/9jrnkbxx5bb_l2v7b5pxxnfm0000gn/T/ipykernel_16119/603308844.py:19: UserWarning: This pattern is interpreted as a regular expression, and has match groups. To actually get the groups, use str.extract.\n",
      "  not_matching_pattern = ~df['Firm Name'].str.contains(dot_pattern)\n",
      "/var/folders/5d/9jrnkbxx5bb_l2v7b5pxxnfm0000gn/T/ipykernel_16119/603308844.py:17: UserWarning: This pattern is interpreted as a regular expression, and has match groups. To actually get the groups, use str.extract.\n",
      "  if sum(df['Firm Name'].str.contains(dot_pattern, '...', regex=True))>0:\n",
      "/var/folders/5d/9jrnkbxx5bb_l2v7b5pxxnfm0000gn/T/ipykernel_16119/603308844.py:17: UserWarning: This pattern is interpreted as a regular expression, and has match groups. To actually get the groups, use str.extract.\n",
      "  if sum(df['Firm Name'].str.contains(dot_pattern, '...', regex=True))>0:\n",
      "/var/folders/5d/9jrnkbxx5bb_l2v7b5pxxnfm0000gn/T/ipykernel_16119/603308844.py:17: UserWarning: This pattern is interpreted as a regular expression, and has match groups. To actually get the groups, use str.extract.\n",
      "  if sum(df['Firm Name'].str.contains(dot_pattern, '...', regex=True))>0:\n"
     ]
    },
    {
     "name": "stdout",
     "output_type": "stream",
     "text": [
      "/Users/minhthao/Desktop/MSDA/Summer 2023/Bloomberg/SPLC Images/CSVs/GILD/Customers/C 2.csv\n",
      "/Users/minhthao/Desktop/MSDA/Summer 2023/Bloomberg/SPLC Images/CSVs/GILD/Customers/C 1.csv\n",
      "/Users/minhthao/Desktop/MSDA/Summer 2023/Bloomberg/SPLC Images/CSVs/MSON/Customers/C 1.csv\n",
      "/Users/minhthao/Desktop/MSDA/Summer 2023/Bloomberg/SPLC Images/CSVs/RUN/Customers/C 1.csv\n",
      "/Users/minhthao/Desktop/MSDA/Summer 2023/Bloomberg/SPLC Images/CSVs/ITPOF/Customers/C 1.csv\n",
      "/Users/minhthao/Desktop/MSDA/Summer 2023/Bloomberg/SPLC Images/CSVs/LCTX/Customers/C 1.csv\n",
      "/Users/minhthao/Desktop/MSDA/Summer 2023/Bloomberg/SPLC Images/CSVs/UVN/Customers/C 1.csv\n",
      "/Users/minhthao/Desktop/MSDA/Summer 2023/Bloomberg/SPLC Images/CSVs/ICUI/Customers/C 1.csv\n",
      "/Users/minhthao/Desktop/MSDA/Summer 2023/Bloomberg/SPLC Images/CSVs/MHK/Customers/C 2.csv\n",
      "/Users/minhthao/Desktop/MSDA/Summer 2023/Bloomberg/SPLC Images/CSVs/MHK/Customers/C 1.csv\n",
      "/Users/minhthao/Desktop/MSDA/Summer 2023/Bloomberg/SPLC Images/CSVs/LIN/Customers/C 1.csv\n"
     ]
    },
    {
     "name": "stderr",
     "output_type": "stream",
     "text": [
      "/var/folders/5d/9jrnkbxx5bb_l2v7b5pxxnfm0000gn/T/ipykernel_16119/603308844.py:17: UserWarning: This pattern is interpreted as a regular expression, and has match groups. To actually get the groups, use str.extract.\n",
      "  if sum(df['Firm Name'].str.contains(dot_pattern, '...', regex=True))>0:\n",
      "/var/folders/5d/9jrnkbxx5bb_l2v7b5pxxnfm0000gn/T/ipykernel_16119/603308844.py:17: UserWarning: This pattern is interpreted as a regular expression, and has match groups. To actually get the groups, use str.extract.\n",
      "  if sum(df['Firm Name'].str.contains(dot_pattern, '...', regex=True))>0:\n",
      "/var/folders/5d/9jrnkbxx5bb_l2v7b5pxxnfm0000gn/T/ipykernel_16119/603308844.py:19: UserWarning: This pattern is interpreted as a regular expression, and has match groups. To actually get the groups, use str.extract.\n",
      "  not_matching_pattern = ~df['Firm Name'].str.contains(dot_pattern)\n",
      "/var/folders/5d/9jrnkbxx5bb_l2v7b5pxxnfm0000gn/T/ipykernel_16119/603308844.py:17: UserWarning: This pattern is interpreted as a regular expression, and has match groups. To actually get the groups, use str.extract.\n",
      "  if sum(df['Firm Name'].str.contains(dot_pattern, '...', regex=True))>0:\n",
      "/var/folders/5d/9jrnkbxx5bb_l2v7b5pxxnfm0000gn/T/ipykernel_16119/603308844.py:17: UserWarning: This pattern is interpreted as a regular expression, and has match groups. To actually get the groups, use str.extract.\n",
      "  if sum(df['Firm Name'].str.contains(dot_pattern, '...', regex=True))>0:\n",
      "/var/folders/5d/9jrnkbxx5bb_l2v7b5pxxnfm0000gn/T/ipykernel_16119/603308844.py:17: UserWarning: This pattern is interpreted as a regular expression, and has match groups. To actually get the groups, use str.extract.\n",
      "  if sum(df['Firm Name'].str.contains(dot_pattern, '...', regex=True))>0:\n",
      "/var/folders/5d/9jrnkbxx5bb_l2v7b5pxxnfm0000gn/T/ipykernel_16119/603308844.py:17: UserWarning: This pattern is interpreted as a regular expression, and has match groups. To actually get the groups, use str.extract.\n",
      "  if sum(df['Firm Name'].str.contains(dot_pattern, '...', regex=True))>0:\n",
      "/var/folders/5d/9jrnkbxx5bb_l2v7b5pxxnfm0000gn/T/ipykernel_16119/603308844.py:17: UserWarning: This pattern is interpreted as a regular expression, and has match groups. To actually get the groups, use str.extract.\n",
      "  if sum(df['Firm Name'].str.contains(dot_pattern, '...', regex=True))>0:\n",
      "/var/folders/5d/9jrnkbxx5bb_l2v7b5pxxnfm0000gn/T/ipykernel_16119/603308844.py:17: UserWarning: This pattern is interpreted as a regular expression, and has match groups. To actually get the groups, use str.extract.\n",
      "  if sum(df['Firm Name'].str.contains(dot_pattern, '...', regex=True))>0:\n"
     ]
    },
    {
     "name": "stdout",
     "output_type": "stream",
     "text": [
      "/Users/minhthao/Desktop/MSDA/Summer 2023/Bloomberg/SPLC Images/CSVs/CNR/Customers/C 1.csv\n",
      "/Users/minhthao/Desktop/MSDA/Summer 2023/Bloomberg/SPLC Images/CSVs/KOPN/Customers/C 2.csv\n",
      "/Users/minhthao/Desktop/MSDA/Summer 2023/Bloomberg/SPLC Images/CSVs/KOPN/Customers/C 1.csv\n",
      "/Users/minhthao/Desktop/MSDA/Summer 2023/Bloomberg/SPLC Images/CSVs/AGCO/Customers/C 1.csv\n",
      "/Users/minhthao/Desktop/MSDA/Summer 2023/Bloomberg/SPLC Images/CSVs/OLED/Customers/C 2.csv\n",
      "/Users/minhthao/Desktop/MSDA/Summer 2023/Bloomberg/SPLC Images/CSVs/OLED/Customers/C 1.csv\n",
      "/Users/minhthao/Desktop/MSDA/Summer 2023/Bloomberg/SPLC Images/CSVs/BSX/Customers/C 1.csv\n",
      "/Users/minhthao/Desktop/MSDA/Summer 2023/Bloomberg/SPLC Images/CSVs/KSS/Customers/C 1.csv\n",
      "/Users/minhthao/Desktop/MSDA/Summer 2023/Bloomberg/SPLC Images/CSVs/VBIV/Customers/C 1.csv\n",
      "/Users/minhthao/Desktop/MSDA/Summer 2023/Bloomberg/SPLC Images/CSVs/SCCAF/Customers/C 1.csv\n"
     ]
    },
    {
     "name": "stderr",
     "output_type": "stream",
     "text": [
      "/var/folders/5d/9jrnkbxx5bb_l2v7b5pxxnfm0000gn/T/ipykernel_16119/603308844.py:17: UserWarning: This pattern is interpreted as a regular expression, and has match groups. To actually get the groups, use str.extract.\n",
      "  if sum(df['Firm Name'].str.contains(dot_pattern, '...', regex=True))>0:\n",
      "/var/folders/5d/9jrnkbxx5bb_l2v7b5pxxnfm0000gn/T/ipykernel_16119/603308844.py:19: UserWarning: This pattern is interpreted as a regular expression, and has match groups. To actually get the groups, use str.extract.\n",
      "  not_matching_pattern = ~df['Firm Name'].str.contains(dot_pattern)\n",
      "/var/folders/5d/9jrnkbxx5bb_l2v7b5pxxnfm0000gn/T/ipykernel_16119/603308844.py:17: UserWarning: This pattern is interpreted as a regular expression, and has match groups. To actually get the groups, use str.extract.\n",
      "  if sum(df['Firm Name'].str.contains(dot_pattern, '...', regex=True))>0:\n",
      "/var/folders/5d/9jrnkbxx5bb_l2v7b5pxxnfm0000gn/T/ipykernel_16119/603308844.py:17: UserWarning: This pattern is interpreted as a regular expression, and has match groups. To actually get the groups, use str.extract.\n",
      "  if sum(df['Firm Name'].str.contains(dot_pattern, '...', regex=True))>0:\n",
      "/var/folders/5d/9jrnkbxx5bb_l2v7b5pxxnfm0000gn/T/ipykernel_16119/603308844.py:17: UserWarning: This pattern is interpreted as a regular expression, and has match groups. To actually get the groups, use str.extract.\n",
      "  if sum(df['Firm Name'].str.contains(dot_pattern, '...', regex=True))>0:\n",
      "/var/folders/5d/9jrnkbxx5bb_l2v7b5pxxnfm0000gn/T/ipykernel_16119/603308844.py:19: UserWarning: This pattern is interpreted as a regular expression, and has match groups. To actually get the groups, use str.extract.\n",
      "  not_matching_pattern = ~df['Firm Name'].str.contains(dot_pattern)\n",
      "/var/folders/5d/9jrnkbxx5bb_l2v7b5pxxnfm0000gn/T/ipykernel_16119/603308844.py:17: UserWarning: This pattern is interpreted as a regular expression, and has match groups. To actually get the groups, use str.extract.\n",
      "  if sum(df['Firm Name'].str.contains(dot_pattern, '...', regex=True))>0:\n",
      "/var/folders/5d/9jrnkbxx5bb_l2v7b5pxxnfm0000gn/T/ipykernel_16119/603308844.py:17: UserWarning: This pattern is interpreted as a regular expression, and has match groups. To actually get the groups, use str.extract.\n",
      "  if sum(df['Firm Name'].str.contains(dot_pattern, '...', regex=True))>0:\n",
      "/var/folders/5d/9jrnkbxx5bb_l2v7b5pxxnfm0000gn/T/ipykernel_16119/603308844.py:17: UserWarning: This pattern is interpreted as a regular expression, and has match groups. To actually get the groups, use str.extract.\n",
      "  if sum(df['Firm Name'].str.contains(dot_pattern, '...', regex=True))>0:\n",
      "/var/folders/5d/9jrnkbxx5bb_l2v7b5pxxnfm0000gn/T/ipykernel_16119/603308844.py:19: UserWarning: This pattern is interpreted as a regular expression, and has match groups. To actually get the groups, use str.extract.\n",
      "  not_matching_pattern = ~df['Firm Name'].str.contains(dot_pattern)\n"
     ]
    },
    {
     "name": "stdout",
     "output_type": "stream",
     "text": [
      "/Users/minhthao/Desktop/MSDA/Summer 2023/Bloomberg/SPLC Images/CSVs/STE/Customers/C 1.csv\n",
      "/Users/minhthao/Desktop/MSDA/Summer 2023/Bloomberg/SPLC Images/CSVs/LOOP/Customers/C 1.csv\n",
      "/Users/minhthao/Desktop/MSDA/Summer 2023/Bloomberg/SPLC Images/CSVs/GBT/Customers/C 1.csv\n",
      "/Users/minhthao/Desktop/MSDA/Summer 2023/Bloomberg/SPLC Images/CSVs/GTMAY/Customers/C 1.csv\n",
      "/Users/minhthao/Desktop/MSDA/Summer 2023/Bloomberg/SPLC Images/CSVs/NEOS/Customers/C 1.csv\n",
      "/Users/minhthao/Desktop/MSDA/Summer 2023/Bloomberg/SPLC Images/CSVs/GPK/Customers/C 3.csv\n",
      "/Users/minhthao/Desktop/MSDA/Summer 2023/Bloomberg/SPLC Images/CSVs/GPK/Customers/C 2.csv\n",
      "/Users/minhthao/Desktop/MSDA/Summer 2023/Bloomberg/SPLC Images/CSVs/GPK/Customers/C 1.csv\n",
      "/Users/minhthao/Desktop/MSDA/Summer 2023/Bloomberg/SPLC Images/CSVs/GPK/Customers/C 5.csv\n",
      "/Users/minhthao/Desktop/MSDA/Summer 2023/Bloomberg/SPLC Images/CSVs/GPK/Customers/C 4.csv\n",
      "/Users/minhthao/Desktop/MSDA/Summer 2023/Bloomberg/SPLC Images/CSVs/TWNK/Customers/C 2.csv\n",
      "/Users/minhthao/Desktop/MSDA/Summer 2023/Bloomberg/SPLC Images/CSVs/TWNK/Customers/C 1.csv\n"
     ]
    },
    {
     "name": "stderr",
     "output_type": "stream",
     "text": [
      "/var/folders/5d/9jrnkbxx5bb_l2v7b5pxxnfm0000gn/T/ipykernel_16119/603308844.py:17: UserWarning: This pattern is interpreted as a regular expression, and has match groups. To actually get the groups, use str.extract.\n",
      "  if sum(df['Firm Name'].str.contains(dot_pattern, '...', regex=True))>0:\n",
      "/var/folders/5d/9jrnkbxx5bb_l2v7b5pxxnfm0000gn/T/ipykernel_16119/603308844.py:17: UserWarning: This pattern is interpreted as a regular expression, and has match groups. To actually get the groups, use str.extract.\n",
      "  if sum(df['Firm Name'].str.contains(dot_pattern, '...', regex=True))>0:\n",
      "/var/folders/5d/9jrnkbxx5bb_l2v7b5pxxnfm0000gn/T/ipykernel_16119/603308844.py:17: UserWarning: This pattern is interpreted as a regular expression, and has match groups. To actually get the groups, use str.extract.\n",
      "  if sum(df['Firm Name'].str.contains(dot_pattern, '...', regex=True))>0:\n",
      "/var/folders/5d/9jrnkbxx5bb_l2v7b5pxxnfm0000gn/T/ipykernel_16119/603308844.py:17: UserWarning: This pattern is interpreted as a regular expression, and has match groups. To actually get the groups, use str.extract.\n",
      "  if sum(df['Firm Name'].str.contains(dot_pattern, '...', regex=True))>0:\n",
      "/var/folders/5d/9jrnkbxx5bb_l2v7b5pxxnfm0000gn/T/ipykernel_16119/603308844.py:17: UserWarning: This pattern is interpreted as a regular expression, and has match groups. To actually get the groups, use str.extract.\n",
      "  if sum(df['Firm Name'].str.contains(dot_pattern, '...', regex=True))>0:\n",
      "/var/folders/5d/9jrnkbxx5bb_l2v7b5pxxnfm0000gn/T/ipykernel_16119/603308844.py:17: UserWarning: This pattern is interpreted as a regular expression, and has match groups. To actually get the groups, use str.extract.\n",
      "  if sum(df['Firm Name'].str.contains(dot_pattern, '...', regex=True))>0:\n",
      "/var/folders/5d/9jrnkbxx5bb_l2v7b5pxxnfm0000gn/T/ipykernel_16119/603308844.py:17: UserWarning: This pattern is interpreted as a regular expression, and has match groups. To actually get the groups, use str.extract.\n",
      "  if sum(df['Firm Name'].str.contains(dot_pattern, '...', regex=True))>0:\n",
      "/var/folders/5d/9jrnkbxx5bb_l2v7b5pxxnfm0000gn/T/ipykernel_16119/603308844.py:17: UserWarning: This pattern is interpreted as a regular expression, and has match groups. To actually get the groups, use str.extract.\n",
      "  if sum(df['Firm Name'].str.contains(dot_pattern, '...', regex=True))>0:\n"
     ]
    },
    {
     "name": "stdout",
     "output_type": "stream",
     "text": [
      "/Users/minhthao/Desktop/MSDA/Summer 2023/Bloomberg/SPLC Images/CSVs/FCEL/Customers/C 2.csv\n",
      "/Users/minhthao/Desktop/MSDA/Summer 2023/Bloomberg/SPLC Images/CSVs/FCEL/Customers/C 1.csv\n",
      "/Users/minhthao/Desktop/MSDA/Summer 2023/Bloomberg/SPLC Images/CSVs/SBUX/Customers/C 2.csv\n",
      "/Users/minhthao/Desktop/MSDA/Summer 2023/Bloomberg/SPLC Images/CSVs/SBUX/Customers/C 1.csv\n",
      "/Users/minhthao/Desktop/MSDA/Summer 2023/Bloomberg/SPLC Images/CSVs/RACE/Customers/C 2.csv\n",
      "/Users/minhthao/Desktop/MSDA/Summer 2023/Bloomberg/SPLC Images/CSVs/RACE/Customers/C 1.csv\n",
      "/Users/minhthao/Desktop/MSDA/Summer 2023/Bloomberg/SPLC Images/CSVs/LFMD/Customers/C 1.csv\n",
      "/Users/minhthao/Desktop/MSDA/Summer 2023/Bloomberg/SPLC Images/CSVs/SNMSF/Customers/C 1.csv\n",
      "/Users/minhthao/Desktop/MSDA/Summer 2023/Bloomberg/SPLC Images/CSVs/VZIO/Customers/C 1.csv\n",
      "/Users/minhthao/Desktop/MSDA/Summer 2023/Bloomberg/SPLC Images/CSVs/CENTA/Customers/C 2.csv\n",
      "/Users/minhthao/Desktop/MSDA/Summer 2023/Bloomberg/SPLC Images/CSVs/CENTA/Customers/C 1.csv\n",
      "/Users/minhthao/Desktop/MSDA/Summer 2023/Bloomberg/SPLC Images/CSVs/SYTA/Customers/C 2.csv\n",
      "/Users/minhthao/Desktop/MSDA/Summer 2023/Bloomberg/SPLC Images/CSVs/SYTA/Customers/C 1.csv\n"
     ]
    },
    {
     "name": "stderr",
     "output_type": "stream",
     "text": [
      "/var/folders/5d/9jrnkbxx5bb_l2v7b5pxxnfm0000gn/T/ipykernel_16119/603308844.py:17: UserWarning: This pattern is interpreted as a regular expression, and has match groups. To actually get the groups, use str.extract.\n",
      "  if sum(df['Firm Name'].str.contains(dot_pattern, '...', regex=True))>0:\n",
      "/var/folders/5d/9jrnkbxx5bb_l2v7b5pxxnfm0000gn/T/ipykernel_16119/603308844.py:17: UserWarning: This pattern is interpreted as a regular expression, and has match groups. To actually get the groups, use str.extract.\n",
      "  if sum(df['Firm Name'].str.contains(dot_pattern, '...', regex=True))>0:\n",
      "/var/folders/5d/9jrnkbxx5bb_l2v7b5pxxnfm0000gn/T/ipykernel_16119/603308844.py:17: UserWarning: This pattern is interpreted as a regular expression, and has match groups. To actually get the groups, use str.extract.\n",
      "  if sum(df['Firm Name'].str.contains(dot_pattern, '...', regex=True))>0:\n",
      "/var/folders/5d/9jrnkbxx5bb_l2v7b5pxxnfm0000gn/T/ipykernel_16119/603308844.py:17: UserWarning: This pattern is interpreted as a regular expression, and has match groups. To actually get the groups, use str.extract.\n",
      "  if sum(df['Firm Name'].str.contains(dot_pattern, '...', regex=True))>0:\n",
      "/var/folders/5d/9jrnkbxx5bb_l2v7b5pxxnfm0000gn/T/ipykernel_16119/603308844.py:17: UserWarning: This pattern is interpreted as a regular expression, and has match groups. To actually get the groups, use str.extract.\n",
      "  if sum(df['Firm Name'].str.contains(dot_pattern, '...', regex=True))>0:\n",
      "/var/folders/5d/9jrnkbxx5bb_l2v7b5pxxnfm0000gn/T/ipykernel_16119/603308844.py:17: UserWarning: This pattern is interpreted as a regular expression, and has match groups. To actually get the groups, use str.extract.\n",
      "  if sum(df['Firm Name'].str.contains(dot_pattern, '...', regex=True))>0:\n",
      "/var/folders/5d/9jrnkbxx5bb_l2v7b5pxxnfm0000gn/T/ipykernel_16119/603308844.py:17: UserWarning: This pattern is interpreted as a regular expression, and has match groups. To actually get the groups, use str.extract.\n",
      "  if sum(df['Firm Name'].str.contains(dot_pattern, '...', regex=True))>0:\n",
      "/var/folders/5d/9jrnkbxx5bb_l2v7b5pxxnfm0000gn/T/ipykernel_16119/603308844.py:17: UserWarning: This pattern is interpreted as a regular expression, and has match groups. To actually get the groups, use str.extract.\n",
      "  if sum(df['Firm Name'].str.contains(dot_pattern, '...', regex=True))>0:\n"
     ]
    },
    {
     "name": "stdout",
     "output_type": "stream",
     "text": [
      "/Users/minhthao/Desktop/MSDA/Summer 2023/Bloomberg/SPLC Images/CSVs/EDTXF/Customers/C 1.csv\n",
      "/Users/minhthao/Desktop/MSDA/Summer 2023/Bloomberg/SPLC Images/CSVs/BRBMF/Customers/C 1.csv\n",
      "/Users/minhthao/Desktop/MSDA/Summer 2023/Bloomberg/SPLC Images/CSVs/ACI/Customers/C 1.csv\n",
      "/Users/minhthao/Desktop/MSDA/Summer 2023/Bloomberg/SPLC Images/CSVs/RHHBY/Customers/C 3.csv\n",
      "/Users/minhthao/Desktop/MSDA/Summer 2023/Bloomberg/SPLC Images/CSVs/RHHBY/Customers/C 2.csv\n",
      "/Users/minhthao/Desktop/MSDA/Summer 2023/Bloomberg/SPLC Images/CSVs/RHHBY/Customers/C 1.csv\n",
      "/Users/minhthao/Desktop/MSDA/Summer 2023/Bloomberg/SPLC Images/CSVs/RHHBY/Customers/C 5.csv\n",
      "/Users/minhthao/Desktop/MSDA/Summer 2023/Bloomberg/SPLC Images/CSVs/RHHBY/Customers/C 4.csv\n",
      "/Users/minhthao/Desktop/MSDA/Summer 2023/Bloomberg/SPLC Images/CSVs/PRCP/Customers/C 1.csv\n",
      "/Users/minhthao/Desktop/MSDA/Summer 2023/Bloomberg/SPLC Images/CSVs/CAKE/Customers/C 1.csv\n",
      "/Users/minhthao/Desktop/MSDA/Summer 2023/Bloomberg/SPLC Images/CSVs/RENO/Customers/C 1.csv\n",
      "/Users/minhthao/Desktop/MSDA/Summer 2023/Bloomberg/SPLC Images/CSVs/LFUS/Customers/C 3.csv\n",
      "/Users/minhthao/Desktop/MSDA/Summer 2023/Bloomberg/SPLC Images/CSVs/LFUS/Customers/C 2.csv\n",
      "/Users/minhthao/Desktop/MSDA/Summer 2023/Bloomberg/SPLC Images/CSVs/LFUS/Customers/C 1.csv\n"
     ]
    },
    {
     "name": "stderr",
     "output_type": "stream",
     "text": [
      "/var/folders/5d/9jrnkbxx5bb_l2v7b5pxxnfm0000gn/T/ipykernel_16119/603308844.py:17: UserWarning: This pattern is interpreted as a regular expression, and has match groups. To actually get the groups, use str.extract.\n",
      "  if sum(df['Firm Name'].str.contains(dot_pattern, '...', regex=True))>0:\n",
      "/var/folders/5d/9jrnkbxx5bb_l2v7b5pxxnfm0000gn/T/ipykernel_16119/603308844.py:17: UserWarning: This pattern is interpreted as a regular expression, and has match groups. To actually get the groups, use str.extract.\n",
      "  if sum(df['Firm Name'].str.contains(dot_pattern, '...', regex=True))>0:\n",
      "/var/folders/5d/9jrnkbxx5bb_l2v7b5pxxnfm0000gn/T/ipykernel_16119/603308844.py:17: UserWarning: This pattern is interpreted as a regular expression, and has match groups. To actually get the groups, use str.extract.\n",
      "  if sum(df['Firm Name'].str.contains(dot_pattern, '...', regex=True))>0:\n",
      "/var/folders/5d/9jrnkbxx5bb_l2v7b5pxxnfm0000gn/T/ipykernel_16119/603308844.py:17: UserWarning: This pattern is interpreted as a regular expression, and has match groups. To actually get the groups, use str.extract.\n",
      "  if sum(df['Firm Name'].str.contains(dot_pattern, '...', regex=True))>0:\n",
      "/var/folders/5d/9jrnkbxx5bb_l2v7b5pxxnfm0000gn/T/ipykernel_16119/603308844.py:19: UserWarning: This pattern is interpreted as a regular expression, and has match groups. To actually get the groups, use str.extract.\n",
      "  not_matching_pattern = ~df['Firm Name'].str.contains(dot_pattern)\n",
      "/var/folders/5d/9jrnkbxx5bb_l2v7b5pxxnfm0000gn/T/ipykernel_16119/603308844.py:17: UserWarning: This pattern is interpreted as a regular expression, and has match groups. To actually get the groups, use str.extract.\n",
      "  if sum(df['Firm Name'].str.contains(dot_pattern, '...', regex=True))>0:\n"
     ]
    },
    {
     "name": "stdout",
     "output_type": "stream",
     "text": [
      "/Users/minhthao/Desktop/MSDA/Summer 2023/Bloomberg/SPLC Images/CSVs/CCU/Customers/C 3.csv\n",
      "/Users/minhthao/Desktop/MSDA/Summer 2023/Bloomberg/SPLC Images/CSVs/CCU/Customers/C 2.csv\n",
      "/Users/minhthao/Desktop/MSDA/Summer 2023/Bloomberg/SPLC Images/CSVs/CCU/Customers/C 1.csv\n",
      "/Users/minhthao/Desktop/MSDA/Summer 2023/Bloomberg/SPLC Images/CSVs/PSTG/Customers/C 3.csv\n",
      "/Users/minhthao/Desktop/MSDA/Summer 2023/Bloomberg/SPLC Images/CSVs/PSTG/Customers/C 2.csv\n",
      "/Users/minhthao/Desktop/MSDA/Summer 2023/Bloomberg/SPLC Images/CSVs/PSTG/Customers/C 1.csv\n",
      "/Users/minhthao/Desktop/MSDA/Summer 2023/Bloomberg/SPLC Images/CSVs/PSTG/Customers/C 4.csv\n",
      "/Users/minhthao/Desktop/MSDA/Summer 2023/Bloomberg/SPLC Images/CSVs/CREAF/Customers/C 1.csv\n",
      "/Users/minhthao/Desktop/MSDA/Summer 2023/Bloomberg/SPLC Images/CSVs/EMRAF/Customers/C 8.csv\n",
      "/Users/minhthao/Desktop/MSDA/Summer 2023/Bloomberg/SPLC Images/CSVs/EMRAF/Customers/C 3.csv\n",
      "/Users/minhthao/Desktop/MSDA/Summer 2023/Bloomberg/SPLC Images/CSVs/EMRAF/Customers/C 2.csv\n",
      "/Users/minhthao/Desktop/MSDA/Summer 2023/Bloomberg/SPLC Images/CSVs/EMRAF/Customers/C 1.csv\n",
      "/Users/minhthao/Desktop/MSDA/Summer 2023/Bloomberg/SPLC Images/CSVs/EMRAF/Customers/C 5.csv\n",
      "/Users/minhthao/Desktop/MSDA/Summer 2023/Bloomberg/SPLC Images/CSVs/EMRAF/Customers/C 4.csv\n",
      "/Users/minhthao/Desktop/MSDA/Summer 2023/Bloomberg/SPLC Images/CSVs/EMRAF/Customers/C 6.csv\n",
      "/Users/minhthao/Desktop/MSDA/Summer 2023/Bloomberg/SPLC Images/CSVs/EMRAF/Customers/C 7.csv\n",
      "/Users/minhthao/Desktop/MSDA/Summer 2023/Bloomberg/SPLC Images/CSVs/KEM/Customers/C 1.csv\n",
      "/Users/minhthao/Desktop/MSDA/Summer 2023/Bloomberg/SPLC Images/CSVs/GCEH/Customers/C 1.csv\n",
      "/Users/minhthao/Desktop/MSDA/Summer 2023/Bloomberg/SPLC Images/CSVs/PDCO/Customers/C 1.csv\n",
      "/Users/minhthao/Desktop/MSDA/Summer 2023/Bloomberg/SPLC Images/CSVs/ACRS/Customers/C 1.csv\n",
      "/Users/minhthao/Desktop/MSDA/Summer 2023/Bloomberg/SPLC Images/CSVs/QCOR/Customers/C 1.csv\n",
      "/Users/minhthao/Desktop/MSDA/Summer 2023/Bloomberg/SPLC Images/CSVs/KAI/Customers/C 1.csv\n",
      "/Users/minhthao/Desktop/MSDA/Summer 2023/Bloomberg/SPLC Images/CSVs/NAVB/Customers/C 1.csv\n",
      "/Users/minhthao/Desktop/MSDA/Summer 2023/Bloomberg/SPLC Images/CSVs/GURE/Customers/C 1.csv\n",
      "/Users/minhthao/Desktop/MSDA/Summer 2023/Bloomberg/SPLC Images/CSVs/LGND/Customers/C 9.csv\n",
      "/Users/minhthao/Desktop/MSDA/Summer 2023/Bloomberg/SPLC Images/CSVs/LGND/Customers/C 8.csv\n",
      "/Users/minhthao/Desktop/MSDA/Summer 2023/Bloomberg/SPLC Images/CSVs/LGND/Customers/C 3.csv\n",
      "/Users/minhthao/Desktop/MSDA/Summer 2023/Bloomberg/SPLC Images/CSVs/LGND/Customers/C 10.csv\n",
      "/Users/minhthao/Desktop/MSDA/Summer 2023/Bloomberg/SPLC Images/CSVs/LGND/Customers/C 2.csv\n",
      "/Users/minhthao/Desktop/MSDA/Summer 2023/Bloomberg/SPLC Images/CSVs/LGND/Customers/C 1.csv\n",
      "/Users/minhthao/Desktop/MSDA/Summer 2023/Bloomberg/SPLC Images/CSVs/LGND/Customers/C 5.csv\n",
      "/Users/minhthao/Desktop/MSDA/Summer 2023/Bloomberg/SPLC Images/CSVs/LGND/Customers/C 4.csv\n",
      "/Users/minhthao/Desktop/MSDA/Summer 2023/Bloomberg/SPLC Images/CSVs/LGND/Customers/C 6.csv\n",
      "/Users/minhthao/Desktop/MSDA/Summer 2023/Bloomberg/SPLC Images/CSVs/LGND/Customers/C 7.csv\n"
     ]
    },
    {
     "name": "stderr",
     "output_type": "stream",
     "text": [
      "/var/folders/5d/9jrnkbxx5bb_l2v7b5pxxnfm0000gn/T/ipykernel_16119/603308844.py:17: UserWarning: This pattern is interpreted as a regular expression, and has match groups. To actually get the groups, use str.extract.\n",
      "  if sum(df['Firm Name'].str.contains(dot_pattern, '...', regex=True))>0:\n",
      "/var/folders/5d/9jrnkbxx5bb_l2v7b5pxxnfm0000gn/T/ipykernel_16119/603308844.py:17: UserWarning: This pattern is interpreted as a regular expression, and has match groups. To actually get the groups, use str.extract.\n",
      "  if sum(df['Firm Name'].str.contains(dot_pattern, '...', regex=True))>0:\n",
      "/var/folders/5d/9jrnkbxx5bb_l2v7b5pxxnfm0000gn/T/ipykernel_16119/603308844.py:19: UserWarning: This pattern is interpreted as a regular expression, and has match groups. To actually get the groups, use str.extract.\n",
      "  not_matching_pattern = ~df['Firm Name'].str.contains(dot_pattern)\n",
      "/var/folders/5d/9jrnkbxx5bb_l2v7b5pxxnfm0000gn/T/ipykernel_16119/603308844.py:17: UserWarning: This pattern is interpreted as a regular expression, and has match groups. To actually get the groups, use str.extract.\n",
      "  if sum(df['Firm Name'].str.contains(dot_pattern, '...', regex=True))>0:\n",
      "/var/folders/5d/9jrnkbxx5bb_l2v7b5pxxnfm0000gn/T/ipykernel_16119/603308844.py:17: UserWarning: This pattern is interpreted as a regular expression, and has match groups. To actually get the groups, use str.extract.\n",
      "  if sum(df['Firm Name'].str.contains(dot_pattern, '...', regex=True))>0:\n",
      "/var/folders/5d/9jrnkbxx5bb_l2v7b5pxxnfm0000gn/T/ipykernel_16119/603308844.py:17: UserWarning: This pattern is interpreted as a regular expression, and has match groups. To actually get the groups, use str.extract.\n",
      "  if sum(df['Firm Name'].str.contains(dot_pattern, '...', regex=True))>0:\n",
      "/var/folders/5d/9jrnkbxx5bb_l2v7b5pxxnfm0000gn/T/ipykernel_16119/603308844.py:17: UserWarning: This pattern is interpreted as a regular expression, and has match groups. To actually get the groups, use str.extract.\n",
      "  if sum(df['Firm Name'].str.contains(dot_pattern, '...', regex=True))>0:\n",
      "/var/folders/5d/9jrnkbxx5bb_l2v7b5pxxnfm0000gn/T/ipykernel_16119/603308844.py:17: UserWarning: This pattern is interpreted as a regular expression, and has match groups. To actually get the groups, use str.extract.\n",
      "  if sum(df['Firm Name'].str.contains(dot_pattern, '...', regex=True))>0:\n",
      "/var/folders/5d/9jrnkbxx5bb_l2v7b5pxxnfm0000gn/T/ipykernel_16119/603308844.py:19: UserWarning: This pattern is interpreted as a regular expression, and has match groups. To actually get the groups, use str.extract.\n",
      "  not_matching_pattern = ~df['Firm Name'].str.contains(dot_pattern)\n",
      "/var/folders/5d/9jrnkbxx5bb_l2v7b5pxxnfm0000gn/T/ipykernel_16119/603308844.py:17: UserWarning: This pattern is interpreted as a regular expression, and has match groups. To actually get the groups, use str.extract.\n",
      "  if sum(df['Firm Name'].str.contains(dot_pattern, '...', regex=True))>0:\n",
      "/var/folders/5d/9jrnkbxx5bb_l2v7b5pxxnfm0000gn/T/ipykernel_16119/603308844.py:17: UserWarning: This pattern is interpreted as a regular expression, and has match groups. To actually get the groups, use str.extract.\n",
      "  if sum(df['Firm Name'].str.contains(dot_pattern, '...', regex=True))>0:\n",
      "/var/folders/5d/9jrnkbxx5bb_l2v7b5pxxnfm0000gn/T/ipykernel_16119/603308844.py:19: UserWarning: This pattern is interpreted as a regular expression, and has match groups. To actually get the groups, use str.extract.\n",
      "  not_matching_pattern = ~df['Firm Name'].str.contains(dot_pattern)\n",
      "/var/folders/5d/9jrnkbxx5bb_l2v7b5pxxnfm0000gn/T/ipykernel_16119/603308844.py:17: UserWarning: This pattern is interpreted as a regular expression, and has match groups. To actually get the groups, use str.extract.\n",
      "  if sum(df['Firm Name'].str.contains(dot_pattern, '...', regex=True))>0:\n",
      "/var/folders/5d/9jrnkbxx5bb_l2v7b5pxxnfm0000gn/T/ipykernel_16119/603308844.py:17: UserWarning: This pattern is interpreted as a regular expression, and has match groups. To actually get the groups, use str.extract.\n",
      "  if sum(df['Firm Name'].str.contains(dot_pattern, '...', regex=True))>0:\n",
      "/var/folders/5d/9jrnkbxx5bb_l2v7b5pxxnfm0000gn/T/ipykernel_16119/603308844.py:19: UserWarning: This pattern is interpreted as a regular expression, and has match groups. To actually get the groups, use str.extract.\n",
      "  not_matching_pattern = ~df['Firm Name'].str.contains(dot_pattern)\n",
      "/var/folders/5d/9jrnkbxx5bb_l2v7b5pxxnfm0000gn/T/ipykernel_16119/603308844.py:17: UserWarning: This pattern is interpreted as a regular expression, and has match groups. To actually get the groups, use str.extract.\n",
      "  if sum(df['Firm Name'].str.contains(dot_pattern, '...', regex=True))>0:\n",
      "/var/folders/5d/9jrnkbxx5bb_l2v7b5pxxnfm0000gn/T/ipykernel_16119/603308844.py:17: UserWarning: This pattern is interpreted as a regular expression, and has match groups. To actually get the groups, use str.extract.\n",
      "  if sum(df['Firm Name'].str.contains(dot_pattern, '...', regex=True))>0:\n"
     ]
    },
    {
     "name": "stdout",
     "output_type": "stream",
     "text": [
      "/Users/minhthao/Desktop/MSDA/Summer 2023/Bloomberg/SPLC Images/CSVs/GTLS/Customers/C 9.csv\n",
      "/Users/minhthao/Desktop/MSDA/Summer 2023/Bloomberg/SPLC Images/CSVs/GTLS/Customers/C 8.csv\n",
      "/Users/minhthao/Desktop/MSDA/Summer 2023/Bloomberg/SPLC Images/CSVs/GTLS/Customers/C 3.csv\n",
      "/Users/minhthao/Desktop/MSDA/Summer 2023/Bloomberg/SPLC Images/CSVs/GTLS/Customers/C 10.csv\n",
      "/Users/minhthao/Desktop/MSDA/Summer 2023/Bloomberg/SPLC Images/CSVs/GTLS/Customers/C 2.csv\n",
      "/Users/minhthao/Desktop/MSDA/Summer 2023/Bloomberg/SPLC Images/CSVs/GTLS/Customers/C 1.csv\n",
      "/Users/minhthao/Desktop/MSDA/Summer 2023/Bloomberg/SPLC Images/CSVs/GTLS/Customers/C 5.csv\n",
      "/Users/minhthao/Desktop/MSDA/Summer 2023/Bloomberg/SPLC Images/CSVs/GTLS/Customers/C 4.csv\n",
      "/Users/minhthao/Desktop/MSDA/Summer 2023/Bloomberg/SPLC Images/CSVs/GTLS/Customers/C 6.csv\n",
      "/Users/minhthao/Desktop/MSDA/Summer 2023/Bloomberg/SPLC Images/CSVs/GTLS/Customers/C 7.csv\n",
      "/Users/minhthao/Desktop/MSDA/Summer 2023/Bloomberg/SPLC Images/CSVs/PESI/Customers/C 1.csv\n",
      "/Users/minhthao/Desktop/MSDA/Summer 2023/Bloomberg/SPLC Images/CSVs/CBIO/Customers/C 1.csv\n",
      "/Users/minhthao/Desktop/MSDA/Summer 2023/Bloomberg/SPLC Images/CSVs/CKH/Customers/C 1.csv\n",
      "/Users/minhthao/Desktop/MSDA/Summer 2023/Bloomberg/SPLC Images/CSVs/ULBI/Customers/C 1.csv\n"
     ]
    },
    {
     "name": "stderr",
     "output_type": "stream",
     "text": [
      "/var/folders/5d/9jrnkbxx5bb_l2v7b5pxxnfm0000gn/T/ipykernel_16119/603308844.py:17: UserWarning: This pattern is interpreted as a regular expression, and has match groups. To actually get the groups, use str.extract.\n",
      "  if sum(df['Firm Name'].str.contains(dot_pattern, '...', regex=True))>0:\n",
      "/var/folders/5d/9jrnkbxx5bb_l2v7b5pxxnfm0000gn/T/ipykernel_16119/603308844.py:17: UserWarning: This pattern is interpreted as a regular expression, and has match groups. To actually get the groups, use str.extract.\n",
      "  if sum(df['Firm Name'].str.contains(dot_pattern, '...', regex=True))>0:\n",
      "/var/folders/5d/9jrnkbxx5bb_l2v7b5pxxnfm0000gn/T/ipykernel_16119/603308844.py:17: UserWarning: This pattern is interpreted as a regular expression, and has match groups. To actually get the groups, use str.extract.\n",
      "  if sum(df['Firm Name'].str.contains(dot_pattern, '...', regex=True))>0:\n",
      "/var/folders/5d/9jrnkbxx5bb_l2v7b5pxxnfm0000gn/T/ipykernel_16119/603308844.py:17: UserWarning: This pattern is interpreted as a regular expression, and has match groups. To actually get the groups, use str.extract.\n",
      "  if sum(df['Firm Name'].str.contains(dot_pattern, '...', regex=True))>0:\n",
      "/var/folders/5d/9jrnkbxx5bb_l2v7b5pxxnfm0000gn/T/ipykernel_16119/603308844.py:17: UserWarning: This pattern is interpreted as a regular expression, and has match groups. To actually get the groups, use str.extract.\n",
      "  if sum(df['Firm Name'].str.contains(dot_pattern, '...', regex=True))>0:\n",
      "/var/folders/5d/9jrnkbxx5bb_l2v7b5pxxnfm0000gn/T/ipykernel_16119/603308844.py:17: UserWarning: This pattern is interpreted as a regular expression, and has match groups. To actually get the groups, use str.extract.\n",
      "  if sum(df['Firm Name'].str.contains(dot_pattern, '...', regex=True))>0:\n",
      "/var/folders/5d/9jrnkbxx5bb_l2v7b5pxxnfm0000gn/T/ipykernel_16119/603308844.py:17: UserWarning: This pattern is interpreted as a regular expression, and has match groups. To actually get the groups, use str.extract.\n",
      "  if sum(df['Firm Name'].str.contains(dot_pattern, '...', regex=True))>0:\n"
     ]
    },
    {
     "name": "stdout",
     "output_type": "stream",
     "text": [
      "/Users/minhthao/Desktop/MSDA/Summer 2023/Bloomberg/SPLC Images/CSVs/CTMX/Customers/C 1.csv\n",
      "/Users/minhthao/Desktop/MSDA/Summer 2023/Bloomberg/SPLC Images/CSVs/NVCR/Customers/C 1.csv\n",
      "/Users/minhthao/Desktop/MSDA/Summer 2023/Bloomberg/SPLC Images/CSVs/HOME/Customers/C 1.csv\n",
      "/Users/minhthao/Desktop/MSDA/Summer 2023/Bloomberg/SPLC Images/CSVs/RGNX/Customers/C 1.csv\n",
      "/Users/minhthao/Desktop/MSDA/Summer 2023/Bloomberg/SPLC Images/CSVs/PEN/Customers/C 1.csv\n",
      "/Users/minhthao/Desktop/MSDA/Summer 2023/Bloomberg/SPLC Images/CSVs/NBRV/Customers/C 1.csv\n",
      "/Users/minhthao/Desktop/MSDA/Summer 2023/Bloomberg/SPLC Images/CSVs/HPE/Customers/C 18.csv\n",
      "/Users/minhthao/Desktop/MSDA/Summer 2023/Bloomberg/SPLC Images/CSVs/HPE/Customers/C 19.csv\n",
      "/Users/minhthao/Desktop/MSDA/Summer 2023/Bloomberg/SPLC Images/CSVs/HPE/Customers/C 9.csv\n",
      "/Users/minhthao/Desktop/MSDA/Summer 2023/Bloomberg/SPLC Images/CSVs/HPE/Customers/C 8.csv\n",
      "/Users/minhthao/Desktop/MSDA/Summer 2023/Bloomberg/SPLC Images/CSVs/HPE/Customers/C 20.csv\n",
      "/Users/minhthao/Desktop/MSDA/Summer 2023/Bloomberg/SPLC Images/CSVs/HPE/Customers/C 3.csv\n",
      "/Users/minhthao/Desktop/MSDA/Summer 2023/Bloomberg/SPLC Images/CSVs/HPE/Customers/C 11.csv\n",
      "/Users/minhthao/Desktop/MSDA/Summer 2023/Bloomberg/SPLC Images/CSVs/HPE/Customers/C 10.csv\n",
      "/Users/minhthao/Desktop/MSDA/Summer 2023/Bloomberg/SPLC Images/CSVs/HPE/Customers/C 2.csv\n",
      "/Users/minhthao/Desktop/MSDA/Summer 2023/Bloomberg/SPLC Images/CSVs/HPE/Customers/C 12.csv\n",
      "/Users/minhthao/Desktop/MSDA/Summer 2023/Bloomberg/SPLC Images/CSVs/HPE/Customers/C 13.csv\n",
      "/Users/minhthao/Desktop/MSDA/Summer 2023/Bloomberg/SPLC Images/CSVs/HPE/Customers/C 1.csv\n",
      "/Users/minhthao/Desktop/MSDA/Summer 2023/Bloomberg/SPLC Images/CSVs/HPE/Customers/C 5.csv\n",
      "/Users/minhthao/Desktop/MSDA/Summer 2023/Bloomberg/SPLC Images/CSVs/HPE/Customers/C 17.csv\n",
      "/Users/minhthao/Desktop/MSDA/Summer 2023/Bloomberg/SPLC Images/CSVs/HPE/Customers/C 16.csv\n",
      "/Users/minhthao/Desktop/MSDA/Summer 2023/Bloomberg/SPLC Images/CSVs/HPE/Customers/C 4.csv\n",
      "/Users/minhthao/Desktop/MSDA/Summer 2023/Bloomberg/SPLC Images/CSVs/HPE/Customers/C 6.csv\n",
      "/Users/minhthao/Desktop/MSDA/Summer 2023/Bloomberg/SPLC Images/CSVs/HPE/Customers/C 14.csv\n",
      "/Users/minhthao/Desktop/MSDA/Summer 2023/Bloomberg/SPLC Images/CSVs/HPE/Customers/C 15.csv\n",
      "/Users/minhthao/Desktop/MSDA/Summer 2023/Bloomberg/SPLC Images/CSVs/HPE/Customers/C 7.csv\n"
     ]
    },
    {
     "name": "stderr",
     "output_type": "stream",
     "text": [
      "/var/folders/5d/9jrnkbxx5bb_l2v7b5pxxnfm0000gn/T/ipykernel_16119/603308844.py:17: UserWarning: This pattern is interpreted as a regular expression, and has match groups. To actually get the groups, use str.extract.\n",
      "  if sum(df['Firm Name'].str.contains(dot_pattern, '...', regex=True))>0:\n",
      "/var/folders/5d/9jrnkbxx5bb_l2v7b5pxxnfm0000gn/T/ipykernel_16119/603308844.py:19: UserWarning: This pattern is interpreted as a regular expression, and has match groups. To actually get the groups, use str.extract.\n",
      "  not_matching_pattern = ~df['Firm Name'].str.contains(dot_pattern)\n",
      "/var/folders/5d/9jrnkbxx5bb_l2v7b5pxxnfm0000gn/T/ipykernel_16119/603308844.py:17: UserWarning: This pattern is interpreted as a regular expression, and has match groups. To actually get the groups, use str.extract.\n",
      "  if sum(df['Firm Name'].str.contains(dot_pattern, '...', regex=True))>0:\n",
      "/var/folders/5d/9jrnkbxx5bb_l2v7b5pxxnfm0000gn/T/ipykernel_16119/603308844.py:17: UserWarning: This pattern is interpreted as a regular expression, and has match groups. To actually get the groups, use str.extract.\n",
      "  if sum(df['Firm Name'].str.contains(dot_pattern, '...', regex=True))>0:\n",
      "/var/folders/5d/9jrnkbxx5bb_l2v7b5pxxnfm0000gn/T/ipykernel_16119/603308844.py:17: UserWarning: This pattern is interpreted as a regular expression, and has match groups. To actually get the groups, use str.extract.\n",
      "  if sum(df['Firm Name'].str.contains(dot_pattern, '...', regex=True))>0:\n",
      "/var/folders/5d/9jrnkbxx5bb_l2v7b5pxxnfm0000gn/T/ipykernel_16119/603308844.py:17: UserWarning: This pattern is interpreted as a regular expression, and has match groups. To actually get the groups, use str.extract.\n",
      "  if sum(df['Firm Name'].str.contains(dot_pattern, '...', regex=True))>0:\n",
      "/var/folders/5d/9jrnkbxx5bb_l2v7b5pxxnfm0000gn/T/ipykernel_16119/603308844.py:17: UserWarning: This pattern is interpreted as a regular expression, and has match groups. To actually get the groups, use str.extract.\n",
      "  if sum(df['Firm Name'].str.contains(dot_pattern, '...', regex=True))>0:\n",
      "/var/folders/5d/9jrnkbxx5bb_l2v7b5pxxnfm0000gn/T/ipykernel_16119/603308844.py:17: UserWarning: This pattern is interpreted as a regular expression, and has match groups. To actually get the groups, use str.extract.\n",
      "  if sum(df['Firm Name'].str.contains(dot_pattern, '...', regex=True))>0:\n",
      "/var/folders/5d/9jrnkbxx5bb_l2v7b5pxxnfm0000gn/T/ipykernel_16119/603308844.py:17: UserWarning: This pattern is interpreted as a regular expression, and has match groups. To actually get the groups, use str.extract.\n",
      "  if sum(df['Firm Name'].str.contains(dot_pattern, '...', regex=True))>0:\n",
      "/var/folders/5d/9jrnkbxx5bb_l2v7b5pxxnfm0000gn/T/ipykernel_16119/603308844.py:17: UserWarning: This pattern is interpreted as a regular expression, and has match groups. To actually get the groups, use str.extract.\n",
      "  if sum(df['Firm Name'].str.contains(dot_pattern, '...', regex=True))>0:\n",
      "/var/folders/5d/9jrnkbxx5bb_l2v7b5pxxnfm0000gn/T/ipykernel_16119/603308844.py:17: UserWarning: This pattern is interpreted as a regular expression, and has match groups. To actually get the groups, use str.extract.\n",
      "  if sum(df['Firm Name'].str.contains(dot_pattern, '...', regex=True))>0:\n"
     ]
    },
    {
     "name": "stdout",
     "output_type": "stream",
     "text": [
      "/Users/minhthao/Desktop/MSDA/Summer 2023/Bloomberg/SPLC Images/CSVs/ANAB/Customers/C 1.csv\n",
      "/Users/minhthao/Desktop/MSDA/Summer 2023/Bloomberg/SPLC Images/CSVs/IOTS/Customers/C 1.csv\n",
      "/Users/minhthao/Desktop/MSDA/Summer 2023/Bloomberg/SPLC Images/CSVs/WAAS/Customers/C 1.csv\n",
      "/Users/minhthao/Desktop/MSDA/Summer 2023/Bloomberg/SPLC Images/CSVs/DLTH/Customers/C 1.csv\n",
      "/Users/minhthao/Desktop/MSDA/Summer 2023/Bloomberg/SPLC Images/CSVs/XCOMQ/Customers/C 1.csv\n",
      "/Users/minhthao/Desktop/MSDA/Summer 2023/Bloomberg/SPLC Images/CSVs/WVE/Customers/C 1.csv\n",
      "/Users/minhthao/Desktop/MSDA/Summer 2023/Bloomberg/SPLC Images/CSVs/VYGR/Customers/C 1.csv\n",
      "/Users/minhthao/Desktop/MSDA/Summer 2023/Bloomberg/SPLC Images/CSVs/AFIIQ/Customers/C 1.csv\n",
      "/Users/minhthao/Desktop/MSDA/Summer 2023/Bloomberg/SPLC Images/CSVs/AXSM/Customers/C 1.csv\n",
      "/Users/minhthao/Desktop/MSDA/Summer 2023/Bloomberg/SPLC Images/CSVs/APLS/Customers/C 1.csv\n",
      "/Users/minhthao/Desktop/MSDA/Summer 2023/Bloomberg/SPLC Images/CSVs/BGNE/Customers/C 1.csv\n",
      "/Users/minhthao/Desktop/MSDA/Summer 2023/Bloomberg/SPLC Images/CSVs/MRUS/Customers/C 1.csv\n"
     ]
    },
    {
     "name": "stderr",
     "output_type": "stream",
     "text": [
      "/var/folders/5d/9jrnkbxx5bb_l2v7b5pxxnfm0000gn/T/ipykernel_16119/603308844.py:17: UserWarning: This pattern is interpreted as a regular expression, and has match groups. To actually get the groups, use str.extract.\n",
      "  if sum(df['Firm Name'].str.contains(dot_pattern, '...', regex=True))>0:\n",
      "/var/folders/5d/9jrnkbxx5bb_l2v7b5pxxnfm0000gn/T/ipykernel_16119/603308844.py:17: UserWarning: This pattern is interpreted as a regular expression, and has match groups. To actually get the groups, use str.extract.\n",
      "  if sum(df['Firm Name'].str.contains(dot_pattern, '...', regex=True))>0:\n",
      "/var/folders/5d/9jrnkbxx5bb_l2v7b5pxxnfm0000gn/T/ipykernel_16119/603308844.py:17: UserWarning: This pattern is interpreted as a regular expression, and has match groups. To actually get the groups, use str.extract.\n",
      "  if sum(df['Firm Name'].str.contains(dot_pattern, '...', regex=True))>0:\n"
     ]
    }
   ],
   "source": [
    "for ticker in tickers:\n",
    "    rootdir = \"/Users/minhthao/Desktop/MSDA/Summer 2023/Bloomberg/SPLC Images/CSVs/\" + ticker + \"/Customers\"\n",
    "    file_list = listdirs(rootdir)\n",
    "    if file_list == []:\n",
    "        continue    \n",
    "    df = pd.DataFrame()\n",
    "    for path in file_list:\n",
    "        data = pd.read_csv(path)\n",
    "#         df.append(supplier_file(data))\n",
    "        df = pd.concat([df, customer_file(data)], axis=0)\n",
    "    \n",
    "    # long name will end with \"...\"\n",
    "    dot_pattern = r'(\\.|\\.\\.|\\.\\.\\.|\\s\\.|\\s\\.\\.|\\s\\.\\.\\.)$'\n",
    "    df['Customer Name'] = df['Customer Name'].str.replace(dot_pattern, '...', regex=True)\n",
    "    df['Industry'] = df['Industry'].str.replace(dot_pattern, '...', regex=True)\n",
    "    # treat long name of Firm Name\n",
    "    if sum(df['Firm Name'].str.contains(dot_pattern, '...', regex=True))>0:\n",
    "        df['Firm Name'] = df['Firm Name'].str.replace(dot_pattern, '...', regex=True)\n",
    "        not_matching_pattern = ~df['Firm Name'].str.contains(dot_pattern)\n",
    "        df.loc[not_matching_pattern, 'Firm Name'] = df.loc[not_matching_pattern, 'Firm Name'] + '...'    \n",
    "    df = df.drop_duplicates(subset=['Customer Name', 'Industry','Source']).reset_index(drop=True)\n",
    "    df.insert(0, \"ticker\", ticker)\n",
    "    df.to_csv(\"/Users/minhthao/Desktop/MSDA/Summer 2023/Bloomberg/SPLC Images/CSVs/\" + ticker +\"/customers.csv\",index = False)        \n",
    "    "
   ]
  },
  {
   "cell_type": "code",
   "execution_count": 27,
   "id": "e4a2a15d",
   "metadata": {},
   "outputs": [
    {
     "data": {
      "text/plain": [
       "'/Users/minhthao/Desktop/MSDA/Summer 2023/Bloomberg/SPLC Images/CSVs/BSGM/Customers/S 1.csv'"
      ]
     },
     "execution_count": 27,
     "metadata": {},
     "output_type": "execute_result"
    }
   ],
   "source": [
    "path"
   ]
  },
  {
   "cell_type": "code",
   "execution_count": 24,
   "id": "8681b3d9",
   "metadata": {},
   "outputs": [
    {
     "data": {
      "text/html": [
       "<div>\n",
       "<style scoped>\n",
       "    .dataframe tbody tr th:only-of-type {\n",
       "        vertical-align: middle;\n",
       "    }\n",
       "\n",
       "    .dataframe tbody tr th {\n",
       "        vertical-align: top;\n",
       "    }\n",
       "\n",
       "    .dataframe thead th {\n",
       "        text-align: right;\n",
       "    }\n",
       "</style>\n",
       "<table border=\"1\" class=\"dataframe\">\n",
       "  <thead>\n",
       "    <tr style=\"text-align: right;\">\n",
       "      <th></th>\n",
       "      <th>Company</th>\n",
       "      <th>Industry</th>\n",
       "      <th>Mkt Cap (M)</th>\n",
       "      <th>Relationship Size (M)</th>\n",
       "      <th>% Cost</th>\n",
       "      <th>Cost Cat</th>\n",
       "      <th>Supplier Rev</th>\n",
       "      <th>Source</th>\n",
       "      <th>Size Source</th>\n",
       "    </tr>\n",
       "  </thead>\n",
       "  <tbody>\n",
       "    <tr>\n",
       "      <th>0</th>\n",
       "      <td>VWR Corp</td>\n",
       "      <td>Medical Equipment &amp; Devices</td>\n",
       "      <td>--</td>\n",
       "      <td>--</td>\n",
       "      <td>--</td>\n",
       "      <td>--</td>\n",
       "      <td>--</td>\n",
       "      <td>--</td>\n",
       "      <td>--</td>\n",
       "    </tr>\n",
       "    <tr>\n",
       "      <th>1</th>\n",
       "      <td>FirstEnergy Corp</td>\n",
       "      <td>Electric Utilities</td>\n",
       "      <td>21,982.62</td>\n",
       "      <td>--</td>\n",
       "      <td>--</td>\n",
       "      <td>--</td>\n",
       "      <td>--</td>\n",
       "      <td>Supplier's 2021A CF</td>\n",
       "      <td>--</td>\n",
       "    </tr>\n",
       "  </tbody>\n",
       "</table>\n",
       "</div>"
      ],
      "text/plain": [
       "            Company                     Industry Mkt Cap (M)  \\\n",
       "0          VWR Corp  Medical Equipment & Devices          --   \n",
       "1  FirstEnergy Corp           Electric Utilities   21,982.62   \n",
       "\n",
       "  Relationship Size (M) % Cost Cost Cat Supplier Rev               Source  \\\n",
       "0                    --     --       --           --                   --   \n",
       "1                    --     --       --           --  Supplier's 2021A CF   \n",
       "\n",
       "  Size Source  \n",
       "0          --  \n",
       "1          --  "
      ]
     },
     "execution_count": 24,
     "metadata": {},
     "output_type": "execute_result"
    }
   ],
   "source": [
    "data"
   ]
  },
  {
   "cell_type": "code",
   "execution_count": 226,
   "id": "d0ad0c99",
   "metadata": {},
   "outputs": [
    {
     "data": {
      "text/plain": [
       "(array([], dtype=int64),)"
      ]
     },
     "execution_count": 226,
     "metadata": {},
     "output_type": "execute_result"
    }
   ],
   "source": [
    "np.where(tickers==\"DSKE\")"
   ]
  },
  {
   "cell_type": "code",
   "execution_count": 205,
   "id": "77540a56",
   "metadata": {
    "scrolled": false
   },
   "outputs": [
    {
     "data": {
      "text/html": [
       "<div>\n",
       "<style scoped>\n",
       "    .dataframe tbody tr th:only-of-type {\n",
       "        vertical-align: middle;\n",
       "    }\n",
       "\n",
       "    .dataframe tbody tr th {\n",
       "        vertical-align: top;\n",
       "    }\n",
       "\n",
       "    .dataframe thead th {\n",
       "        text-align: right;\n",
       "    }\n",
       "</style>\n",
       "<table border=\"1\" class=\"dataframe\">\n",
       "  <thead>\n",
       "    <tr style=\"text-align: right;\">\n",
       "      <th></th>\n",
       "      <th>ticker</th>\n",
       "      <th>Firm Name</th>\n",
       "      <th>Supplier Name</th>\n",
       "      <th>Industry</th>\n",
       "      <th>Mkt Cap (M)</th>\n",
       "      <th>Relationship Size (M)</th>\n",
       "      <th>% Cost</th>\n",
       "      <th>Cost Cat</th>\n",
       "      <th>Supplier Rev</th>\n",
       "      <th>Source</th>\n",
       "    </tr>\n",
       "  </thead>\n",
       "  <tbody>\n",
       "    <tr>\n",
       "      <th>0</th>\n",
       "      <td>ACB</td>\n",
       "      <td>Aurora Cannabis Inc</td>\n",
       "      <td>Strainprint Technologies Ltd</td>\n",
       "      <td>--</td>\n",
       "      <td>--</td>\n",
       "      <td>--</td>\n",
       "      <td>--</td>\n",
       "      <td>--</td>\n",
       "      <td>--</td>\n",
       "      <td>NaN</td>\n",
       "    </tr>\n",
       "    <tr>\n",
       "      <th>1</th>\n",
       "      <td>ACB</td>\n",
       "      <td>Aurora Cannabis Inc</td>\n",
       "      <td>PAX Labs Inc</td>\n",
       "      <td>--</td>\n",
       "      <td>--</td>\n",
       "      <td>--</td>\n",
       "      <td>--</td>\n",
       "      <td>--</td>\n",
       "      <td>--</td>\n",
       "      <td>NaN</td>\n",
       "    </tr>\n",
       "    <tr>\n",
       "      <th>2</th>\n",
       "      <td>ACB</td>\n",
       "      <td>Aurora Cannabis Inc</td>\n",
       "      <td>EnWave Corp</td>\n",
       "      <td>Machinery</td>\n",
       "      <td>40.90</td>\n",
       "      <td>--</td>\n",
       "      <td>--</td>\n",
       "      <td>--</td>\n",
       "      <td>--</td>\n",
       "      <td>2020</td>\n",
       "    </tr>\n",
       "    <tr>\n",
       "      <th>3</th>\n",
       "      <td>ACB</td>\n",
       "      <td>Aurora Cannabis Inc</td>\n",
       "      <td>CTT Pharmaceutical Holdings Inc</td>\n",
       "      <td>Biotech &amp; Pharma</td>\n",
       "      <td>0.28</td>\n",
       "      <td>--</td>\n",
       "      <td>--</td>\n",
       "      <td>--</td>\n",
       "      <td>--</td>\n",
       "      <td>NaN</td>\n",
       "    </tr>\n",
       "    <tr>\n",
       "      <th>4</th>\n",
       "      <td>ACB</td>\n",
       "      <td>Aurora Cannabis Inc</td>\n",
       "      <td>Xcel Energy Inc</td>\n",
       "      <td>Electric Utilities</td>\n",
       "      <td>44,883.36</td>\n",
       "      <td>--</td>\n",
       "      <td>--</td>\n",
       "      <td>--</td>\n",
       "      <td>--</td>\n",
       "      <td>2021</td>\n",
       "    </tr>\n",
       "    <tr>\n",
       "      <th>5</th>\n",
       "      <td>ACB</td>\n",
       "      <td>Aurora Cannabis Inc</td>\n",
       "      <td>Valens Co Inc/The</td>\n",
       "      <td>Tobacco &amp; Cannabis</td>\n",
       "      <td>--</td>\n",
       "      <td>--</td>\n",
       "      <td>--</td>\n",
       "      <td>--</td>\n",
       "      <td>--</td>\n",
       "      <td>NaN</td>\n",
       "    </tr>\n",
       "    <tr>\n",
       "      <th>6</th>\n",
       "      <td>ACB</td>\n",
       "      <td>Aurora Cannabis Inc</td>\n",
       "      <td>Fortis Inc/Canada</td>\n",
       "      <td>Electric Utilities</td>\n",
       "      <td>27,221.91</td>\n",
       "      <td>--</td>\n",
       "      <td>--</td>\n",
       "      <td>--</td>\n",
       "      <td>--</td>\n",
       "      <td>2021</td>\n",
       "    </tr>\n",
       "    <tr>\n",
       "      <th>7</th>\n",
       "      <td>ACB</td>\n",
       "      <td>Aurora Cannabis Inc</td>\n",
       "      <td>American Software Inc/GA</td>\n",
       "      <td>Software</td>\n",
       "      <td>471.78</td>\n",
       "      <td>--</td>\n",
       "      <td>--</td>\n",
       "      <td>--</td>\n",
       "      <td>--</td>\n",
       "      <td>NaN</td>\n",
       "    </tr>\n",
       "    <tr>\n",
       "      <th>8</th>\n",
       "      <td>ACB</td>\n",
       "      <td>Aurora Cannabis Inc</td>\n",
       "      <td>WEC Energy Group Inc</td>\n",
       "      <td>Electric Utilities</td>\n",
       "      <td>36,732.28</td>\n",
       "      <td>--</td>\n",
       "      <td>--</td>\n",
       "      <td>--</td>\n",
       "      <td>--</td>\n",
       "      <td>2021</td>\n",
       "    </tr>\n",
       "  </tbody>\n",
       "</table>\n",
       "</div>"
      ],
      "text/plain": [
       "  ticker            Firm Name                    Supplier Name  \\\n",
       "0    ACB  Aurora Cannabis Inc     Strainprint Technologies Ltd   \n",
       "1    ACB  Aurora Cannabis Inc                     PAX Labs Inc   \n",
       "2    ACB  Aurora Cannabis Inc                      EnWave Corp   \n",
       "3    ACB  Aurora Cannabis Inc  CTT Pharmaceutical Holdings Inc   \n",
       "4    ACB  Aurora Cannabis Inc                  Xcel Energy Inc   \n",
       "5    ACB  Aurora Cannabis Inc                Valens Co Inc/The   \n",
       "6    ACB  Aurora Cannabis Inc                Fortis Inc/Canada   \n",
       "7    ACB  Aurora Cannabis Inc         American Software Inc/GA   \n",
       "8    ACB  Aurora Cannabis Inc             WEC Energy Group Inc   \n",
       "\n",
       "             Industry Mkt Cap (M) Relationship Size (M) % Cost Cost Cat  \\\n",
       "0                  --          --                    --     --       --   \n",
       "1                  --          --                    --     --       --   \n",
       "2           Machinery       40.90                    --     --       --   \n",
       "3    Biotech & Pharma        0.28                    --     --       --   \n",
       "4  Electric Utilities   44,883.36                    --     --       --   \n",
       "5  Tobacco & Cannabis          --                    --     --       --   \n",
       "6  Electric Utilities   27,221.91                    --     --       --   \n",
       "7            Software      471.78                    --     --       --   \n",
       "8  Electric Utilities   36,732.28                    --     --       --   \n",
       "\n",
       "  Supplier Rev Source  \n",
       "0           --    NaN  \n",
       "1           --    NaN  \n",
       "2           --   2020  \n",
       "3           --    NaN  \n",
       "4           --   2021  \n",
       "5           --    NaN  \n",
       "6           --   2021  \n",
       "7           --    NaN  \n",
       "8           --   2021  "
      ]
     },
     "execution_count": 205,
     "metadata": {},
     "output_type": "execute_result"
    }
   ],
   "source": [
    "df"
   ]
  },
  {
   "cell_type": "markdown",
   "id": "39dde3c7",
   "metadata": {},
   "source": [
    "## Convert to Dict"
   ]
  },
  {
   "cell_type": "raw",
   "id": "7064ce42",
   "metadata": {},
   "source": [
    "# Create a DataFrame\n",
    "data = {'Column1': ['This is a test string ...', 'Another example...', 'No pattern here',\"Real Estate Owners & Deve.\"]}\n",
    "df = pd.DataFrame(data)\n",
    "\n",
    "# Use regex to replace \"..\" or \" ...\" at the end of strings\n",
    "df['Column1'] = df['Column1'].str.replace(r'(\\.|\\.\\.|\\s\\.\\.\\.)$', '...', regex=True)\n",
    "\n",
    "# Print the updated DataFrame\n",
    "print(df)"
   ]
  }
 ],
 "metadata": {
  "kernelspec": {
   "display_name": "Python 3 (ipykernel)",
   "language": "python",
   "name": "python3"
  },
  "language_info": {
   "codemirror_mode": {
    "name": "ipython",
    "version": 3
   },
   "file_extension": ".py",
   "mimetype": "text/x-python",
   "name": "python",
   "nbconvert_exporter": "python",
   "pygments_lexer": "ipython3",
   "version": "3.9.12"
  }
 },
 "nbformat": 4,
 "nbformat_minor": 5
}
